{
  "cells": [
    {
      "cell_type": "markdown",
      "metadata": {
        "id": "zYEAPNgSl41V"
      },
      "source": [
        "# Assignment 3\n",
        "\n",
        "- Name: **Arnab Sen**\n",
        "- Roll: **510519006**\n",
        "- Date: **Sept 5, 2022**\n",
        "\n",
        "## (i) Download data"
      ]
    },
    {
      "cell_type": "code",
      "execution_count": null,
      "metadata": {
        "id": "SI5aKRWQmE7u"
      },
      "outputs": [],
      "source": [
        "import pandas as pd\n",
        "from sklearn.preprocessing import OneHotEncoder\n",
        "from sklearn.preprocessing import StandardScaler\n",
        "from sklearn.model_selection import train_test_split\n",
        "from sklearn.linear_model import LogisticRegression\n",
        "from sklearn.tree import DecisionTreeClassifier\n",
        "import matplotlib.pyplot as plt\n",
        "from google.colab import drive"
      ]
    },
    {
      "cell_type": "code",
      "execution_count": null,
      "metadata": {
        "colab": {
          "base_uri": "https://localhost:8080/"
        },
        "id": "gO2RRY-2l_5w",
        "outputId": "cb40aa61-4749-4ba9-dcf3-e98045bcee75"
      },
      "outputs": [],
      "source": [
        "drive.mount('/content/drive')\n",
        "BASE_PATH = '/content/drive/MyDrive/Colab_Notebooks/ML_DRIVE/Assign_3/dataset'"
      ]
    },
    {
      "cell_type": "code",
      "execution_count": null,
      "metadata": {
        "colab": {
          "base_uri": "https://localhost:8080/"
        },
        "id": "DwMvMs9FmaPI",
        "outputId": "09185e19-0b1d-4be4-be3c-1777d21170a8"
      },
      "outputs": [],
      "source": [
        "dataset = pd.read_csv(f\"{BASE_PATH}/train_and_test2.csv\")\n",
        "print(\"Dataset shape:\", dataset.shape)\n",
        "print(\"Dataset columns:\", dataset.columns)"
      ]
    },
    {
      "cell_type": "code",
      "execution_count": null,
      "metadata": {
        "colab": {
          "base_uri": "https://localhost:8080/"
        },
        "id": "TJNEsgnw482r",
        "outputId": "05d69dab-c24a-41b7-eb87-8b4d83930419"
      },
      "outputs": [],
      "source": [
        "dataset.info()"
      ]
    },
    {
      "cell_type": "code",
      "execution_count": null,
      "metadata": {
        "colab": {
          "base_uri": "https://localhost:8080/"
        },
        "id": "lw_GgNNk5R6K",
        "outputId": "ac8a131c-fd67-4d45-ee34-6d60568596fd"
      },
      "outputs": [],
      "source": [
        "cols_to_be_removed = ['Passengerid', 'zero', 'zero.1', 'zero.2', 'zero.3', 'zero.4', 'zero.5', 'zero.6', 'zero.7', 'zero.8', 'zero.9', 'zero.10', 'zero.11', 'zero.12', 'zero.13', 'zero.14', 'zero.15', 'zero.16', 'zero.17', 'zero.18']\n",
        "dataset = dataset.drop(cols_to_be_removed, axis=1)\n",
        "dataset.info()"
      ]
    },
    {
      "cell_type": "code",
      "execution_count": null,
      "metadata": {
        "colab": {
          "base_uri": "https://localhost:8080/"
        },
        "id": "40NyEG-Z6B_9",
        "outputId": "6d7ca533-5117-4461-9ddc-7730d06ababc"
      },
      "outputs": [],
      "source": [
        "dataset.shape"
      ]
    },
    {
      "cell_type": "code",
      "execution_count": null,
      "metadata": {
        "colab": {
          "base_uri": "https://localhost:8080/",
          "height": 206
        },
        "id": "RMXCZCpU6GR0",
        "outputId": "8d85a765-8b4c-461e-bd1c-ebde86d72fd4"
      },
      "outputs": [],
      "source": [
        "dataset.head()"
      ]
    },
    {
      "cell_type": "code",
      "execution_count": null,
      "metadata": {
        "colab": {
          "base_uri": "https://localhost:8080/"
        },
        "id": "Ihr7ItgD80q9",
        "outputId": "57f2b0b3-6529-40b5-d697-343dd18be80f"
      },
      "outputs": [],
      "source": [
        "encoded_cols = [\"Pclass\", \"Embarked\"]\n",
        "dataset = pd.get_dummies(dataset, columns=encoded_cols)\n",
        "dataset.info()"
      ]
    },
    {
      "cell_type": "code",
      "execution_count": null,
      "metadata": {
        "id": "ppdANVou6s5s"
      },
      "outputs": [],
      "source": [
        "X = dataset.drop('2urvived', axis=1)\n",
        "y = dataset['2urvived']"
      ]
    },
    {
      "cell_type": "code",
      "execution_count": null,
      "metadata": {
        "id": "vTnFi5dk6zxK"
      },
      "outputs": [],
      "source": [
        "X_train, X_test, y_train, y_test = train_test_split(X, y)"
      ]
    },
    {
      "cell_type": "code",
      "execution_count": null,
      "metadata": {
        "colab": {
          "base_uri": "https://localhost:8080/"
        },
        "id": "HextyYQY69l8",
        "outputId": "defe5c20-0fef-460f-ef50-73c504d7a8b9"
      },
      "outputs": [],
      "source": [
        "print(f\"Train Dataset Shape: X_train = {X_train.shape} y_train = {y_train.shape}\")"
      ]
    },
    {
      "cell_type": "code",
      "execution_count": null,
      "metadata": {
        "colab": {
          "base_uri": "https://localhost:8080/"
        },
        "id": "P_HLCI5b7UGu",
        "outputId": "e8632f35-79db-48cc-bccf-9584f48721b7"
      },
      "outputs": [],
      "source": [
        "print(f\"Test Dataset Shape: X_test = {X_test.shape} y_test = {y_test.shape}\")"
      ]
    },
    {
      "cell_type": "markdown",
      "metadata": {
        "id": "BktkcnlfKbqi"
      },
      "source": [
        "## Task 2"
      ]
    },
    {
      "cell_type": "code",
      "execution_count": null,
      "metadata": {
        "id": "btZxWcgU73Ff"
      },
      "outputs": [],
      "source": [
        "def train_model_with_inv_regu(X_train, y_train, X_test, y_test, C=1.0):\n",
        "  lr = LogisticRegression(max_iter = 10000, C=C)\n",
        "  lr.fit(X_train, y_train)\n",
        "  return lr.score(X_test, y_test)"
      ]
    },
    {
      "cell_type": "code",
      "execution_count": null,
      "metadata": {
        "colab": {
          "base_uri": "https://localhost:8080/",
          "height": 295
        },
        "id": "hgOJVWWs8Ow9",
        "outputId": "94507a3a-5b70-444a-e955-e174183783b4"
      },
      "outputs": [],
      "source": [
        "inv_reg = [0.1, 0.25, 0.5, 0.75, 0.9]\n",
        "accuracy = []\n",
        "\n",
        "for ir in inv_reg:\n",
        "  accuracy.append(train_model_with_inv_regu(X_train, y_train, X_test, y_test, ir))\n",
        "\n",
        "plt.plot(inv_reg, accuracy, '.-')\n",
        "plt.title(\"Inverse Regularization vs Accuracy\")\n",
        "plt.xlabel(\"Inv. Regularization\")\n",
        "plt.ylabel(\"Accuracy\")\n",
        "plt.show()"
      ]
    },
    {
      "cell_type": "markdown",
      "metadata": {
        "id": "H589iqp9Kwyx"
      },
      "source": [
        "## Task 3"
      ]
    },
    {
      "cell_type": "code",
      "execution_count": null,
      "metadata": {
        "id": "looGRChC_bVl"
      },
      "outputs": [],
      "source": [
        "def classifierHelper(\n",
        "    X_train,\n",
        "    y_train,\n",
        "    X_test,\n",
        "    y_test,\n",
        "    max_depth\n",
        "):\n",
        "\n",
        "  max_depths = range(1, max_depth+1)\n",
        "  accuracies = []\n",
        "\n",
        "  for md in max_depths:\n",
        "    classifier_model = DecisionTreeClassifier(max_depth=md).fit(X_train, y_train)\n",
        "    accuracy = classifier_model.score(X_test, y_test)\n",
        "    accuracies.append(accuracy)\n",
        "  \n",
        "  return [max_depths, accuracies]"
      ]
    },
    {
      "cell_type": "code",
      "execution_count": null,
      "metadata": {
        "colab": {
          "base_uri": "https://localhost:8080/",
          "height": 295
        },
        "id": "U1VBbUmx_iIY",
        "outputId": "ad8983bd-8823-47f0-9f91-bdaf02a986f7"
      },
      "outputs": [],
      "source": [
        "result = classifierHelper(X_train, y_train, X_test, y_test, 30)\n",
        "plt.plot(result[0], result[1], \".-\")\n",
        "plt.title(f\"Max Depth upto - {40} vs Accuracy\")\n",
        "plt.xlabel(\"Max Depth\")\n",
        "plt.ylabel(\"Accuracy\")\n",
        "plt.show()"
      ]
    }
  ],
  "metadata": {
    "colab": {
      "provenance": []
    },
    "kernelspec": {
      "display_name": "Python 3.10.6 64-bit",
      "language": "python",
      "name": "python3"
    },
    "language_info": {
      "name": "python",
      "version": "3.10.6"
    },
    "vscode": {
      "interpreter": {
        "hash": "e7370f93d1d0cde622a1f8e1c04877d8463912d04d973331ad4851f04de6915a"
      }
    }
  },
  "nbformat": 4,
  "nbformat_minor": 0
}
