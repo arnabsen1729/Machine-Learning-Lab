{
  "cells": [
    {
      "cell_type": "markdown",
      "metadata": {
        "id": "STtKNm9LC9Ry"
      },
      "source": [
        "# Assignment 3 (Forest Cover)\n",
        "\n",
        "- Name: **Arnab Sen**\n",
        "- Roll: **510519006**\n",
        "- Date: **Sept 5, 2022**"
      ]
    },
    {
      "cell_type": "markdown",
      "metadata": {
        "id": "3w8Uc8TWK0gV"
      },
      "source": [
        "## Task 5"
      ]
    },
    {
      "cell_type": "code",
      "execution_count": null,
      "metadata": {
        "id": "QQyPFUlVCvR2"
      },
      "outputs": [],
      "source": [
        "from google.colab import drive\n",
        "import pandas as pd\n",
        "from sklearn.model_selection import train_test_split\n",
        "from sklearn.svm import LinearSVC\n",
        "from sklearn.metrics import confusion_matrix\n",
        "from sklearn.metrics import f1_score\n",
        "import matplotlib.pyplot as plt\n",
        "import seaborn as sns\n",
        "from collections import Counter\n",
        "from imblearn.under_sampling import RandomUnderSampler\n",
        "from sklearn.linear_model import LogisticRegression\n",
        "from sklearn.tree import DecisionTreeClassifier\n",
        "from sklearn.preprocessing import StandardScaler\n",
        "from sklearn.svm import SVC\n",
        "from sklearn.pipeline import make_pipeline\n",
        "from sklearn.metrics import confusion_matrix\n",
        "from sklearn.preprocessing import StandardScaler"
      ]
    },
    {
      "cell_type": "code",
      "execution_count": null,
      "metadata": {
        "colab": {
          "base_uri": "https://localhost:8080/"
        },
        "id": "toQ1uGFTDVo6",
        "outputId": "2cd7f972-411e-494b-8df4-0c1196a1cbb8"
      },
      "outputs": [],
      "source": [
        "drive.mount('/content/drive')\n",
        "BASE_PATH = '/content/drive/MyDrive/Colab_Notebooks/ML_DRIVE/Assign_3/dataset'"
      ]
    },
    {
      "cell_type": "code",
      "execution_count": null,
      "metadata": {
        "colab": {
          "base_uri": "https://localhost:8080/"
        },
        "id": "zYLG2kYdDfv4",
        "outputId": "4cf761a0-a237-4235-ea0e-aabce0e4a941"
      },
      "outputs": [],
      "source": [
        "dataset = pd.read_csv(f\"{BASE_PATH}/covtype.csv\")\n",
        "print(\"Dataset shape:\", dataset.shape)\n",
        "print(\"Dataset columns:\", dataset.columns)"
      ]
    },
    {
      "cell_type": "code",
      "execution_count": null,
      "metadata": {
        "colab": {
          "base_uri": "https://localhost:8080/"
        },
        "id": "FUXqih3mQzML",
        "outputId": "434e0e3f-2b71-47e4-8bf3-10a6640d6dd4"
      },
      "outputs": [],
      "source": [
        "# Let's check for missing values once\n",
        "dataset.isnull().sum()"
      ]
    },
    {
      "cell_type": "code",
      "execution_count": null,
      "metadata": {
        "colab": {
          "base_uri": "https://localhost:8080/"
        },
        "id": "zR6w01dhD6-i",
        "outputId": "3ea0fd9b-ffb1-4cf2-e9a2-73f7be43f632"
      },
      "outputs": [],
      "source": [
        "dataset.info()"
      ]
    },
    {
      "cell_type": "code",
      "execution_count": null,
      "metadata": {
        "id": "PkJ8Wyt-Xn_d"
      },
      "outputs": [],
      "source": [
        "scaled_cols = ['Elevation', 'Aspect', 'Slope', 'Horizontal_Distance_To_Hydrology',\n",
        "'Vertical_Distance_To_Hydrology', 'Horizontal_Distance_To_Roadways',\n",
        "'Hillshade_9am', 'Hillshade_Noon', 'Hillshade_3pm',\n",
        "'Horizontal_Distance_To_Fire_Points']\n",
        "for col in scaled_cols:\n",
        "  scaler = StandardScaler()\n",
        "  dataset[[col]] = pd.DataFrame(\n",
        "    data=scaler.fit_transform(dataset[[col]]),\n",
        "    index=dataset.index,\n",
        "    columns=[col]\n",
        "  )"
      ]
    },
    {
      "cell_type": "code",
      "execution_count": null,
      "metadata": {
        "id": "qT2waaCMSF9X"
      },
      "outputs": [],
      "source": [
        "def plot_count(y):\n",
        "  before_dist = Counter(y)\n",
        "  print(\"Before undersampling: \", before_dist)\n",
        "  plt.xlabel(\"Count\")\n",
        "  plt.ylabel(\"Cover Type\")\n",
        "  plt.title(\"Count of each cover type\")\n",
        "  plt.bar(before_dist.keys(), before_dist.values())"
      ]
    },
    {
      "cell_type": "code",
      "execution_count": null,
      "metadata": {
        "colab": {
          "base_uri": "https://localhost:8080/",
          "height": 313
        },
        "id": "emIZVjOsIKUK",
        "outputId": "4d253938-51cb-41b3-d18b-cbaebdf0a67d"
      },
      "outputs": [],
      "source": [
        "X = dataset.drop('Cover_Type', axis = 1)\n",
        "y = dataset['Cover_Type']\n",
        "\n",
        "plot_count(y)"
      ]
    },
    {
      "cell_type": "code",
      "execution_count": null,
      "metadata": {
        "colab": {
          "base_uri": "https://localhost:8080/",
          "height": 313
        },
        "id": "c8KSPHItYyuF",
        "outputId": "1536a077-378b-42b3-f328-c921faf0e4b9"
      },
      "outputs": [],
      "source": [
        "# define undersampling strategy\n",
        "undersample = RandomUnderSampler(sampling_strategy='not minority')\n",
        "X, y = undersample.fit_resample(X, y)\n",
        "plot_count(y)"
      ]
    },
    {
      "cell_type": "code",
      "execution_count": null,
      "metadata": {
        "colab": {
          "base_uri": "https://localhost:8080/"
        },
        "id": "Cb0O_nrYYq57",
        "outputId": "91ba48da-fc2f-4268-ad82-8f72281f52c0"
      },
      "outputs": [],
      "source": [
        "X_train, _X, y_train, _y = train_test_split(X, y, train_size=0.8)\n",
        "\n",
        "X_test, X_val, y_test, y_val = train_test_split(_X, _y, train_size = 0.5)\n",
        "\n",
        "print(X_train.shape)\n",
        "print(X_test.shape)\n",
        "print(X_val.shape)"
      ]
    },
    {
      "cell_type": "code",
      "execution_count": null,
      "metadata": {
        "colab": {
          "base_uri": "https://localhost:8080/"
        },
        "id": "V9xEADBFBAnR",
        "outputId": "dbf99a5e-4a24-480a-806b-ba51359cbda2"
      },
      "outputs": [],
      "source": [
        "clf = make_pipeline(StandardScaler(), SVC(gamma='auto'))\n",
        "clf.fit(X_train, y_train)\n",
        "pred = clf.predict(X_test)\n",
        "cm = confusion_matrix(y_test, pred)\n",
        "f1 = f1_score(y_test, pred, average='macro')\n",
        "accuracy = clf.score(X_test, y_test)\n",
        "print(f\"Accuracy = {accuracy}\\n\")\n",
        "print(f\"F1 Score = {f1}\\n\")"
      ]
    },
    {
      "cell_type": "markdown",
      "metadata": {
        "id": "Dn97YjoZK7do"
      },
      "source": [
        "## Task 6"
      ]
    },
    {
      "cell_type": "code",
      "execution_count": null,
      "metadata": {
        "colab": {
          "base_uri": "https://localhost:8080/",
          "height": 295
        },
        "id": "Ba0BH-WkaNLw",
        "outputId": "a40cce39-ccf6-4c49-9dac-c9d5c260b39a"
      },
      "outputs": [],
      "source": [
        "sns.heatmap(cm)\n",
        "plt.title('HeatMap')\n",
        "plt.ylabel('Actual Value')\n",
        "plt.xlabel('Predicted Value')\n",
        "plt.show()"
      ]
    },
    {
      "cell_type": "code",
      "execution_count": null,
      "metadata": {
        "id": "c3WYQsD9JkQc"
      },
      "outputs": [],
      "source": [
        "sub_X_train = X.iloc[:, 0:2]\n",
        "sub_y_train = y\n",
        "\n",
        "sub_train = sub_X_train.join(sub_y_train)\n",
        "sub_train = sub_train[sub_train['Cover_Type'].isin([1,2,3])]\n",
        "\n",
        "sub_X = sub_train.drop('Cover_Type', axis = 1)\n",
        "sub_y = sub_train['Cover_Type']\n"
      ]
    },
    {
      "cell_type": "code",
      "execution_count": null,
      "metadata": {
        "colab": {
          "base_uri": "https://localhost:8080/",
          "height": 313
        },
        "id": "fBxgmZD8lixz",
        "outputId": "e262c370-c632-4926-9ac8-53fab6198328"
      },
      "outputs": [],
      "source": [
        "plot_count(sub_y)"
      ]
    },
    {
      "cell_type": "code",
      "execution_count": null,
      "metadata": {
        "id": "yAmGXSZek3Hx"
      },
      "outputs": [],
      "source": [
        "X_train, X_test, y_train, y_test = train_test_split(sub_X, sub_y, train_size=0.8)"
      ]
    },
    {
      "cell_type": "code",
      "execution_count": null,
      "metadata": {
        "colab": {
          "base_uri": "https://localhost:8080/"
        },
        "id": "2ehACGS7mP-s",
        "outputId": "04845448-af35-49a6-da41-333e97f04730"
      },
      "outputs": [],
      "source": [
        "regr = LogisticRegression(multi_class='multinomial')\n",
        "model = regr.fit(X_train, y_train)\n",
        "y_pred_test = model.predict(X_test)\n",
        "y_pred_train = model.predict(X_train)\n",
        "print(f\"Accuracy (Test) = {model.score(X_test, y_test)}\")\n",
        "print(f\"Accuracy (Train) = {model.score(X_train, y_train)}\")\n",
        "print(f\"F1 Score (Test)= {f1_score(y_test, y_pred_test, average='macro')}\")\n",
        "print(f\"F1 Score (Train)= {f1_score(y_train, y_pred_train, average='macro')}\")"
      ]
    },
    {
      "cell_type": "code",
      "execution_count": null,
      "metadata": {
        "colab": {
          "base_uri": "https://localhost:8080/",
          "height": 424
        },
        "id": "X7o79NoIxZwv",
        "outputId": "6508cb63-424b-4d51-d0fc-f22ffb4b7506"
      },
      "outputs": [],
      "source": [
        "df_train = X_train\n",
        "df_train['CoverType'] = y_train\n",
        "df_train"
      ]
    },
    {
      "cell_type": "code",
      "execution_count": null,
      "metadata": {
        "colab": {
          "base_uri": "https://localhost:8080/",
          "height": 424
        },
        "id": "rES-0tqfx_pc",
        "outputId": "1bfd6e6d-8a5a-4382-a1dc-d47622773028"
      },
      "outputs": [],
      "source": [
        "df_test = X_test\n",
        "df_test['CoverType'] = y_test\n",
        "df_test"
      ]
    },
    {
      "cell_type": "code",
      "execution_count": null,
      "metadata": {
        "colab": {
          "base_uri": "https://localhost:8080/",
          "height": 424
        },
        "id": "ZrFoE4xX03mZ",
        "outputId": "2f7bc317-e67a-4a74-ce84-71dbf74b50ea"
      },
      "outputs": [],
      "source": [
        "df_pred_test = X_test\n",
        "df_pred_test['CoverType'] = y_pred_test\n",
        "df_pred_test"
      ]
    },
    {
      "cell_type": "code",
      "execution_count": null,
      "metadata": {
        "colab": {
          "base_uri": "https://localhost:8080/",
          "height": 424
        },
        "id": "hdI1f5TJRa36",
        "outputId": "fac27dee-d557-49f6-c159-9639b1511792"
      },
      "outputs": [],
      "source": [
        "df_pred_train = X_train\n",
        "df_pred_train['CoverType'] = y_pred_train\n",
        "df_pred_train"
      ]
    },
    {
      "cell_type": "code",
      "execution_count": null,
      "metadata": {
        "id": "xt9-sKq_xuPr"
      },
      "outputs": [],
      "source": [
        "df_trains = [df_train[df_train['CoverType'] == i] for i in [1, 2, 3]]\n",
        "df_tests = [df_test[df_test['CoverType'] == i] for i in [1, 2, 3]]\n",
        "df_pred_tests = [df_pred_test[df_pred_test['CoverType'] == i] for i in [1, 2, 3]]\n",
        "df_pred_trains = [df_pred_train[df_pred_train['CoverType'] == i] for i in [1, 2, 3]]"
      ]
    },
    {
      "cell_type": "markdown",
      "metadata": {
        "id": "JOndmb3WK_89"
      },
      "source": [
        "## Task 7"
      ]
    },
    {
      "cell_type": "code",
      "execution_count": null,
      "metadata": {
        "id": "UEuJnbiEqV5K"
      },
      "outputs": [],
      "source": [
        "def plot_scatter(title, dfs):\n",
        "  plt.xlabel(\"Aspect\")\n",
        "  plt.ylabel(\"Elevation\")\n",
        "  plt.title(title)\n",
        "  for _df in dfs:\n",
        "    plt.scatter(_df['Aspect'], _df['Elevation'])"
      ]
    },
    {
      "cell_type": "code",
      "execution_count": null,
      "metadata": {
        "colab": {
          "base_uri": "https://localhost:8080/",
          "height": 295
        },
        "id": "887giLYRSAR5",
        "outputId": "0a7f187a-335b-493e-8bd2-0c37dd76a432"
      },
      "outputs": [],
      "source": [
        "plot_scatter(\"Train\", df_trains)"
      ]
    },
    {
      "cell_type": "code",
      "execution_count": null,
      "metadata": {
        "colab": {
          "base_uri": "https://localhost:8080/",
          "height": 295
        },
        "id": "whlWA68kUnes",
        "outputId": "2f15bdee-7137-4cb3-acb6-66e503a4ac36"
      },
      "outputs": [],
      "source": [
        "plot_scatter(\"Train (Predicted)\", df_pred_trains)"
      ]
    },
    {
      "cell_type": "code",
      "execution_count": null,
      "metadata": {
        "colab": {
          "base_uri": "https://localhost:8080/",
          "height": 295
        },
        "id": "Tv14PBbTUtKj",
        "outputId": "6ff79c40-a843-4be5-8c42-54de36cfcc71"
      },
      "outputs": [],
      "source": [
        "plot_scatter(\"Test\", df_tests)"
      ]
    },
    {
      "cell_type": "code",
      "execution_count": null,
      "metadata": {
        "colab": {
          "base_uri": "https://localhost:8080/",
          "height": 295
        },
        "id": "9jpWbPKIUw0W",
        "outputId": "0ab9e371-9f96-4fff-b017-7d4af66afea5"
      },
      "outputs": [],
      "source": [
        "plot_scatter(\"Test (Predicted)\", df_pred_tests)"
      ]
    }
  ],
  "metadata": {
    "colab": {
      "provenance": []
    },
    "kernelspec": {
      "display_name": "Python 3",
      "language": "python",
      "name": "python3"
    },
    "language_info": {
      "name": "python",
      "version": "3.10.7 (main, Oct 26 2022, 14:14:16) [Clang 14.0.0 (clang-1400.0.29.102)]"
    },
    "vscode": {
      "interpreter": {
        "hash": "5f90c9c72ce04906de37d4c67574a63377e4fd7d3965d8d2cd20954f66a8e417"
      }
    }
  },
  "nbformat": 4,
  "nbformat_minor": 0
}
