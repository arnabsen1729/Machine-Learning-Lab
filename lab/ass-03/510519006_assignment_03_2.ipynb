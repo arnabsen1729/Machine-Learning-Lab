{
  "cells": [
    {
      "cell_type": "markdown",
      "metadata": {
        "id": "STtKNm9LC9Ry"
      },
      "source": [
        "# Assignment 3 (Forest Cover)\n",
        "\n",
        "- Name: **Arnab Sen**\n",
        "- Roll: **510519006**\n",
        "- Date: **Sept 5, 2022**"
      ]
    },
    {
      "cell_type": "markdown",
      "metadata": {
        "id": "3w8Uc8TWK0gV"
      },
      "source": [
        "## Task 5"
      ]
    },
    {
      "cell_type": "code",
      "execution_count": null,
      "metadata": {
        "id": "QQyPFUlVCvR2"
      },
      "outputs": [],
      "source": [
        "from google.colab import drive\n",
        "import pandas as pd\n",
        "from sklearn.model_selection import train_test_split\n",
        "from sklearn.svm import LinearSVC\n",
        "from sklearn.metrics import confusion_matrix\n",
        "from sklearn.metrics import f1_score\n",
        "import matplotlib.pyplot as plt\n",
        "import seaborn as sns\n",
        "from collections import Counter\n",
        "from imblearn.under_sampling import RandomUnderSampler\n",
        "from sklearn.linear_model import LogisticRegression\n",
        "from sklearn.tree import DecisionTreeClassifier\n",
        "from sklearn.preprocessing import StandardScaler\n",
        "from sklearn.svm import SVC\n",
        "from sklearn.pipeline import make_pipeline\n",
        "from sklearn.metrics import confusion_matrix\n",
        "from sklearn.preprocessing import StandardScaler"
      ]
    },
    {
      "cell_type": "code",
      "execution_count": null,
      "metadata": {
        "colab": {
          "base_uri": "https://localhost:8080/"
        },
        "id": "toQ1uGFTDVo6",
        "outputId": "2cd7f972-411e-494b-8df4-0c1196a1cbb8"
      },
      "outputs": [
        {
          "name": "stdout",
          "output_type": "stream",
          "text": [
            "Drive already mounted at /content/drive; to attempt to forcibly remount, call drive.mount(\"/content/drive\", force_remount=True).\n"
          ]
        }
      ],
      "source": [
        "drive.mount('/content/drive')\n",
        "BASE_PATH = '/content/drive/MyDrive/Colab_Notebooks/ML_DRIVE/Assign_3/dataset'"
      ]
    },
    {
      "cell_type": "code",
      "execution_count": null,
      "metadata": {
        "colab": {
          "base_uri": "https://localhost:8080/"
        },
        "id": "zYLG2kYdDfv4",
        "outputId": "4cf761a0-a237-4235-ea0e-aabce0e4a941"
      },
      "outputs": [
        {
          "name": "stdout",
          "output_type": "stream",
          "text": [
            "Dataset shape: (581012, 55)\n",
            "Dataset columns: Index(['Elevation', 'Aspect', 'Slope', 'Horizontal_Distance_To_Hydrology',\n",
            "       'Vertical_Distance_To_Hydrology', 'Horizontal_Distance_To_Roadways',\n",
            "       'Hillshade_9am', 'Hillshade_Noon', 'Hillshade_3pm',\n",
            "       'Horizontal_Distance_To_Fire_Points', 'Wilderness_Area1',\n",
            "       'Wilderness_Area2', 'Wilderness_Area3', 'Wilderness_Area4',\n",
            "       'Soil_Type1', 'Soil_Type2', 'Soil_Type3', 'Soil_Type4', 'Soil_Type5',\n",
            "       'Soil_Type6', 'Soil_Type7', 'Soil_Type8', 'Soil_Type9', 'Soil_Type10',\n",
            "       'Soil_Type11', 'Soil_Type12', 'Soil_Type13', 'Soil_Type14',\n",
            "       'Soil_Type15', 'Soil_Type16', 'Soil_Type17', 'Soil_Type18',\n",
            "       'Soil_Type19', 'Soil_Type20', 'Soil_Type21', 'Soil_Type22',\n",
            "       'Soil_Type23', 'Soil_Type24', 'Soil_Type25', 'Soil_Type26',\n",
            "       'Soil_Type27', 'Soil_Type28', 'Soil_Type29', 'Soil_Type30',\n",
            "       'Soil_Type31', 'Soil_Type32', 'Soil_Type33', 'Soil_Type34',\n",
            "       'Soil_Type35', 'Soil_Type36', 'Soil_Type37', 'Soil_Type38',\n",
            "       'Soil_Type39', 'Soil_Type40', 'Cover_Type'],\n",
            "      dtype='object')\n"
          ]
        }
      ],
      "source": [
        "dataset = pd.read_csv(f\"{BASE_PATH}/covtype.csv\")\n",
        "print(\"Dataset shape:\", dataset.shape)\n",
        "print(\"Dataset columns:\", dataset.columns)"
      ]
    },
    {
      "cell_type": "code",
      "execution_count": null,
      "metadata": {
        "colab": {
          "base_uri": "https://localhost:8080/"
        },
        "id": "FUXqih3mQzML",
        "outputId": "434e0e3f-2b71-47e4-8bf3-10a6640d6dd4"
      },
      "outputs": [
        {
          "data": {
            "text/plain": [
              "Elevation                             0\n",
              "Aspect                                0\n",
              "Slope                                 0\n",
              "Horizontal_Distance_To_Hydrology      0\n",
              "Vertical_Distance_To_Hydrology        0\n",
              "Horizontal_Distance_To_Roadways       0\n",
              "Hillshade_9am                         0\n",
              "Hillshade_Noon                        0\n",
              "Hillshade_3pm                         0\n",
              "Horizontal_Distance_To_Fire_Points    0\n",
              "Wilderness_Area1                      0\n",
              "Wilderness_Area2                      0\n",
              "Wilderness_Area3                      0\n",
              "Wilderness_Area4                      0\n",
              "Soil_Type1                            0\n",
              "Soil_Type2                            0\n",
              "Soil_Type3                            0\n",
              "Soil_Type4                            0\n",
              "Soil_Type5                            0\n",
              "Soil_Type6                            0\n",
              "Soil_Type7                            0\n",
              "Soil_Type8                            0\n",
              "Soil_Type9                            0\n",
              "Soil_Type10                           0\n",
              "Soil_Type11                           0\n",
              "Soil_Type12                           0\n",
              "Soil_Type13                           0\n",
              "Soil_Type14                           0\n",
              "Soil_Type15                           0\n",
              "Soil_Type16                           0\n",
              "Soil_Type17                           0\n",
              "Soil_Type18                           0\n",
              "Soil_Type19                           0\n",
              "Soil_Type20                           0\n",
              "Soil_Type21                           0\n",
              "Soil_Type22                           0\n",
              "Soil_Type23                           0\n",
              "Soil_Type24                           0\n",
              "Soil_Type25                           0\n",
              "Soil_Type26                           0\n",
              "Soil_Type27                           0\n",
              "Soil_Type28                           0\n",
              "Soil_Type29                           0\n",
              "Soil_Type30                           0\n",
              "Soil_Type31                           0\n",
              "Soil_Type32                           0\n",
              "Soil_Type33                           0\n",
              "Soil_Type34                           0\n",
              "Soil_Type35                           0\n",
              "Soil_Type36                           0\n",
              "Soil_Type37                           0\n",
              "Soil_Type38                           0\n",
              "Soil_Type39                           0\n",
              "Soil_Type40                           0\n",
              "Cover_Type                            0\n",
              "dtype: int64"
            ]
          },
          "execution_count": 50,
          "metadata": {},
          "output_type": "execute_result"
        }
      ],
      "source": [
        "# Let's check for missing values once\n",
        "dataset.isnull().sum()"
      ]
    },
    {
      "cell_type": "code",
      "execution_count": null,
      "metadata": {
        "colab": {
          "base_uri": "https://localhost:8080/"
        },
        "id": "zR6w01dhD6-i",
        "outputId": "3ea0fd9b-ffb1-4cf2-e9a2-73f7be43f632"
      },
      "outputs": [
        {
          "name": "stdout",
          "output_type": "stream",
          "text": [
            "<class 'pandas.core.frame.DataFrame'>\n",
            "RangeIndex: 581012 entries, 0 to 581011\n",
            "Data columns (total 55 columns):\n",
            " #   Column                              Non-Null Count   Dtype\n",
            "---  ------                              --------------   -----\n",
            " 0   Elevation                           581012 non-null  int64\n",
            " 1   Aspect                              581012 non-null  int64\n",
            " 2   Slope                               581012 non-null  int64\n",
            " 3   Horizontal_Distance_To_Hydrology    581012 non-null  int64\n",
            " 4   Vertical_Distance_To_Hydrology      581012 non-null  int64\n",
            " 5   Horizontal_Distance_To_Roadways     581012 non-null  int64\n",
            " 6   Hillshade_9am                       581012 non-null  int64\n",
            " 7   Hillshade_Noon                      581012 non-null  int64\n",
            " 8   Hillshade_3pm                       581012 non-null  int64\n",
            " 9   Horizontal_Distance_To_Fire_Points  581012 non-null  int64\n",
            " 10  Wilderness_Area1                    581012 non-null  int64\n",
            " 11  Wilderness_Area2                    581012 non-null  int64\n",
            " 12  Wilderness_Area3                    581012 non-null  int64\n",
            " 13  Wilderness_Area4                    581012 non-null  int64\n",
            " 14  Soil_Type1                          581012 non-null  int64\n",
            " 15  Soil_Type2                          581012 non-null  int64\n",
            " 16  Soil_Type3                          581012 non-null  int64\n",
            " 17  Soil_Type4                          581012 non-null  int64\n",
            " 18  Soil_Type5                          581012 non-null  int64\n",
            " 19  Soil_Type6                          581012 non-null  int64\n",
            " 20  Soil_Type7                          581012 non-null  int64\n",
            " 21  Soil_Type8                          581012 non-null  int64\n",
            " 22  Soil_Type9                          581012 non-null  int64\n",
            " 23  Soil_Type10                         581012 non-null  int64\n",
            " 24  Soil_Type11                         581012 non-null  int64\n",
            " 25  Soil_Type12                         581012 non-null  int64\n",
            " 26  Soil_Type13                         581012 non-null  int64\n",
            " 27  Soil_Type14                         581012 non-null  int64\n",
            " 28  Soil_Type15                         581012 non-null  int64\n",
            " 29  Soil_Type16                         581012 non-null  int64\n",
            " 30  Soil_Type17                         581012 non-null  int64\n",
            " 31  Soil_Type18                         581012 non-null  int64\n",
            " 32  Soil_Type19                         581012 non-null  int64\n",
            " 33  Soil_Type20                         581012 non-null  int64\n",
            " 34  Soil_Type21                         581012 non-null  int64\n",
            " 35  Soil_Type22                         581012 non-null  int64\n",
            " 36  Soil_Type23                         581012 non-null  int64\n",
            " 37  Soil_Type24                         581012 non-null  int64\n",
            " 38  Soil_Type25                         581012 non-null  int64\n",
            " 39  Soil_Type26                         581012 non-null  int64\n",
            " 40  Soil_Type27                         581012 non-null  int64\n",
            " 41  Soil_Type28                         581012 non-null  int64\n",
            " 42  Soil_Type29                         581012 non-null  int64\n",
            " 43  Soil_Type30                         581012 non-null  int64\n",
            " 44  Soil_Type31                         581012 non-null  int64\n",
            " 45  Soil_Type32                         581012 non-null  int64\n",
            " 46  Soil_Type33                         581012 non-null  int64\n",
            " 47  Soil_Type34                         581012 non-null  int64\n",
            " 48  Soil_Type35                         581012 non-null  int64\n",
            " 49  Soil_Type36                         581012 non-null  int64\n",
            " 50  Soil_Type37                         581012 non-null  int64\n",
            " 51  Soil_Type38                         581012 non-null  int64\n",
            " 52  Soil_Type39                         581012 non-null  int64\n",
            " 53  Soil_Type40                         581012 non-null  int64\n",
            " 54  Cover_Type                          581012 non-null  int64\n",
            "dtypes: int64(55)\n",
            "memory usage: 243.8 MB\n"
          ]
        }
      ],
      "source": [
        "dataset.info()"
      ]
    },
    {
      "cell_type": "code",
      "execution_count": null,
      "metadata": {
        "id": "PkJ8Wyt-Xn_d"
      },
      "outputs": [],
      "source": [
        "scaled_cols = ['Elevation', 'Aspect', 'Slope', 'Horizontal_Distance_To_Hydrology',\n",
        "'Vertical_Distance_To_Hydrology', 'Horizontal_Distance_To_Roadways',\n",
        "'Hillshade_9am', 'Hillshade_Noon', 'Hillshade_3pm',\n",
        "'Horizontal_Distance_To_Fire_Points']\n",
        "for col in scaled_cols:\n",
        "  scaler = StandardScaler()\n",
        "  dataset[[col]] = pd.DataFrame(\n",
        "    data=scaler.fit_transform(dataset[[col]]),\n",
        "    index=dataset.index,\n",
        "    columns=[col]\n",
        "  )"
      ]
    },
    {
      "cell_type": "code",
      "execution_count": null,
      "metadata": {
        "id": "qT2waaCMSF9X"
      },
      "outputs": [],
      "source": [
        "def plot_count(y):\n",
        "  before_dist = Counter(y)\n",
        "  print(\"Before undersampling: \", before_dist)\n",
        "  plt.xlabel(\"Count\")\n",
        "  plt.ylabel(\"Cover Type\")\n",
        "  plt.title(\"Count of each cover type\")\n",
        "  plt.bar(before_dist.keys(), before_dist.values())"
      ]
    },
    {
      "cell_type": "code",
      "execution_count": null,
      "metadata": {
        "colab": {
          "base_uri": "https://localhost:8080/",
          "height": 313
        },
        "id": "emIZVjOsIKUK",
        "outputId": "4d253938-51cb-41b3-d18b-cbaebdf0a67d"
      },
      "outputs": [
        {
          "name": "stdout",
          "output_type": "stream",
          "text": [
            "Before undersampling:  Counter({2: 283301, 1: 211840, 3: 35754, 7: 20510, 6: 17367, 5: 9493, 4: 2747})\n"
          ]
        },
        {
          "data": {
            "image/png": "[encoded data removed]",
            "text/plain": [
              "<Figure size 432x288 with 1 Axes>"
            ]
          },
          "metadata": {
            "needs_background": "light"
          },
          "output_type": "display_data"
        }
      ],
      "source": [
        "X = dataset.drop('Cover_Type', axis = 1)\n",
        "y = dataset['Cover_Type']\n",
        "\n",
        "plot_count(y)"
      ]
    },
    {
      "cell_type": "code",
      "execution_count": null,
      "metadata": {
        "colab": {
          "base_uri": "https://localhost:8080/",
          "height": 313
        },
        "id": "c8KSPHItYyuF",
        "outputId": "1536a077-378b-42b3-f328-c921faf0e4b9"
      },
      "outputs": [
        {
          "name": "stdout",
          "output_type": "stream",
          "text": [
            "Before undersampling:  Counter({1: 2747, 2: 2747, 3: 2747, 4: 2747, 5: 2747, 6: 2747, 7: 2747})\n"
          ]
        },
        {
          "data": {
            "image/png": "[encoded data removed]",
            "text/plain": [
              "<Figure size 432x288 with 1 Axes>"
            ]
          },
          "metadata": {
            "needs_background": "light"
          },
          "output_type": "display_data"
        }
      ],
      "source": [
        "# define undersampling strategy\n",
        "undersample = RandomUnderSampler(sampling_strategy='not minority')\n",
        "X, y = undersample.fit_resample(X, y)\n",
        "plot_count(y)"
      ]
    },
    {
      "cell_type": "code",
      "execution_count": null,
      "metadata": {
        "colab": {
          "base_uri": "https://localhost:8080/"
        },
        "id": "Cb0O_nrYYq57",
        "outputId": "91ba48da-fc2f-4268-ad82-8f72281f52c0"
      },
      "outputs": [
        {
          "name": "stdout",
          "output_type": "stream",
          "text": [
            "(15383, 54)\n",
            "(1923, 54)\n",
            "(1923, 54)\n"
          ]
        }
      ],
      "source": [
        "X_train, _X, y_train, _y = train_test_split(X, y, train_size=0.8)\n",
        "\n",
        "X_test, X_val, y_test, y_val = train_test_split(_X, _y, train_size = 0.5)\n",
        "\n",
        "print(X_train.shape)\n",
        "print(X_test.shape)\n",
        "print(X_val.shape)"
      ]
    },
    {
      "cell_type": "code",
      "execution_count": null,
      "metadata": {
        "colab": {
          "base_uri": "https://localhost:8080/"
        },
        "id": "V9xEADBFBAnR",
        "outputId": "dbf99a5e-4a24-480a-806b-ba51359cbda2"
      },
      "outputs": [
        {
          "name": "stdout",
          "output_type": "stream",
          "text": [
            "Accuracy = 0.7384295371814873\n",
            "\n",
            "F1 Score = 0.7370705253598765\n",
            "\n"
          ]
        }
      ],
      "source": [
        "clf = make_pipeline(StandardScaler(), SVC(gamma='auto'))\n",
        "clf.fit(X_train, y_train)\n",
        "pred = clf.predict(X_test)\n",
        "cm = confusion_matrix(y_test, pred)\n",
        "f1 = f1_score(y_test, pred, average='macro')\n",
        "accuracy = clf.score(X_test, y_test)\n",
        "print(f\"Accuracy = {accuracy}\\n\")\n",
        "print(f\"F1 Score = {f1}\\n\")"
      ]
    },
    {
      "cell_type": "markdown",
      "metadata": {
        "id": "Dn97YjoZK7do"
      },
      "source": [
        "## Task 6"
      ]
    },
    {
      "cell_type": "code",
      "execution_count": null,
      "metadata": {
        "colab": {
          "base_uri": "https://localhost:8080/",
          "height": 295
        },
        "id": "Ba0BH-WkaNLw",
        "outputId": "a40cce39-ccf6-4c49-9dac-c9d5c260b39a"
      },
      "outputs": [
        {
          "data": {
            "image/png": "[encoded data removed]",
            "text/plain": [
              "<Figure size 432x288 with 2 Axes>"
            ]
          },
          "metadata": {
            "needs_background": "light"
          },
          "output_type": "display_data"
        }
      ],
      "source": [
        "sns.heatmap(cm)\n",
        "plt.title('HeatMap')\n",
        "plt.ylabel('Actual Value')\n",
        "plt.xlabel('Predicted Value')\n",
        "plt.show()"
      ]
    },
    {
      "cell_type": "code",
      "execution_count": null,
      "metadata": {
        "id": "c3WYQsD9JkQc"
      },
      "outputs": [],
      "source": [
        "sub_X_train = X.iloc[:, 0:2]\n",
        "sub_y_train = y\n",
        "\n",
        "sub_train = sub_X_train.join(sub_y_train)\n",
        "sub_train = sub_train[sub_train['Cover_Type'].isin([1,2,3])]\n",
        "\n",
        "sub_X = sub_train.drop('Cover_Type', axis = 1)\n",
        "sub_y = sub_train['Cover_Type']\n"
      ]
    },
    {
      "cell_type": "code",
      "execution_count": null,
      "metadata": {
        "colab": {
          "base_uri": "https://localhost:8080/",
          "height": 313
        },
        "id": "fBxgmZD8lixz",
        "outputId": "e262c370-c632-4926-9ac8-53fab6198328"
      },
      "outputs": [
        {
          "name": "stdout",
          "output_type": "stream",
          "text": [
            "Before undersampling:  Counter({1: 2747, 2: 2747, 3: 2747})\n"
          ]
        },
        {
          "data": {
            "image/png": "[encoded data removed]",
            "text/plain": [
              "<Figure size 432x288 with 1 Axes>"
            ]
          },
          "metadata": {
            "needs_background": "light"
          },
          "output_type": "display_data"
        }
      ],
      "source": [
        "plot_count(sub_y)"
      ]
    },
    {
      "cell_type": "code",
      "execution_count": null,
      "metadata": {
        "id": "yAmGXSZek3Hx"
      },
      "outputs": [],
      "source": [
        "X_train, X_test, y_train, y_test = train_test_split(sub_X, sub_y, train_size=0.8)"
      ]
    },
    {
      "cell_type": "code",
      "execution_count": null,
      "metadata": {
        "colab": {
          "base_uri": "https://localhost:8080/"
        },
        "id": "2ehACGS7mP-s",
        "outputId": "04845448-af35-49a6-da41-333e97f04730"
      },
      "outputs": [
        {
          "name": "stdout",
          "output_type": "stream",
          "text": [
            "Accuracy (Test) = 0.7762280169799879\n",
            "Accuracy (Train) = 0.7747269417475728\n",
            "F1 Score (Test)= 0.7768385474602933\n",
            "F1 Score (Train)= 0.7728824335147572\n"
          ]
        }
      ],
      "source": [
        "regr = LogisticRegression(multi_class='multinomial')\n",
        "model = regr.fit(X_train, y_train)\n",
        "y_pred_test = model.predict(X_test)\n",
        "y_pred_train = model.predict(X_train)\n",
        "print(f\"Accuracy (Test) = {model.score(X_test, y_test)}\")\n",
        "print(f\"Accuracy (Train) = {model.score(X_train, y_train)}\")\n",
        "print(f\"F1 Score (Test)= {f1_score(y_test, y_pred_test, average='macro')}\")\n",
        "print(f\"F1 Score (Train)= {f1_score(y_train, y_pred_train, average='macro')}\")"
      ]
    },
    {
      "cell_type": "code",
      "execution_count": null,
      "metadata": {
        "colab": {
          "base_uri": "https://localhost:8080/",
          "height": 424
        },
        "id": "X7o79NoIxZwv",
        "outputId": "6508cb63-424b-4d51-d0fc-f22ffb4b7506"
      },
      "outputs": [
        {
          "data": {
            "text/html": [
              "\n",
              "  <div id=\"df-b0ffb40b-58f0-4505-9a92-9868c55dc406\">\n",
              "    <div class=\"colab-df-container\">\n",
              "      <div>\n",
              "<style scoped>\n",
              "    .dataframe tbody tr th:only-of-type {\n",
              "        vertical-align: middle;\n",
              "    }\n",
              "\n",
              "    .dataframe tbody tr th {\n",
              "        vertical-align: top;\n",
              "    }\n",
              "\n",
              "    .dataframe thead th {\n",
              "        text-align: right;\n",
              "    }\n",
              "</style>\n",
              "<table border=\"1\" class=\"dataframe\">\n",
              "  <thead>\n",
              "    <tr style=\"text-align: right;\">\n",
              "      <th></th>\n",
              "      <th>Elevation</th>\n",
              "      <th>Aspect</th>\n",
              "      <th>CoverType</th>\n",
              "    </tr>\n",
              "  </thead>\n",
              "  <tbody>\n",
              "    <tr>\n",
              "      <th>4190</th>\n",
              "      <td>0.534439</td>\n",
              "      <td>1.325515</td>\n",
              "      <td>2</td>\n",
              "    </tr>\n",
              "    <tr>\n",
              "      <th>2377</th>\n",
              "      <td>-0.665627</td>\n",
              "      <td>1.691869</td>\n",
              "      <td>1</td>\n",
              "    </tr>\n",
              "    <tr>\n",
              "      <th>7853</th>\n",
              "      <td>-1.872837</td>\n",
              "      <td>-1.104931</td>\n",
              "      <td>3</td>\n",
              "    </tr>\n",
              "    <tr>\n",
              "      <th>2254</th>\n",
              "      <td>0.673733</td>\n",
              "      <td>-1.095995</td>\n",
              "      <td>1</td>\n",
              "    </tr>\n",
              "    <tr>\n",
              "      <th>3796</th>\n",
              "      <td>0.205850</td>\n",
              "      <td>-0.479448</td>\n",
              "      <td>2</td>\n",
              "    </tr>\n",
              "    <tr>\n",
              "      <th>...</th>\n",
              "      <td>...</td>\n",
              "      <td>...</td>\n",
              "      <td>...</td>\n",
              "    </tr>\n",
              "    <tr>\n",
              "      <th>6322</th>\n",
              "      <td>-1.276375</td>\n",
              "      <td>-1.194285</td>\n",
              "      <td>3</td>\n",
              "    </tr>\n",
              "    <tr>\n",
              "      <th>7471</th>\n",
              "      <td>-1.026361</td>\n",
              "      <td>0.333679</td>\n",
              "      <td>3</td>\n",
              "    </tr>\n",
              "    <tr>\n",
              "      <th>5816</th>\n",
              "      <td>-2.912180</td>\n",
              "      <td>0.905548</td>\n",
              "      <td>3</td>\n",
              "    </tr>\n",
              "    <tr>\n",
              "      <th>48</th>\n",
              "      <td>0.291569</td>\n",
              "      <td>1.343386</td>\n",
              "      <td>1</td>\n",
              "    </tr>\n",
              "    <tr>\n",
              "      <th>6772</th>\n",
              "      <td>-1.422812</td>\n",
              "      <td>-0.747512</td>\n",
              "      <td>3</td>\n",
              "    </tr>\n",
              "  </tbody>\n",
              "</table>\n",
              "<p>6592 rows × 3 columns</p>\n",
              "</div>\n",
              "      <button class=\"colab-df-convert\" onclick=\"convertToInteractive('df-b0ffb40b-58f0-4505-9a92-9868c55dc406')\"\n",
              "              title=\"Convert this dataframe to an interactive table.\"\n",
              "              style=\"display:none;\">\n",
              "        \n",
              "  <svg xmlns=\"http://www.w3.org/2000/svg\" height=\"24px\"viewBox=\"0 0 24 24\"\n",
              "       width=\"24px\">\n",
              "    <path d=\"M0 0h24v24H0V0z\" fill=\"none\"/>\n",
              "    <path d=\"M18.56 5.44l.94 2.06.94-2.06 2.06-.94-2.06-.94-.94-2.06-.94 2.06-2.06.94zm-11 1L8.5 8.5l.94-2.06 2.06-.94-2.06-.94L8.5 2.5l-.94 2.06-2.06.94zm10 10l.94 2.06.94-2.06 2.06-.94-2.06-.94-.94-2.06-.94 2.06-2.06.94z\"/><path d=\"M17.41 7.96l-1.37-1.37c-.4-.4-.92-.59-1.43-.59-.52 0-1.04.2-1.43.59L10.3 9.45l-7.72 7.72c-.78.78-.78 2.05 0 2.83L4 21.41c.39.39.9.59 1.41.59.51 0 1.02-.2 1.41-.59l7.78-7.78 2.81-2.81c.8-.78.8-2.07 0-2.86zM5.41 20L4 18.59l7.72-7.72 1.47 1.35L5.41 20z\"/>\n",
              "  </svg>\n",
              "      </button>\n",
              "      \n",
              "  <style>\n",
              "    .colab-df-container {\n",
              "      display:flex;\n",
              "      flex-wrap:wrap;\n",
              "      gap: 12px;\n",
              "    }\n",
              "\n",
              "    .colab-df-convert {\n",
              "      background-color: #E8F0FE;\n",
              "      border: none;\n",
              "      border-radius: 50%;\n",
              "      cursor: pointer;\n",
              "      display: none;\n",
              "      fill: #1967D2;\n",
              "      height: 32px;\n",
              "      padding: 0 0 0 0;\n",
              "      width: 32px;\n",
              "    }\n",
              "\n",
              "    .colab-df-convert:hover {\n",
              "      background-color: #E2EBFA;\n",
              "      box-shadow: 0px 1px 2px rgba(60, 64, 67, 0.3), 0px 1px 3px 1px rgba(60, 64, 67, 0.15);\n",
              "      fill: #174EA6;\n",
              "    }\n",
              "\n",
              "    [theme=dark] .colab-df-convert {\n",
              "      background-color: #3B4455;\n",
              "      fill: #D2E3FC;\n",
              "    }\n",
              "\n",
              "    [theme=dark] .colab-df-convert:hover {\n",
              "      background-color: #434B5C;\n",
              "      box-shadow: 0px 1px 3px 1px rgba(0, 0, 0, 0.15);\n",
              "      filter: drop-shadow(0px 1px 2px rgba(0, 0, 0, 0.3));\n",
              "      fill: #FFFFFF;\n",
              "    }\n",
              "  </style>\n",
              "\n",
              "      <script>\n",
              "        const buttonEl =\n",
              "          document.querySelector('#df-b0ffb40b-58f0-4505-9a92-9868c55dc406 button.colab-df-convert');\n",
              "        buttonEl.style.display =\n",
              "          google.colab.kernel.accessAllowed ? 'block' : 'none';\n",
              "\n",
              "        async function convertToInteractive(key) {\n",
              "          const element = document.querySelector('#df-b0ffb40b-58f0-4505-9a92-9868c55dc406');\n",
              "          const dataTable =\n",
              "            await google.colab.kernel.invokeFunction('convertToInteractive',\n",
              "                                                     [key], {});\n",
              "          if (!dataTable) return;\n",
              "\n",
              "          const docLinkHtml = 'Like what you see? Visit the ' +\n",
              "            '<a target=\"_blank\" href=https://colab.research.google.com/notebooks/data_table.ipynb>data table notebook</a>'\n",
              "            + ' to learn more about interactive tables.';\n",
              "          element.innerHTML = '';\n",
              "          dataTable['output_type'] = 'display_data';\n",
              "          await google.colab.output.renderOutput(dataTable, element);\n",
              "          const docLink = document.createElement('div');\n",
              "          docLink.innerHTML = docLinkHtml;\n",
              "          element.appendChild(docLink);\n",
              "        }\n",
              "      </script>\n",
              "    </div>\n",
              "  </div>\n",
              "  "
            ],
            "text/plain": [
              "      Elevation    Aspect  CoverType\n",
              "4190   0.534439  1.325515          2\n",
              "2377  -0.665627  1.691869          1\n",
              "7853  -1.872837 -1.104931          3\n",
              "2254   0.673733 -1.095995          1\n",
              "3796   0.205850 -0.479448          2\n",
              "...         ...       ...        ...\n",
              "6322  -1.276375 -1.194285          3\n",
              "7471  -1.026361  0.333679          3\n",
              "5816  -2.912180  0.905548          3\n",
              "48     0.291569  1.343386          1\n",
              "6772  -1.422812 -0.747512          3\n",
              "\n",
              "[6592 rows x 3 columns]"
            ]
          },
          "execution_count": 63,
          "metadata": {},
          "output_type": "execute_result"
        }
      ],
      "source": [
        "df_train = X_train\n",
        "df_train['CoverType'] = y_train\n",
        "df_train"
      ]
    },
    {
      "cell_type": "code",
      "execution_count": null,
      "metadata": {
        "colab": {
          "base_uri": "https://localhost:8080/",
          "height": 424
        },
        "id": "rES-0tqfx_pc",
        "outputId": "1bfd6e6d-8a5a-4382-a1dc-d47622773028"
      },
      "outputs": [
        {
          "data": {
            "text/html": [
              "\n",
              "  <div id=\"df-1a3d1dcb-b5d8-4cfb-87f8-007eb72e3d9e\">\n",
              "    <div class=\"colab-df-container\">\n",
              "      <div>\n",
              "<style scoped>\n",
              "    .dataframe tbody tr th:only-of-type {\n",
              "        vertical-align: middle;\n",
              "    }\n",
              "\n",
              "    .dataframe tbody tr th {\n",
              "        vertical-align: top;\n",
              "    }\n",
              "\n",
              "    .dataframe thead th {\n",
              "        text-align: right;\n",
              "    }\n",
              "</style>\n",
              "<table border=\"1\" class=\"dataframe\">\n",
              "  <thead>\n",
              "    <tr style=\"text-align: right;\">\n",
              "      <th></th>\n",
              "      <th>Elevation</th>\n",
              "      <th>Aspect</th>\n",
              "      <th>CoverType</th>\n",
              "    </tr>\n",
              "  </thead>\n",
              "  <tbody>\n",
              "    <tr>\n",
              "      <th>3215</th>\n",
              "      <td>-0.062022</td>\n",
              "      <td>1.504224</td>\n",
              "      <td>2</td>\n",
              "    </tr>\n",
              "    <tr>\n",
              "      <th>7850</th>\n",
              "      <td>-2.104993</td>\n",
              "      <td>1.137870</td>\n",
              "      <td>3</td>\n",
              "    </tr>\n",
              "    <tr>\n",
              "      <th>2438</th>\n",
              "      <td>1.195190</td>\n",
              "      <td>-0.792190</td>\n",
              "      <td>1</td>\n",
              "    </tr>\n",
              "    <tr>\n",
              "      <th>6795</th>\n",
              "      <td>-1.204943</td>\n",
              "      <td>0.342614</td>\n",
              "      <td>3</td>\n",
              "    </tr>\n",
              "    <tr>\n",
              "      <th>1512</th>\n",
              "      <td>0.266567</td>\n",
              "      <td>-0.935157</td>\n",
              "      <td>1</td>\n",
              "    </tr>\n",
              "    <tr>\n",
              "      <th>...</th>\n",
              "      <td>...</td>\n",
              "      <td>...</td>\n",
              "      <td>...</td>\n",
              "    </tr>\n",
              "    <tr>\n",
              "      <th>4848</th>\n",
              "      <td>1.030895</td>\n",
              "      <td>-0.586674</td>\n",
              "      <td>2</td>\n",
              "    </tr>\n",
              "    <tr>\n",
              "      <th>2120</th>\n",
              "      <td>1.113043</td>\n",
              "      <td>1.816965</td>\n",
              "      <td>1</td>\n",
              "    </tr>\n",
              "    <tr>\n",
              "      <th>3432</th>\n",
              "      <td>-1.097794</td>\n",
              "      <td>-1.185350</td>\n",
              "      <td>2</td>\n",
              "    </tr>\n",
              "    <tr>\n",
              "      <th>4260</th>\n",
              "      <td>-0.644197</td>\n",
              "      <td>0.476646</td>\n",
              "      <td>2</td>\n",
              "    </tr>\n",
              "    <tr>\n",
              "      <th>1068</th>\n",
              "      <td>0.087986</td>\n",
              "      <td>-1.060253</td>\n",
              "      <td>1</td>\n",
              "    </tr>\n",
              "  </tbody>\n",
              "</table>\n",
              "<p>1649 rows × 3 columns</p>\n",
              "</div>\n",
              "      <button class=\"colab-df-convert\" onclick=\"convertToInteractive('df-1a3d1dcb-b5d8-4cfb-87f8-007eb72e3d9e')\"\n",
              "              title=\"Convert this dataframe to an interactive table.\"\n",
              "              style=\"display:none;\">\n",
              "        \n",
              "  <svg xmlns=\"http://www.w3.org/2000/svg\" height=\"24px\"viewBox=\"0 0 24 24\"\n",
              "       width=\"24px\">\n",
              "    <path d=\"M0 0h24v24H0V0z\" fill=\"none\"/>\n",
              "    <path d=\"M18.56 5.44l.94 2.06.94-2.06 2.06-.94-2.06-.94-.94-2.06-.94 2.06-2.06.94zm-11 1L8.5 8.5l.94-2.06 2.06-.94-2.06-.94L8.5 2.5l-.94 2.06-2.06.94zm10 10l.94 2.06.94-2.06 2.06-.94-2.06-.94-.94-2.06-.94 2.06-2.06.94z\"/><path d=\"M17.41 7.96l-1.37-1.37c-.4-.4-.92-.59-1.43-.59-.52 0-1.04.2-1.43.59L10.3 9.45l-7.72 7.72c-.78.78-.78 2.05 0 2.83L4 21.41c.39.39.9.59 1.41.59.51 0 1.02-.2 1.41-.59l7.78-7.78 2.81-2.81c.8-.78.8-2.07 0-2.86zM5.41 20L4 18.59l7.72-7.72 1.47 1.35L5.41 20z\"/>\n",
              "  </svg>\n",
              "      </button>\n",
              "      \n",
              "  <style>\n",
              "    .colab-df-container {\n",
              "      display:flex;\n",
              "      flex-wrap:wrap;\n",
              "      gap: 12px;\n",
              "    }\n",
              "\n",
              "    .colab-df-convert {\n",
              "      background-color: #E8F0FE;\n",
              "      border: none;\n",
              "      border-radius: 50%;\n",
              "      cursor: pointer;\n",
              "      display: none;\n",
              "      fill: #1967D2;\n",
              "      height: 32px;\n",
              "      padding: 0 0 0 0;\n",
              "      width: 32px;\n",
              "    }\n",
              "\n",
              "    .colab-df-convert:hover {\n",
              "      background-color: #E2EBFA;\n",
              "      box-shadow: 0px 1px 2px rgba(60, 64, 67, 0.3), 0px 1px 3px 1px rgba(60, 64, 67, 0.15);\n",
              "      fill: #174EA6;\n",
              "    }\n",
              "\n",
              "    [theme=dark] .colab-df-convert {\n",
              "      background-color: #3B4455;\n",
              "      fill: #D2E3FC;\n",
              "    }\n",
              "\n",
              "    [theme=dark] .colab-df-convert:hover {\n",
              "      background-color: #434B5C;\n",
              "      box-shadow: 0px 1px 3px 1px rgba(0, 0, 0, 0.15);\n",
              "      filter: drop-shadow(0px 1px 2px rgba(0, 0, 0, 0.3));\n",
              "      fill: #FFFFFF;\n",
              "    }\n",
              "  </style>\n",
              "\n",
              "      <script>\n",
              "        const buttonEl =\n",
              "          document.querySelector('#df-1a3d1dcb-b5d8-4cfb-87f8-007eb72e3d9e button.colab-df-convert');\n",
              "        buttonEl.style.display =\n",
              "          google.colab.kernel.accessAllowed ? 'block' : 'none';\n",
              "\n",
              "        async function convertToInteractive(key) {\n",
              "          const element = document.querySelector('#df-1a3d1dcb-b5d8-4cfb-87f8-007eb72e3d9e');\n",
              "          const dataTable =\n",
              "            await google.colab.kernel.invokeFunction('convertToInteractive',\n",
              "                                                     [key], {});\n",
              "          if (!dataTable) return;\n",
              "\n",
              "          const docLinkHtml = 'Like what you see? Visit the ' +\n",
              "            '<a target=\"_blank\" href=https://colab.research.google.com/notebooks/data_table.ipynb>data table notebook</a>'\n",
              "            + ' to learn more about interactive tables.';\n",
              "          element.innerHTML = '';\n",
              "          dataTable['output_type'] = 'display_data';\n",
              "          await google.colab.output.renderOutput(dataTable, element);\n",
              "          const docLink = document.createElement('div');\n",
              "          docLink.innerHTML = docLinkHtml;\n",
              "          element.appendChild(docLink);\n",
              "        }\n",
              "      </script>\n",
              "    </div>\n",
              "  </div>\n",
              "  "
            ],
            "text/plain": [
              "      Elevation    Aspect  CoverType\n",
              "3215  -0.062022  1.504224          2\n",
              "7850  -2.104993  1.137870          3\n",
              "2438   1.195190 -0.792190          1\n",
              "6795  -1.204943  0.342614          3\n",
              "1512   0.266567 -0.935157          1\n",
              "...         ...       ...        ...\n",
              "4848   1.030895 -0.586674          2\n",
              "2120   1.113043  1.816965          1\n",
              "3432  -1.097794 -1.185350          2\n",
              "4260  -0.644197  0.476646          2\n",
              "1068   0.087986 -1.060253          1\n",
              "\n",
              "[1649 rows x 3 columns]"
            ]
          },
          "execution_count": 64,
          "metadata": {},
          "output_type": "execute_result"
        }
      ],
      "source": [
        "df_test = X_test\n",
        "df_test['CoverType'] = y_test\n",
        "df_test"
      ]
    },
    {
      "cell_type": "code",
      "execution_count": null,
      "metadata": {
        "colab": {
          "base_uri": "https://localhost:8080/",
          "height": 424
        },
        "id": "ZrFoE4xX03mZ",
        "outputId": "2f7bc317-e67a-4a74-ce84-71dbf74b50ea"
      },
      "outputs": [
        {
          "data": {
            "text/html": [
              "\n",
              "  <div id=\"df-fbd04daa-2435-4041-a0c6-718140bce38f\">\n",
              "    <div class=\"colab-df-container\">\n",
              "      <div>\n",
              "<style scoped>\n",
              "    .dataframe tbody tr th:only-of-type {\n",
              "        vertical-align: middle;\n",
              "    }\n",
              "\n",
              "    .dataframe tbody tr th {\n",
              "        vertical-align: top;\n",
              "    }\n",
              "\n",
              "    .dataframe thead th {\n",
              "        text-align: right;\n",
              "    }\n",
              "</style>\n",
              "<table border=\"1\" class=\"dataframe\">\n",
              "  <thead>\n",
              "    <tr style=\"text-align: right;\">\n",
              "      <th></th>\n",
              "      <th>Elevation</th>\n",
              "      <th>Aspect</th>\n",
              "      <th>CoverType</th>\n",
              "    </tr>\n",
              "  </thead>\n",
              "  <tbody>\n",
              "    <tr>\n",
              "      <th>3215</th>\n",
              "      <td>-0.062022</td>\n",
              "      <td>1.504224</td>\n",
              "      <td>2</td>\n",
              "    </tr>\n",
              "    <tr>\n",
              "      <th>7850</th>\n",
              "      <td>-2.104993</td>\n",
              "      <td>1.137870</td>\n",
              "      <td>3</td>\n",
              "    </tr>\n",
              "    <tr>\n",
              "      <th>2438</th>\n",
              "      <td>1.195190</td>\n",
              "      <td>-0.792190</td>\n",
              "      <td>1</td>\n",
              "    </tr>\n",
              "    <tr>\n",
              "      <th>6795</th>\n",
              "      <td>-1.204943</td>\n",
              "      <td>0.342614</td>\n",
              "      <td>3</td>\n",
              "    </tr>\n",
              "    <tr>\n",
              "      <th>1512</th>\n",
              "      <td>0.266567</td>\n",
              "      <td>-0.935157</td>\n",
              "      <td>1</td>\n",
              "    </tr>\n",
              "    <tr>\n",
              "      <th>...</th>\n",
              "      <td>...</td>\n",
              "      <td>...</td>\n",
              "      <td>...</td>\n",
              "    </tr>\n",
              "    <tr>\n",
              "      <th>4848</th>\n",
              "      <td>1.030895</td>\n",
              "      <td>-0.586674</td>\n",
              "      <td>1</td>\n",
              "    </tr>\n",
              "    <tr>\n",
              "      <th>2120</th>\n",
              "      <td>1.113043</td>\n",
              "      <td>1.816965</td>\n",
              "      <td>1</td>\n",
              "    </tr>\n",
              "    <tr>\n",
              "      <th>3432</th>\n",
              "      <td>-1.097794</td>\n",
              "      <td>-1.185350</td>\n",
              "      <td>2</td>\n",
              "    </tr>\n",
              "    <tr>\n",
              "      <th>4260</th>\n",
              "      <td>-0.644197</td>\n",
              "      <td>0.476646</td>\n",
              "      <td>2</td>\n",
              "    </tr>\n",
              "    <tr>\n",
              "      <th>1068</th>\n",
              "      <td>0.087986</td>\n",
              "      <td>-1.060253</td>\n",
              "      <td>2</td>\n",
              "    </tr>\n",
              "  </tbody>\n",
              "</table>\n",
              "<p>1649 rows × 3 columns</p>\n",
              "</div>\n",
              "      <button class=\"colab-df-convert\" onclick=\"convertToInteractive('df-fbd04daa-2435-4041-a0c6-718140bce38f')\"\n",
              "              title=\"Convert this dataframe to an interactive table.\"\n",
              "              style=\"display:none;\">\n",
              "        \n",
              "  <svg xmlns=\"http://www.w3.org/2000/svg\" height=\"24px\"viewBox=\"0 0 24 24\"\n",
              "       width=\"24px\">\n",
              "    <path d=\"M0 0h24v24H0V0z\" fill=\"none\"/>\n",
              "    <path d=\"M18.56 5.44l.94 2.06.94-2.06 2.06-.94-2.06-.94-.94-2.06-.94 2.06-2.06.94zm-11 1L8.5 8.5l.94-2.06 2.06-.94-2.06-.94L8.5 2.5l-.94 2.06-2.06.94zm10 10l.94 2.06.94-2.06 2.06-.94-2.06-.94-.94-2.06-.94 2.06-2.06.94z\"/><path d=\"M17.41 7.96l-1.37-1.37c-.4-.4-.92-.59-1.43-.59-.52 0-1.04.2-1.43.59L10.3 9.45l-7.72 7.72c-.78.78-.78 2.05 0 2.83L4 21.41c.39.39.9.59 1.41.59.51 0 1.02-.2 1.41-.59l7.78-7.78 2.81-2.81c.8-.78.8-2.07 0-2.86zM5.41 20L4 18.59l7.72-7.72 1.47 1.35L5.41 20z\"/>\n",
              "  </svg>\n",
              "      </button>\n",
              "      \n",
              "  <style>\n",
              "    .colab-df-container {\n",
              "      display:flex;\n",
              "      flex-wrap:wrap;\n",
              "      gap: 12px;\n",
              "    }\n",
              "\n",
              "    .colab-df-convert {\n",
              "      background-color: #E8F0FE;\n",
              "      border: none;\n",
              "      border-radius: 50%;\n",
              "      cursor: pointer;\n",
              "      display: none;\n",
              "      fill: #1967D2;\n",
              "      height: 32px;\n",
              "      padding: 0 0 0 0;\n",
              "      width: 32px;\n",
              "    }\n",
              "\n",
              "    .colab-df-convert:hover {\n",
              "      background-color: #E2EBFA;\n",
              "      box-shadow: 0px 1px 2px rgba(60, 64, 67, 0.3), 0px 1px 3px 1px rgba(60, 64, 67, 0.15);\n",
              "      fill: #174EA6;\n",
              "    }\n",
              "\n",
              "    [theme=dark] .colab-df-convert {\n",
              "      background-color: #3B4455;\n",
              "      fill: #D2E3FC;\n",
              "    }\n",
              "\n",
              "    [theme=dark] .colab-df-convert:hover {\n",
              "      background-color: #434B5C;\n",
              "      box-shadow: 0px 1px 3px 1px rgba(0, 0, 0, 0.15);\n",
              "      filter: drop-shadow(0px 1px 2px rgba(0, 0, 0, 0.3));\n",
              "      fill: #FFFFFF;\n",
              "    }\n",
              "  </style>\n",
              "\n",
              "      <script>\n",
              "        const buttonEl =\n",
              "          document.querySelector('#df-fbd04daa-2435-4041-a0c6-718140bce38f button.colab-df-convert');\n",
              "        buttonEl.style.display =\n",
              "          google.colab.kernel.accessAllowed ? 'block' : 'none';\n",
              "\n",
              "        async function convertToInteractive(key) {\n",
              "          const element = document.querySelector('#df-fbd04daa-2435-4041-a0c6-718140bce38f');\n",
              "          const dataTable =\n",
              "            await google.colab.kernel.invokeFunction('convertToInteractive',\n",
              "                                                     [key], {});\n",
              "          if (!dataTable) return;\n",
              "\n",
              "          const docLinkHtml = 'Like what you see? Visit the ' +\n",
              "            '<a target=\"_blank\" href=https://colab.research.google.com/notebooks/data_table.ipynb>data table notebook</a>'\n",
              "            + ' to learn more about interactive tables.';\n",
              "          element.innerHTML = '';\n",
              "          dataTable['output_type'] = 'display_data';\n",
              "          await google.colab.output.renderOutput(dataTable, element);\n",
              "          const docLink = document.createElement('div');\n",
              "          docLink.innerHTML = docLinkHtml;\n",
              "          element.appendChild(docLink);\n",
              "        }\n",
              "      </script>\n",
              "    </div>\n",
              "  </div>\n",
              "  "
            ],
            "text/plain": [
              "      Elevation    Aspect  CoverType\n",
              "3215  -0.062022  1.504224          2\n",
              "7850  -2.104993  1.137870          3\n",
              "2438   1.195190 -0.792190          1\n",
              "6795  -1.204943  0.342614          3\n",
              "1512   0.266567 -0.935157          1\n",
              "...         ...       ...        ...\n",
              "4848   1.030895 -0.586674          1\n",
              "2120   1.113043  1.816965          1\n",
              "3432  -1.097794 -1.185350          2\n",
              "4260  -0.644197  0.476646          2\n",
              "1068   0.087986 -1.060253          2\n",
              "\n",
              "[1649 rows x 3 columns]"
            ]
          },
          "execution_count": 65,
          "metadata": {},
          "output_type": "execute_result"
        }
      ],
      "source": [
        "df_pred_test = X_test\n",
        "df_pred_test['CoverType'] = y_pred_test\n",
        "df_pred_test"
      ]
    },
    {
      "cell_type": "code",
      "execution_count": null,
      "metadata": {
        "colab": {
          "base_uri": "https://localhost:8080/",
          "height": 424
        },
        "id": "hdI1f5TJRa36",
        "outputId": "fac27dee-d557-49f6-c159-9639b1511792"
      },
      "outputs": [
        {
          "data": {
            "text/html": [
              "\n",
              "  <div id=\"df-1b95e28b-82d1-4002-9b3c-e035b3a747f8\">\n",
              "    <div class=\"colab-df-container\">\n",
              "      <div>\n",
              "<style scoped>\n",
              "    .dataframe tbody tr th:only-of-type {\n",
              "        vertical-align: middle;\n",
              "    }\n",
              "\n",
              "    .dataframe tbody tr th {\n",
              "        vertical-align: top;\n",
              "    }\n",
              "\n",
              "    .dataframe thead th {\n",
              "        text-align: right;\n",
              "    }\n",
              "</style>\n",
              "<table border=\"1\" class=\"dataframe\">\n",
              "  <thead>\n",
              "    <tr style=\"text-align: right;\">\n",
              "      <th></th>\n",
              "      <th>Elevation</th>\n",
              "      <th>Aspect</th>\n",
              "      <th>CoverType</th>\n",
              "    </tr>\n",
              "  </thead>\n",
              "  <tbody>\n",
              "    <tr>\n",
              "      <th>4190</th>\n",
              "      <td>0.534439</td>\n",
              "      <td>1.325515</td>\n",
              "      <td>1</td>\n",
              "    </tr>\n",
              "    <tr>\n",
              "      <th>2377</th>\n",
              "      <td>-0.665627</td>\n",
              "      <td>1.691869</td>\n",
              "      <td>2</td>\n",
              "    </tr>\n",
              "    <tr>\n",
              "      <th>7853</th>\n",
              "      <td>-1.872837</td>\n",
              "      <td>-1.104931</td>\n",
              "      <td>3</td>\n",
              "    </tr>\n",
              "    <tr>\n",
              "      <th>2254</th>\n",
              "      <td>0.673733</td>\n",
              "      <td>-1.095995</td>\n",
              "      <td>1</td>\n",
              "    </tr>\n",
              "    <tr>\n",
              "      <th>3796</th>\n",
              "      <td>0.205850</td>\n",
              "      <td>-0.479448</td>\n",
              "      <td>2</td>\n",
              "    </tr>\n",
              "    <tr>\n",
              "      <th>...</th>\n",
              "      <td>...</td>\n",
              "      <td>...</td>\n",
              "      <td>...</td>\n",
              "    </tr>\n",
              "    <tr>\n",
              "      <th>6322</th>\n",
              "      <td>-1.276375</td>\n",
              "      <td>-1.194285</td>\n",
              "      <td>3</td>\n",
              "    </tr>\n",
              "    <tr>\n",
              "      <th>7471</th>\n",
              "      <td>-1.026361</td>\n",
              "      <td>0.333679</td>\n",
              "      <td>2</td>\n",
              "    </tr>\n",
              "    <tr>\n",
              "      <th>5816</th>\n",
              "      <td>-2.912180</td>\n",
              "      <td>0.905548</td>\n",
              "      <td>3</td>\n",
              "    </tr>\n",
              "    <tr>\n",
              "      <th>48</th>\n",
              "      <td>0.291569</td>\n",
              "      <td>1.343386</td>\n",
              "      <td>2</td>\n",
              "    </tr>\n",
              "    <tr>\n",
              "      <th>6772</th>\n",
              "      <td>-1.422812</td>\n",
              "      <td>-0.747512</td>\n",
              "      <td>3</td>\n",
              "    </tr>\n",
              "  </tbody>\n",
              "</table>\n",
              "<p>6592 rows × 3 columns</p>\n",
              "</div>\n",
              "      <button class=\"colab-df-convert\" onclick=\"convertToInteractive('df-1b95e28b-82d1-4002-9b3c-e035b3a747f8')\"\n",
              "              title=\"Convert this dataframe to an interactive table.\"\n",
              "              style=\"display:none;\">\n",
              "        \n",
              "  <svg xmlns=\"http://www.w3.org/2000/svg\" height=\"24px\"viewBox=\"0 0 24 24\"\n",
              "       width=\"24px\">\n",
              "    <path d=\"M0 0h24v24H0V0z\" fill=\"none\"/>\n",
              "    <path d=\"M18.56 5.44l.94 2.06.94-2.06 2.06-.94-2.06-.94-.94-2.06-.94 2.06-2.06.94zm-11 1L8.5 8.5l.94-2.06 2.06-.94-2.06-.94L8.5 2.5l-.94 2.06-2.06.94zm10 10l.94 2.06.94-2.06 2.06-.94-2.06-.94-.94-2.06-.94 2.06-2.06.94z\"/><path d=\"M17.41 7.96l-1.37-1.37c-.4-.4-.92-.59-1.43-.59-.52 0-1.04.2-1.43.59L10.3 9.45l-7.72 7.72c-.78.78-.78 2.05 0 2.83L4 21.41c.39.39.9.59 1.41.59.51 0 1.02-.2 1.41-.59l7.78-7.78 2.81-2.81c.8-.78.8-2.07 0-2.86zM5.41 20L4 18.59l7.72-7.72 1.47 1.35L5.41 20z\"/>\n",
              "  </svg>\n",
              "      </button>\n",
              "      \n",
              "  <style>\n",
              "    .colab-df-container {\n",
              "      display:flex;\n",
              "      flex-wrap:wrap;\n",
              "      gap: 12px;\n",
              "    }\n",
              "\n",
              "    .colab-df-convert {\n",
              "      background-color: #E8F0FE;\n",
              "      border: none;\n",
              "      border-radius: 50%;\n",
              "      cursor: pointer;\n",
              "      display: none;\n",
              "      fill: #1967D2;\n",
              "      height: 32px;\n",
              "      padding: 0 0 0 0;\n",
              "      width: 32px;\n",
              "    }\n",
              "\n",
              "    .colab-df-convert:hover {\n",
              "      background-color: #E2EBFA;\n",
              "      box-shadow: 0px 1px 2px rgba(60, 64, 67, 0.3), 0px 1px 3px 1px rgba(60, 64, 67, 0.15);\n",
              "      fill: #174EA6;\n",
              "    }\n",
              "\n",
              "    [theme=dark] .colab-df-convert {\n",
              "      background-color: #3B4455;\n",
              "      fill: #D2E3FC;\n",
              "    }\n",
              "\n",
              "    [theme=dark] .colab-df-convert:hover {\n",
              "      background-color: #434B5C;\n",
              "      box-shadow: 0px 1px 3px 1px rgba(0, 0, 0, 0.15);\n",
              "      filter: drop-shadow(0px 1px 2px rgba(0, 0, 0, 0.3));\n",
              "      fill: #FFFFFF;\n",
              "    }\n",
              "  </style>\n",
              "\n",
              "      <script>\n",
              "        const buttonEl =\n",
              "          document.querySelector('#df-1b95e28b-82d1-4002-9b3c-e035b3a747f8 button.colab-df-convert');\n",
              "        buttonEl.style.display =\n",
              "          google.colab.kernel.accessAllowed ? 'block' : 'none';\n",
              "\n",
              "        async function convertToInteractive(key) {\n",
              "          const element = document.querySelector('#df-1b95e28b-82d1-4002-9b3c-e035b3a747f8');\n",
              "          const dataTable =\n",
              "            await google.colab.kernel.invokeFunction('convertToInteractive',\n",
              "                                                     [key], {});\n",
              "          if (!dataTable) return;\n",
              "\n",
              "          const docLinkHtml = 'Like what you see? Visit the ' +\n",
              "            '<a target=\"_blank\" href=https://colab.research.google.com/notebooks/data_table.ipynb>data table notebook</a>'\n",
              "            + ' to learn more about interactive tables.';\n",
              "          element.innerHTML = '';\n",
              "          dataTable['output_type'] = 'display_data';\n",
              "          await google.colab.output.renderOutput(dataTable, element);\n",
              "          const docLink = document.createElement('div');\n",
              "          docLink.innerHTML = docLinkHtml;\n",
              "          element.appendChild(docLink);\n",
              "        }\n",
              "      </script>\n",
              "    </div>\n",
              "  </div>\n",
              "  "
            ],
            "text/plain": [
              "      Elevation    Aspect  CoverType\n",
              "4190   0.534439  1.325515          1\n",
              "2377  -0.665627  1.691869          2\n",
              "7853  -1.872837 -1.104931          3\n",
              "2254   0.673733 -1.095995          1\n",
              "3796   0.205850 -0.479448          2\n",
              "...         ...       ...        ...\n",
              "6322  -1.276375 -1.194285          3\n",
              "7471  -1.026361  0.333679          2\n",
              "5816  -2.912180  0.905548          3\n",
              "48     0.291569  1.343386          2\n",
              "6772  -1.422812 -0.747512          3\n",
              "\n",
              "[6592 rows x 3 columns]"
            ]
          },
          "execution_count": 66,
          "metadata": {},
          "output_type": "execute_result"
        }
      ],
      "source": [
        "df_pred_train = X_train\n",
        "df_pred_train['CoverType'] = y_pred_train\n",
        "df_pred_train"
      ]
    },
    {
      "cell_type": "code",
      "execution_count": null,
      "metadata": {
        "id": "xt9-sKq_xuPr"
      },
      "outputs": [],
      "source": [
        "df_trains = [df_train[df_train['CoverType'] == i] for i in [1, 2, 3]]\n",
        "df_tests = [df_test[df_test['CoverType'] == i] for i in [1, 2, 3]]\n",
        "df_pred_tests = [df_pred_test[df_pred_test['CoverType'] == i] for i in [1, 2, 3]]\n",
        "df_pred_trains = [df_pred_train[df_pred_train['CoverType'] == i] for i in [1, 2, 3]]"
      ]
    },
    {
      "cell_type": "markdown",
      "metadata": {
        "id": "JOndmb3WK_89"
      },
      "source": [
        "## Task 7"
      ]
    },
    {
      "cell_type": "code",
      "execution_count": null,
      "metadata": {
        "id": "UEuJnbiEqV5K"
      },
      "outputs": [],
      "source": [
        "def plot_scatter(title, dfs):\n",
        "  plt.xlabel(\"Aspect\")\n",
        "  plt.ylabel(\"Elevation\")\n",
        "  plt.title(title)\n",
        "  for _df in dfs:\n",
        "    plt.scatter(_df['Aspect'], _df['Elevation'])"
      ]
    },
    {
      "cell_type": "code",
      "execution_count": null,
      "metadata": {
        "colab": {
          "base_uri": "https://localhost:8080/",
          "height": 295
        },
        "id": "887giLYRSAR5",
        "outputId": "0a7f187a-335b-493e-8bd2-0c37dd76a432"
      },
      "outputs": [
        {
          "data": {
            "image/png": "[encoded data removed]",
            "text/plain": [
              "<Figure size 432x288 with 1 Axes>"
            ]
          },
          "metadata": {
            "needs_background": "light"
          },
          "output_type": "display_data"
        }
      ],
      "source": [
        "plot_scatter(\"Train\", df_trains)"
      ]
    },
    {
      "cell_type": "code",
      "execution_count": null,
      "metadata": {
        "colab": {
          "base_uri": "https://localhost:8080/",
          "height": 295
        },
        "id": "whlWA68kUnes",
        "outputId": "2f15bdee-7137-4cb3-acb6-66e503a4ac36"
      },
      "outputs": [
        {
          "data": {
            "image/png": "[encoded data removed]",
            "text/plain": [
              "<Figure size 432x288 with 1 Axes>"
            ]
          },
          "metadata": {
            "needs_background": "light"
          },
          "output_type": "display_data"
        }
      ],
      "source": [
        "plot_scatter(\"Train (Predicted)\", df_pred_trains)"
      ]
    },
    {
      "cell_type": "code",
      "execution_count": null,
      "metadata": {
        "colab": {
          "base_uri": "https://localhost:8080/",
          "height": 295
        },
        "id": "Tv14PBbTUtKj",
        "outputId": "6ff79c40-a843-4be5-8c42-54de36cfcc71"
      },
      "outputs": [
        {
          "data": {
            "image/png": "[encoded data removed]",
            "text/plain": [
              "<Figure size 432x288 with 1 Axes>"
            ]
          },
          "metadata": {
            "needs_background": "light"
          },
          "output_type": "display_data"
        }
      ],
      "source": [
        "plot_scatter(\"Test\", df_tests)"
      ]
    },
    {
      "cell_type": "code",
      "execution_count": null,
      "metadata": {
        "colab": {
          "base_uri": "https://localhost:8080/",
          "height": 295
        },
        "id": "9jpWbPKIUw0W",
        "outputId": "0ab9e371-9f96-4fff-b017-7d4af66afea5"
      },
      "outputs": [
        {
          "data": {
            "image/png": "[encoded data removed]",
            "text/plain": [
              "<Figure size 432x288 with 1 Axes>"
            ]
          },
          "metadata": {
            "needs_background": "light"
          },
          "output_type": "display_data"
        }
      ],
      "source": [
        "plot_scatter(\"Test (Predicted)\", df_pred_tests)"
      ]
    }
  ],
  "metadata": {
    "colab": {
      "provenance": []
    },
    "kernelspec": {
      "display_name": "Python 3.10.6 64-bit",
      "language": "python",
      "name": "python3"
    },
    "language_info": {
      "name": "python",
      "version": "3.10.6"
    },
    "vscode": {
      "interpreter": {
        "hash": "e7370f93d1d0cde622a1f8e1c04877d8463912d04d973331ad4851f04de6915a"
      }
    }
  },
  "nbformat": 4,
  "nbformat_minor": 0
}
