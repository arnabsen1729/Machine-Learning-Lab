{
  "cells": [
    {
      "cell_type": "markdown",
      "metadata": {
        "id": "VuX9VLpbtz80"
      },
      "source": [
        "# Assignment 2\n",
        "\n",
        "- Name: **Arnab Sen**\n",
        "- Roll: **510519006**\n",
        "- Date: **Aug 12, 2022**\n",
        "\n",
        "## (i) Download data\n",
        "\n",
        "Data downloaded and stored at [drive](https://drive.google.com/drive/folders/1e0GgFC_TM8opWccrGAKhFeF1EW5VhK16)."
      ]
    },
    {
      "cell_type": "code",
      "execution_count": null,
      "metadata": {
        "colab": {
          "base_uri": "https://localhost:8080/"
        },
        "id": "KpWBetNxtcjf",
        "outputId": "b144128d-d261-47bf-8f46-c0ae11d0ce92"
      },
      "outputs": [],
      "source": [
        "from google.colab import drive\n",
        "drive.mount('/content/drive')"
      ]
    },
    {
      "cell_type": "code",
      "execution_count": null,
      "metadata": {
        "id": "4WMYTfBiN0z5"
      },
      "outputs": [],
      "source": [
        "BASE_PATH = '/content/drive/MyDrive/Colab_Notebooks/ML_DRIVE/Assign_2/dataset'"
      ]
    },
    {
      "cell_type": "code",
      "execution_count": null,
      "metadata": {
        "id": "2X3PQvp6NuHf"
      },
      "outputs": [],
      "source": [
        "import numpy as np\n",
        "import pandas as pd\n",
        "from sklearn.linear_model import LogisticRegression\n",
        "from sklearn.model_selection import KFold\n",
        "from sklearn.naive_bayes import BernoulliNB\n",
        "from random import randint\n",
        "from statistics import mean\n",
        "import matplotlib.pyplot as plt"
      ]
    },
    {
      "cell_type": "code",
      "execution_count": null,
      "metadata": {
        "colab": {
          "base_uri": "https://localhost:8080/"
        },
        "id": "i7AitoyVNst3",
        "outputId": "05793369-4229-4ecf-e159-a4dfe51625c7"
      },
      "outputs": [],
      "source": [
        "dataset = pd.read_csv(f\"{BASE_PATH}/data.csv\")\n",
        "print(\"Dataset shape:\", dataset.shape)\n",
        "print(\"Dataset columns:\", dataset.columns)"
      ]
    },
    {
      "cell_type": "code",
      "execution_count": null,
      "metadata": {
        "colab": {
          "base_uri": "https://localhost:8080/",
          "height": 505
        },
        "id": "eiUFaZ2dOtL8",
        "outputId": "0325d32e-bfc1-41f4-e5e5-4ebb36d8e708"
      },
      "outputs": [],
      "source": [
        "dataset = dataset.drop(columns = ['id', 'Unnamed: 32'])\n",
        "dataset"
      ]
    },
    {
      "cell_type": "markdown",
      "metadata": {
        "id": "VaIqhZB4Ni3y"
      },
      "source": [
        "## (ii) Implement Logistic regression \n",
        "Implement Logistic regression using scikit-learn package in python after splitting the dataset 80:10:10 percent (use seed = 5 for splitting)."
      ]
    },
    {
      "cell_type": "code",
      "execution_count": null,
      "metadata": {
        "id": "lzYtm8c1LUuY"
      },
      "outputs": [],
      "source": [
        "def train_validate_test_split(df, train_percent=.8, validate_percent=.1, seed=None):\n",
        "    np.random.seed(seed)\n",
        "    perm = np.random.permutation(df.index)\n",
        "    m = len(df.index)\n",
        "    train_end = int(train_percent * m)\n",
        "    validate_end = int(validate_percent * m) + train_end\n",
        "    train = df.iloc[perm[:train_end]]\n",
        "    validate = df.iloc[perm[train_end:validate_end]]\n",
        "    test = df.iloc[perm[validate_end:]]\n",
        "    return train, validate, test"
      ]
    },
    {
      "cell_type": "code",
      "execution_count": null,
      "metadata": {
        "colab": {
          "base_uri": "https://localhost:8080/"
        },
        "id": "Oz2DsDTIxjuQ",
        "outputId": "a2d1accc-69b7-4f02-bed1-85759b2acee9"
      },
      "outputs": [],
      "source": [
        "train_df, validation_df, test_df = train_validate_test_split(dataset, train_percent=0.8, validate_percent=0.1, seed=5)\n",
        "print(\"Shape of train:\", train_df.shape)\n",
        "print(\"Shape of validation:\", validation_df.shape)\n",
        "print(\"Shape of test:\", test_df.shape)"
      ]
    },
    {
      "cell_type": "code",
      "execution_count": null,
      "metadata": {
        "colab": {
          "base_uri": "https://localhost:8080/",
          "height": 505
        },
        "id": "2t6uV3cLL4ES",
        "outputId": "749e1b70-7280-45de-ae2a-099d9d05a3d2"
      },
      "outputs": [],
      "source": [
        "train_df"
      ]
    },
    {
      "cell_type": "code",
      "execution_count": null,
      "metadata": {
        "colab": {
          "base_uri": "https://localhost:8080/",
          "height": 1000
        },
        "id": "aKMciDumL5sO",
        "outputId": "0ec346a6-2839-47a0-bf74-7411205077f9"
      },
      "outputs": [],
      "source": [
        "validation_df"
      ]
    },
    {
      "cell_type": "code",
      "execution_count": null,
      "metadata": {
        "colab": {
          "base_uri": "https://localhost:8080/",
          "height": 1000
        },
        "id": "yhKbD4IwL7kG",
        "outputId": "6ad42a6a-5e2e-44eb-8acc-1f4444ea21b3"
      },
      "outputs": [],
      "source": [
        "test_df"
      ]
    },
    {
      "cell_type": "code",
      "execution_count": null,
      "metadata": {
        "id": "qPcWKrNxaDad"
      },
      "outputs": [],
      "source": [
        "y_test, y_train, y_valid = test_df['diagnosis'], train_df['diagnosis'], validation_df['diagnosis']\n",
        "X_test, X_train, X_valid = test_df.drop('diagnosis', axis=1), train_df.drop('diagnosis', axis=1), validation_df.drop('diagnosis', axis=1)"
      ]
    },
    {
      "cell_type": "markdown",
      "metadata": {
        "id": "ejsielDVPmZQ"
      },
      "source": [
        "## (iii) Train Logistic Regression Model"
      ]
    },
    {
      "cell_type": "code",
      "execution_count": null,
      "metadata": {
        "id": "6OoDTOt9Pfcz"
      },
      "outputs": [],
      "source": [
        "def train_model_with_solver(X_train, y_train, X_valid, y_valid, solver, penalty='l2', C=1.0):\n",
        "  lr = LogisticRegression(solver = solver, max_iter = 10000, penalty=penalty, C=C)\n",
        "  lr.fit(X_train, y_train)\n",
        "  score = lr.score(X_valid, y_valid)\n",
        "\n",
        "  return {\n",
        "      \"solver\": solver,\n",
        "      \"score\": score, \n",
        "      \"coefs\": lr.coef_.tolist()[0],\n",
        "      \"penalty\": penalty,\n",
        "      \"inv_of_regularization\": C\n",
        "  }\n"
      ]
    },
    {
      "cell_type": "code",
      "execution_count": null,
      "metadata": {
        "id": "pMIdXAFPPt1D"
      },
      "outputs": [],
      "source": [
        "def display_table(models, columns):\n",
        "  headers = ['solver', 'accuracy', 'penalty', 'inv_of_regularization'] + columns.tolist()\n",
        "  data = [[model['solver'], model['score'], model[\"penalty\"], model[\"inv_of_regularization\"]] + model['coefs'] for model in models]\n",
        "\n",
        "  return pd.DataFrame(\n",
        "      columns = headers,\n",
        "      data = data\n",
        "  )"
      ]
    },
    {
      "cell_type": "code",
      "execution_count": null,
      "metadata": {
        "id": "kbZ9C5y6d6BY"
      },
      "outputs": [],
      "source": [
        "newton_cg_model = train_model_with_solver(X_train, y_train, X_valid, y_valid, \"newton-cg\")\n",
        "lbfgs_model = train_model_with_solver(X_train, y_train, X_valid, y_valid, \"lbfgs\")\n",
        "liblinear_model = train_model_with_solver(X_train, y_train, X_valid, y_valid, \"liblinear\")"
      ]
    },
    {
      "cell_type": "code",
      "execution_count": null,
      "metadata": {
        "colab": {
          "base_uri": "https://localhost:8080/",
          "height": 271
        },
        "id": "NOZeycb6e2Lv",
        "outputId": "6a7effbb-f071-41ca-9706-24fb95fe45f3"
      },
      "outputs": [],
      "source": [
        "display_table([newton_cg_model, lbfgs_model, liblinear_model], X_train.columns)"
      ]
    },
    {
      "cell_type": "markdown",
      "metadata": {
        "id": "MvvmfuZKRmPW"
      },
      "source": [
        "## (iv) Use ‘l1’, ‘l2’, ‘none’ penality to train the Logistic regression model."
      ]
    },
    {
      "cell_type": "code",
      "execution_count": null,
      "metadata": {
        "id": "cKrgrncbRvCq"
      },
      "outputs": [],
      "source": [
        "l1_model = train_model_with_solver(X_train, y_train, X_valid, y_valid, \"saga\", penalty=\"l1\")\n",
        "l2_model = train_model_with_solver(X_train, y_train, X_valid, y_valid, \"saga\", penalty=\"l2\")\n",
        "none_model = train_model_with_solver(X_train, y_train, X_valid, y_valid, \"saga\", penalty=\"none\")"
      ]
    },
    {
      "cell_type": "code",
      "execution_count": null,
      "metadata": {
        "colab": {
          "base_uri": "https://localhost:8080/"
        },
        "id": "HWKkPfEVSIw4",
        "outputId": "adb352da-aa68-48c2-def8-c7da2a26c4e3"
      },
      "outputs": [],
      "source": [
        "display_table([l1_model, l2_model, none_model], X_train.columns)"
      ]
    },
    {
      "cell_type": "markdown",
      "metadata": {
        "id": "Iw6hb6M4TMEC"
      },
      "source": [
        "## (v) Vary the l1 penalty over the range (0.1, 0.25, 0.75, 0.9)\n",
        "compare the coefficients of the features."
      ]
    },
    {
      "cell_type": "code",
      "execution_count": null,
      "metadata": {
        "colab": {
          "base_uri": "https://localhost:8080/"
        },
        "id": "AqpxSiHOTRM0",
        "outputId": "e6144d37-2ed5-402c-d0f2-364ba394c0e0"
      },
      "outputs": [],
      "source": [
        "penalties = [0.1, 0.25, 0.75, 0.9]\n",
        "models = [train_model_with_solver(X_train, y_train, X_valid, y_valid, \"saga\", penalty=\"l1\", C=p) for p in penalties]\n",
        "display_table(models, X_train.columns)"
      ]
    },
    {
      "cell_type": "markdown",
      "metadata": {
        "id": "uwAireQvWF0q"
      },
      "source": [
        "## (vi) Estimate the average accuracy of the Naive Bayes algorithm using 5-fold cross-validation\n",
        "Use scikit-learn package in python. Plot the bar graph using matplotlib."
      ]
    },
    {
      "cell_type": "code",
      "execution_count": null,
      "metadata": {
        "colab": {
          "base_uri": "https://localhost:8080/"
        },
        "id": "jQjZAS4EWFN_",
        "outputId": "ad71b9bc-b78f-4fe0-d191-11ce9fb5829d"
      },
      "outputs": [],
      "source": [
        "X = dataset.drop('diagnosis', axis=1)\n",
        "y = dataset['diagnosis']\n",
        "folds = KFold(n_splits=5, shuffle=True)\n",
        "nb_accuracy = []\n",
        "for train_ids, test_ids in folds.split(X):\n",
        "  X_train = X.iloc[train_ids]\n",
        "  y_train = y.iloc[train_ids]\n",
        "  X_test = X.iloc[test_ids]\n",
        "  y_test = y.iloc[test_ids]\n",
        "\n",
        "  naive_bayes_model = BernoulliNB()\n",
        "  naive_bayes_model.fit(X_train, y_train)\n",
        "\n",
        "  accuracy = naive_bayes_model.score(X_test, y_test)\n",
        "  nb_accuracy.append(accuracy)\n",
        "\n",
        "print(\"Avg accuracy = \", mean(nb_accuracy))"
      ]
    },
    {
      "cell_type": "code",
      "execution_count": null,
      "metadata": {
        "colab": {
          "base_uri": "https://localhost:8080/",
          "height": 312
        },
        "id": "MoyINoidWnqW",
        "outputId": "ae2915a5-324d-42d6-dd59-17ab8e4c7ce6"
      },
      "outputs": [],
      "source": [
        "plt.xlabel('5-Fold Iteration')\n",
        "plt.ylabel('Accuracy')\n",
        "plt.title('Accuracy of the 5-Fold Iterations')\n",
        "plt.bar([x for x in range(1,6)],nb_accuracy, color='green')\n",
        "plt.plot()"
      ]
    }
  ],
  "metadata": {
    "colab": {
      "name": "510519006-assignment-02.ipynb",
      "provenance": []
    },
    "kernelspec": {
      "display_name": "Python 3",
      "language": "python",
      "name": "python3"
    },
    "language_info": {
      "name": "python",
      "version": "3.10.7 (main, Oct 26 2022, 14:14:16) [Clang 14.0.0 (clang-1400.0.29.102)]"
    },
    "vscode": {
      "interpreter": {
        "hash": "5f90c9c72ce04906de37d4c67574a63377e4fd7d3965d8d2cd20954f66a8e417"
      }
    }
  },
  "nbformat": 4,
  "nbformat_minor": 0
}
