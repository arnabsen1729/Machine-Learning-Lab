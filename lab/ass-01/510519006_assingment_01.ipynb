{
  "cells": [
    {
      "cell_type": "markdown",
      "metadata": {
        "id": "_celauhDN5wT"
      },
      "source": [
        "# Assignment 1\n",
        "\n",
        "- Name: **Arnab Sen**\n",
        "- Roll: **510519006**\n",
        "- Date: **Aug 12, 2022**\n",
        "\n",
        "## (i) Download data\n",
        "\n",
        "Data downloaded and stored at [drive](https://drive.google.com/drive/folders/1-2d4kuiufZHmaXDhBi2sAYeoYPgBnQqL)."
      ]
    },
    {
      "cell_type": "code",
      "execution_count": null,
      "metadata": {
        "colab": {
          "base_uri": "https://localhost:8080/"
        },
        "id": "gy1d48MYaEaN",
        "outputId": "798ab43e-e6cf-4b32-93b4-b341020d85dd"
      },
      "outputs": [],
      "source": [
        "from google.colab import drive\n",
        "drive.mount('/content/drive')"
      ]
    },
    {
      "cell_type": "code",
      "execution_count": null,
      "metadata": {
        "id": "Vi1l6kNyJdwh"
      },
      "outputs": [],
      "source": [
        "import warnings\n",
        "warnings.simplefilter(action='ignore', category=FutureWarning)"
      ]
    },
    {
      "cell_type": "code",
      "execution_count": null,
      "metadata": {
        "id": "szRLmXIZdAPf"
      },
      "outputs": [],
      "source": [
        "BASE_PATH = '/content/drive/MyDrive/Colab_Notebooks/ML_DRIVE/Assign_1/dataset'"
      ]
    },
    {
      "cell_type": "code",
      "execution_count": null,
      "metadata": {
        "id": "6FhIvStocroa"
      },
      "outputs": [],
      "source": [
        "import numpy as np\n",
        "import pandas as pd # read csv files\n",
        "from sklearn.model_selection import train_test_split # test and train data split\n",
        "from sklearn.preprocessing import OneHotEncoder\n",
        "from sklearn.linear_model import LinearRegression\n",
        "from sklearn.preprocessing import StandardScaler\n",
        "from sklearn.metrics import mean_squared_error, r2_score\n",
        "import seaborn as sns # graph plot\n",
        "import matplotlib.pyplot as plt # scatter plot\n",
        "from sklearn.preprocessing import PolynomialFeatures # polynomial regression"
      ]
    },
    {
      "cell_type": "markdown",
      "metadata": {
        "id": "O0jQEwyRM3pM"
      },
      "source": [
        "## (ii) Reading and formating dataset \n",
        "Read the dataset in the Pandas data frame. Remove the rows with a missing value. Divide the training.csv into two sets of ratio 80:20 entitled to train and test set respectively."
      ]
    },
    {
      "cell_type": "code",
      "execution_count": null,
      "metadata": {
        "id": "8Vv1AKd4ctPn"
      },
      "outputs": [],
      "source": [
        "dataset = pd.read_csv(f\"{BASE_PATH}/train.csv\")\n",
        "scaler = StandardScaler()"
      ]
    },
    {
      "cell_type": "code",
      "execution_count": null,
      "metadata": {
        "colab": {
          "base_uri": "https://localhost:8080/",
          "height": 236
        },
        "id": "1noy5CigfU9c",
        "outputId": "3e3da494-a98e-4cdb-a56c-cc43fbb13c50"
      },
      "outputs": [],
      "source": [
        "dataset.head()"
      ]
    },
    {
      "cell_type": "markdown",
      "metadata": {
        "id": "ADYbfmS-Nxb6"
      },
      "source": [
        "## (iii) Linear Regression\n",
        "\n",
        "Use the linear regression method to estimate the slope and intercept for predicting `SalePrice` based on `LotArea`"
      ]
    },
    {
      "cell_type": "markdown",
      "metadata": {
        "id": "3-apJzTqOotp"
      },
      "source": [
        "Remove the missing rows corresponding to only `SalePrice` and `LotArea` columns."
      ]
    },
    {
      "cell_type": "code",
      "execution_count": null,
      "metadata": {
        "id": "IDa3fPtufW7j"
      },
      "outputs": [],
      "source": [
        "df = dataset.loc[:, ['SalePrice', 'LotArea']].dropna()"
      ]
    },
    {
      "cell_type": "markdown",
      "metadata": {
        "id": "E5ffRjKo7BGw"
      },
      "source": [
        "Splitting the dataset in 80:20 ratio for fitting the model and then testing."
      ]
    },
    {
      "cell_type": "code",
      "execution_count": null,
      "metadata": {
        "id": "qrSO7z4bgY27"
      },
      "outputs": [],
      "source": [
        "train_df, test_df = train_test_split(df, test_size=0.2)"
      ]
    },
    {
      "cell_type": "code",
      "execution_count": null,
      "metadata": {
        "colab": {
          "base_uri": "https://localhost:8080/",
          "height": 365
        },
        "id": "eOFO31Txq77P",
        "outputId": "2fac0e47-82f5-46be-d713-eee3ea775f36"
      },
      "outputs": [],
      "source": [
        "sns.displot(train_df['SalePrice']);"
      ]
    },
    {
      "cell_type": "code",
      "execution_count": null,
      "metadata": {
        "colab": {
          "base_uri": "https://localhost:8080/",
          "height": 206
        },
        "id": "59Sdz_R_gziK",
        "outputId": "f0ab6ca1-86f9-4432-a7af-cdf7ed865c35"
      },
      "outputs": [],
      "source": [
        "train_df.head()"
      ]
    },
    {
      "cell_type": "code",
      "execution_count": null,
      "metadata": {
        "colab": {
          "base_uri": "https://localhost:8080/",
          "height": 206
        },
        "id": "qW9nuJU7g1K9",
        "outputId": "a9f5a435-3aef-4bca-ade8-8cbc4de40aa1"
      },
      "outputs": [],
      "source": [
        "test_df.head()"
      ]
    },
    {
      "cell_type": "markdown",
      "metadata": {
        "id": "R9WLTbi3NUxQ"
      },
      "source": [
        "Scatter plot to see the relationship between `SalePrice` and `LotArea`."
      ]
    },
    {
      "cell_type": "code",
      "execution_count": null,
      "metadata": {
        "colab": {
          "base_uri": "https://localhost:8080/",
          "height": 383
        },
        "id": "zQbCgQb7im_l",
        "outputId": "7f19f276-40a7-403c-cf3d-707b6067b7f6"
      },
      "outputs": [],
      "source": [
        "# ci: used to specify the size of the interval\n",
        "sns.lmplot(x =\"LotArea\", y =\"SalePrice\", data = train_df, ci=None, order=2)"
      ]
    },
    {
      "cell_type": "markdown",
      "metadata": {
        "id": "EhTCmCufoOcF"
      },
      "source": [
        "\n",
        "\n"
      ]
    },
    {
      "cell_type": "code",
      "execution_count": null,
      "metadata": {
        "id": "R5zWfVJxi3Xy"
      },
      "outputs": [],
      "source": [
        "X_train = np.array(train_df['LotArea']).reshape(-1, 1) # have one column and as many rows as necessary\n",
        "X_train = scaler.fit_transform(X_train)\n",
        "y_train = np.array(train_df['SalePrice']).reshape(-1, 1)\n",
        "\n",
        "X_test = np.array(test_df['LotArea']).reshape(-1, 1)\n",
        "X_test = scaler.fit_transform(X_test)\n",
        "y_test = np.array(test_df['SalePrice']).reshape(-1, 1)"
      ]
    },
    {
      "cell_type": "code",
      "execution_count": null,
      "metadata": {
        "id": "gCNQN9thjjLA"
      },
      "outputs": [],
      "source": [
        "model = LinearRegression()\n",
        " \n",
        "new_model = model.fit(X_train, y_train)\n",
        "y_pred = new_model.predict(X_test)"
      ]
    },
    {
      "cell_type": "code",
      "execution_count": null,
      "metadata": {
        "colab": {
          "base_uri": "https://localhost:8080/",
          "height": 517
        },
        "id": "5GtE68-kZBE3",
        "outputId": "27a77d21-4161-4bb0-adaf-3d4bb7a8ab6b"
      },
      "outputs": [],
      "source": [
        "plt.xlabel(\"LotArea\")\n",
        "plt.ylabel(\"SalePrice\")\n",
        "plt.scatter(X_test, y_test)\n",
        "plt.plot(X_test, y_pred, color ='r')\n",
        " \n",
        "plt.show()"
      ]
    },
    {
      "cell_type": "markdown",
      "metadata": {
        "id": "nP-Gng8eXjZl"
      },
      "source": [
        "- **Coefficient of Determination:** With linear regression, the coefficient of determination is equal to the square of the correlation between the x and y variables."
      ]
    },
    {
      "cell_type": "code",
      "execution_count": null,
      "metadata": {
        "colab": {
          "base_uri": "https://localhost:8080/"
        },
        "id": "qpCsjtpswtB0",
        "outputId": "67dc7ee9-f782-490b-8078-ad570d6a64ba"
      },
      "outputs": [],
      "source": [
        "print(\"Linear Regression\\n====================\")\n",
        "print(\"coefficient of determination (r-squared):\", new_model.score(X_test, y_test)) \n",
        "print(\"intercept:\", new_model.intercept_)\n",
        "print(\"slope:\", new_model.coef_)\n",
        "mse_linear_regression = mean_squared_error(y_test, y_pred)\n",
        "print(\"mean squared error:\", mse_linear_regression)"
      ]
    },
    {
      "cell_type": "markdown",
      "metadata": {
        "id": "a0JJ240ApkNW"
      },
      "source": [
        "## (iv) Multiple Regression\n",
        "### Model 1: LotFrontage, LotArea"
      ]
    },
    {
      "cell_type": "code",
      "execution_count": null,
      "metadata": {
        "id": "5m91ubNReFII"
      },
      "outputs": [],
      "source": [
        "lot_area_weights = [] # required for question (vii)"
      ]
    },
    {
      "cell_type": "code",
      "execution_count": null,
      "metadata": {
        "id": "44rHH6c7pmlA"
      },
      "outputs": [],
      "source": [
        "df = dataset.loc[:, ['SalePrice', 'LotArea', 'LotFrontage']].dropna()"
      ]
    },
    {
      "cell_type": "code",
      "execution_count": null,
      "metadata": {
        "id": "bzTbn0EGpzXw"
      },
      "outputs": [],
      "source": [
        "train_df, test_df = train_test_split(df, test_size=0.2)"
      ]
    },
    {
      "cell_type": "code",
      "execution_count": null,
      "metadata": {
        "colab": {
          "base_uri": "https://localhost:8080/",
          "height": 206
        },
        "id": "wymE1BKSSkM-",
        "outputId": "e81af659-4e37-45f2-a51e-a89fbbc429d0"
      },
      "outputs": [],
      "source": [
        "train_df.head()"
      ]
    },
    {
      "cell_type": "code",
      "execution_count": null,
      "metadata": {
        "colab": {
          "base_uri": "https://localhost:8080/",
          "height": 206
        },
        "id": "JTK-lv5USnMg",
        "outputId": "73c5ed0e-35c7-4445-b7ca-2f0761e36490"
      },
      "outputs": [],
      "source": [
        "test_df.head()"
      ]
    },
    {
      "cell_type": "code",
      "execution_count": null,
      "metadata": {
        "colab": {
          "base_uri": "https://localhost:8080/",
          "height": 365
        },
        "id": "EM2YMwYfrA2I",
        "outputId": "c95d645d-d753-4445-a53e-c73dfdd0c084"
      },
      "outputs": [],
      "source": [
        "sns.displot(train_df['SalePrice']);"
      ]
    },
    {
      "cell_type": "code",
      "execution_count": null,
      "metadata": {
        "id": "pJHCKQQ6p7o4"
      },
      "outputs": [],
      "source": [
        "variables = ['LotArea', 'LotFrontage']\n",
        "X_train = np.array(train_df[variables])\n",
        "X_train = scaler.fit_transform(X_train)\n",
        "y_train = np.array(train_df[['SalePrice']])\n",
        "\n",
        "X_test = np.array(test_df[variables])\n",
        "X_test = scaler.fit_transform(X_test)\n",
        "y_test = np.array(test_df[['SalePrice']])"
      ]
    },
    {
      "cell_type": "code",
      "execution_count": null,
      "metadata": {
        "id": "6mYQSLggoI3w"
      },
      "outputs": [],
      "source": [
        "model = LinearRegression()\n",
        "new_model = model.fit(X_train, y_train)"
      ]
    },
    {
      "cell_type": "code",
      "execution_count": null,
      "metadata": {
        "colab": {
          "base_uri": "https://localhost:8080/"
        },
        "id": "hNdphWeSqbQ5",
        "outputId": "0a719966-cfd0-4363-bd07-9e7ce18a666f"
      },
      "outputs": [],
      "source": [
        "y_pred = new_model.predict(X_train)\n",
        "r2_m1_train = new_model.score(X_train, y_train)\n",
        "mse_m1_train = mean_squared_error(y_train, y_pred)\n",
        "print(\"[Model 1 training] mean squared error:\", mse_m1_train)\n",
        "print(\"[Model 1 training] r2 score:\", r2_m1_train)\n",
        "\n",
        "y_pred = new_model.predict(X_test)\n",
        "r2_m1_test = new_model.score(X_test, y_test)\n",
        "mse_m1_test = mean_squared_error(y_test, y_pred)\n",
        "print(\"[Model 1 testing] mean squared error:\", mse_m1_test)\n",
        "print(\"[Model 1 testing] r2 score:\", r2_m1_test)"
      ]
    },
    {
      "cell_type": "code",
      "execution_count": null,
      "metadata": {
        "colab": {
          "base_uri": "https://localhost:8080/"
        },
        "id": "twsLCrBOc-JY",
        "outputId": "0bd0997c-9c01-4adc-88ff-63a45c13b467"
      },
      "outputs": [],
      "source": [
        "print(\"Weights/Coefficients:\\n\")\n",
        "for name, weight in zip(variables, new_model.coef_.reshape(-1)):\n",
        "  if name == 'LotArea':\n",
        "    lot_area_weights.append(weight)\n",
        "    \n",
        "  print(f\"{name.ljust(25)} {weight}\")"
      ]
    },
    {
      "cell_type": "markdown",
      "metadata": {
        "id": "huxvDRRQtwd4"
      },
      "source": [
        "### Model 2: LotFrontage, LotArea, OverallQual, OverallCond"
      ]
    },
    {
      "cell_type": "code",
      "execution_count": null,
      "metadata": {
        "id": "dav-U3CrtwHV"
      },
      "outputs": [],
      "source": [
        "df = dataset.loc[:, ['SalePrice', 'LotArea', 'LotFrontage', 'OverallQual', 'OverallCond']].dropna()"
      ]
    },
    {
      "cell_type": "code",
      "execution_count": null,
      "metadata": {
        "id": "AfTrbJfPuIPi"
      },
      "outputs": [],
      "source": [
        "train_df, test_df = train_test_split(df, test_size=0.2)"
      ]
    },
    {
      "cell_type": "code",
      "execution_count": null,
      "metadata": {
        "colab": {
          "base_uri": "https://localhost:8080/",
          "height": 206
        },
        "id": "M81mhhMNTN88",
        "outputId": "7aacf748-caea-4ecb-9c2e-d07131122904"
      },
      "outputs": [],
      "source": [
        "train_df.head()"
      ]
    },
    {
      "cell_type": "code",
      "execution_count": null,
      "metadata": {
        "colab": {
          "base_uri": "https://localhost:8080/",
          "height": 206
        },
        "id": "Q7i7lIynTPdK",
        "outputId": "2adac263-8c8c-43ea-bd2e-7118fb6dbe03"
      },
      "outputs": [],
      "source": [
        "test_df.head()"
      ]
    },
    {
      "cell_type": "code",
      "execution_count": null,
      "metadata": {
        "colab": {
          "base_uri": "https://localhost:8080/",
          "height": 365
        },
        "id": "H0fHFklarnK5",
        "outputId": "5b689d4e-9236-4cd6-ece6-bac8f328a652"
      },
      "outputs": [],
      "source": [
        "sns.displot(train_df['SalePrice']);"
      ]
    },
    {
      "cell_type": "code",
      "execution_count": null,
      "metadata": {
        "id": "tmbefqzAuMrx"
      },
      "outputs": [],
      "source": [
        "variables = ['LotArea', 'LotFrontage', 'OverallQual', 'OverallCond']\n",
        "X_train = np.array(train_df[variables])\n",
        "X_train = scaler.fit_transform(X_train)\n",
        "y_train = np.array(train_df[['SalePrice']])\n",
        "\n",
        "X_test = np.array(test_df[variables])\n",
        "X_test = scaler.fit_transform(X_test)\n",
        "y_test = np.array(test_df[['SalePrice']])"
      ]
    },
    {
      "cell_type": "code",
      "execution_count": null,
      "metadata": {
        "id": "NfW3j7mWrc3Q"
      },
      "outputs": [],
      "source": [
        "model = LinearRegression()\n",
        "new_model = model.fit(X_train, y_train)"
      ]
    },
    {
      "cell_type": "code",
      "execution_count": null,
      "metadata": {
        "colab": {
          "base_uri": "https://localhost:8080/"
        },
        "id": "KV8hOQTiuSy5",
        "outputId": "0c0f64e8-041b-470b-ea16-2c9fd49b47b4"
      },
      "outputs": [],
      "source": [
        "y_pred = new_model.predict(X_train)\n",
        "r2_m2_train = new_model.score(X_train, y_train)\n",
        "mse_m2_train = mean_squared_error(y_train, y_pred)\n",
        "print(\"[Model 2 training] mean squared error:\", mse_m2_train)\n",
        "print(\"[Model 2 training] r2 score:\", r2_m2_train)\n",
        "\n",
        "y_pred = new_model.predict(X_test)\n",
        "r2_m2_test = new_model.score(X_test, y_test)\n",
        "mse_m2_test = mean_squared_error(y_test, y_pred)\n",
        "print(\"[Model 2 testing] mean squared error:\", mse_m2_test)\n",
        "print(\"[Model 2 testing] r2 score:\", r2_m2_test)"
      ]
    },
    {
      "cell_type": "code",
      "execution_count": null,
      "metadata": {
        "colab": {
          "base_uri": "https://localhost:8080/"
        },
        "id": "heshcQ-Lc6Lg",
        "outputId": "25c00c23-c995-4d21-a872-a05f9012326a"
      },
      "outputs": [],
      "source": [
        "print(\"Weights/Coefficients:\\n\")\n",
        "for name, weight in zip(variables, new_model.coef_.reshape(-1)):\n",
        "  if name == 'LotArea':\n",
        "    lot_area_weights.append(weight)\n",
        "  print(f\"{name.ljust(25)} {weight}\")"
      ]
    },
    {
      "cell_type": "markdown",
      "metadata": {
        "id": "y_DuSZTGub0K"
      },
      "source": [
        "### Model 3: LotFrontage, LotArea, OverallQual, OverallCond, 1stFlrSF, GrLivArea"
      ]
    },
    {
      "cell_type": "code",
      "execution_count": null,
      "metadata": {
        "id": "Y7TVve2UubW_"
      },
      "outputs": [],
      "source": [
        "df = dataset.loc[:, ['SalePrice', 'LotArea', 'LotFrontage', 'OverallQual', 'OverallCond', '1stFlrSF', 'GrLivArea']].dropna()"
      ]
    },
    {
      "cell_type": "code",
      "execution_count": null,
      "metadata": {
        "id": "PoilJ6C9uwO2"
      },
      "outputs": [],
      "source": [
        "train_df, test_df = train_test_split(df, test_size=0.2)"
      ]
    },
    {
      "cell_type": "code",
      "execution_count": null,
      "metadata": {
        "colab": {
          "base_uri": "https://localhost:8080/",
          "height": 206
        },
        "id": "ITh6PVK7TdMa",
        "outputId": "485993e2-fd81-4e2e-9f35-9d12b0ad685c"
      },
      "outputs": [],
      "source": [
        "train_df.head()"
      ]
    },
    {
      "cell_type": "code",
      "execution_count": null,
      "metadata": {
        "colab": {
          "base_uri": "https://localhost:8080/",
          "height": 206
        },
        "id": "uTxoQgcgTeke",
        "outputId": "0a30481c-56fa-49a1-b4aa-af5a7e9c09b5"
      },
      "outputs": [],
      "source": [
        "test_df.head()"
      ]
    },
    {
      "cell_type": "code",
      "execution_count": null,
      "metadata": {
        "colab": {
          "base_uri": "https://localhost:8080/",
          "height": 365
        },
        "id": "Psk46SjTr_B8",
        "outputId": "64a30e46-bd09-45a2-ec7e-a076a0204450"
      },
      "outputs": [],
      "source": [
        "sns.displot(train_df['SalePrice']);"
      ]
    },
    {
      "cell_type": "code",
      "execution_count": null,
      "metadata": {
        "id": "CLJDvyHBu4cf"
      },
      "outputs": [],
      "source": [
        "variables = ['LotArea', 'LotFrontage', 'OverallQual', 'OverallCond', '1stFlrSF', 'GrLivArea']\n",
        "X_train = np.array(train_df[variables])\n",
        "X_train = scaler.fit_transform(X_train)\n",
        "y_train = np.array(train_df[['SalePrice']])\n",
        "\n",
        "X_test = np.array(test_df[variables])\n",
        "X_test = scaler.fit_transform(X_test)\n",
        "y_test = np.array(test_df[['SalePrice']])"
      ]
    },
    {
      "cell_type": "code",
      "execution_count": null,
      "metadata": {
        "id": "XNFknwzQsDeq"
      },
      "outputs": [],
      "source": [
        "model = LinearRegression()\n",
        "new_model = model.fit(X_train, y_train)"
      ]
    },
    {
      "cell_type": "code",
      "execution_count": null,
      "metadata": {
        "colab": {
          "base_uri": "https://localhost:8080/"
        },
        "id": "S5aivgGiu8lZ",
        "outputId": "ea2c1ed2-b378-4e0b-a2a2-020b443fac6f"
      },
      "outputs": [],
      "source": [
        "y_pred = new_model.predict(X_train)\n",
        "r2_m3_train = new_model.score(X_train, y_train)\n",
        "mse_m3_train = mean_squared_error(y_train, y_pred)\n",
        "print(\"[Model 3 training] mean squared error:\", mse_m3_train)\n",
        "print(\"[Model 3 training] r2 score:\", r2_m3_train)\n",
        "\n",
        "y_pred = new_model.predict(X_test)\n",
        "r2_m3_test = new_model.score(X_test, y_test)\n",
        "mse_m3_test = mean_squared_error(y_test, y_pred)\n",
        "print(\"[Model 3 testing] mean squared error:\", mse_m3_train)\n",
        "print(\"[Model 3 testing] r2 score:\", r2_m3_test)"
      ]
    },
    {
      "cell_type": "code",
      "execution_count": null,
      "metadata": {
        "colab": {
          "base_uri": "https://localhost:8080/"
        },
        "id": "wJeLVCF2c7xt",
        "outputId": "719da66f-140b-4068-b973-b9ab4374b38d"
      },
      "outputs": [],
      "source": [
        "print(\"Weights/Coefficients:\\n\")\n",
        "for name, weight in zip(variables, new_model.coef_.reshape(-1)):\n",
        "  if name == 'LotArea':\n",
        "    lot_area_weights.append(weight)\n",
        "  print(f\"{name.ljust(25)} {weight}\")"
      ]
    },
    {
      "cell_type": "markdown",
      "metadata": {
        "id": "drPCIBJgsaTj"
      },
      "source": [
        "## (v) Compare the Mean squared Error, R2 score"
      ]
    },
    {
      "cell_type": "markdown",
      "metadata": {
        "id": "qG3UXteytS7s"
      },
      "source": [
        "#### Comparing R2 score"
      ]
    },
    {
      "cell_type": "markdown",
      "metadata": {
        "id": "slcvDwXCtVtB"
      },
      "source": [
        "#### Comparing Mean Squared Error"
      ]
    },
    {
      "cell_type": "code",
      "execution_count": null,
      "metadata": {
        "colab": {
          "base_uri": "https://localhost:8080/",
          "height": 518
        },
        "id": "zBw8wgI0ucvc",
        "outputId": "52c07a51-0898-49f1-a219-20916b854053"
      },
      "outputs": [],
      "source": [
        "plt.figure(figsize=(10, 8))\n",
        "plt.xlabel(\"Models of multiple regression\")\n",
        "plt.ylabel(\"Mean Squared Error\")\n",
        "plt.title(\"Mean Squared Error comparison b/w models\")\n",
        "x = [\"Model-1\", \"Model-2\", \"Model-3\"]\n",
        "x_axis = np.arange(len(x))\n",
        "plt.bar(x_axis-0.2, [mse_m1_train, mse_m2_train, mse_m3_train], width=0.4, label=\"train\")\n",
        "plt.bar(x_axis+0.2, [mse_m1_test, mse_m2_test, mse_m3_test], width=0.4, label=\"test\")\n",
        "plt.xticks(x_axis, x)\n",
        "plt.legend()\n",
        "plt.show()"
      ]
    },
    {
      "cell_type": "code",
      "execution_count": null,
      "metadata": {
        "colab": {
          "base_uri": "https://localhost:8080/",
          "height": 518
        },
        "id": "lYegpIh_usTJ",
        "outputId": "7506c7aa-81dd-4c8e-ad5a-6d3189c25eeb"
      },
      "outputs": [],
      "source": [
        "plt.figure(figsize=(10, 8))\n",
        "plt.xlabel(\"Models of multiple regression\")\n",
        "plt.ylabel(\"R2 Score\")\n",
        "plt.title(\"R2 Score comparison b/w models\")\n",
        "plt.bar(x_axis-0.2, [r2_m1_train, r2_m2_train, r2_m3_train], width=0.4, label=\"train\")\n",
        "plt.bar(x_axis+0.2, [r2_m1_test, r2_m2_test, r2_m3_test], width=0.4, label=\"test\")\n",
        "plt.xticks(x_axis, x)\n",
        "plt.legend()\n",
        "plt.show()"
      ]
    },
    {
      "cell_type": "markdown",
      "metadata": {
        "id": "VuU6eeD8vK2l"
      },
      "source": [
        "## (vi) Multiple Regression (contd.)\n",
        "### Model 4: LotArea, Street"
      ]
    },
    {
      "cell_type": "code",
      "execution_count": null,
      "metadata": {
        "colab": {
          "base_uri": "https://localhost:8080/",
          "height": 365
        },
        "id": "rCpuVSI8wOFY",
        "outputId": "416bcc20-7348-43f5-d251-588cc09f06cb"
      },
      "outputs": [],
      "source": [
        "df = dataset.loc[:, ['SalePrice', 'LotArea', 'Street']].dropna()\n",
        "df = pd.get_dummies(df, columns = ['Street'])\n",
        "train_df, test_df = train_test_split(df, test_size=0.2)\n",
        "sns.displot(train_df['SalePrice']);"
      ]
    },
    {
      "cell_type": "code",
      "execution_count": null,
      "metadata": {
        "colab": {
          "base_uri": "https://localhost:8080/",
          "height": 206
        },
        "id": "s1f7udZvUUVf",
        "outputId": "b5ee7842-83bd-4b01-c7da-0c57a2622074"
      },
      "outputs": [],
      "source": [
        "test_df.head()"
      ]
    },
    {
      "cell_type": "code",
      "execution_count": null,
      "metadata": {
        "colab": {
          "base_uri": "https://localhost:8080/",
          "height": 206
        },
        "id": "OhL0dJcY3Jeq",
        "outputId": "38079cee-47b8-4e85-c368-6e651d1a72a0"
      },
      "outputs": [],
      "source": [
        "train_df.head()"
      ]
    },
    {
      "cell_type": "code",
      "execution_count": null,
      "metadata": {
        "id": "QZoaE9YlwuUT"
      },
      "outputs": [],
      "source": [
        "variables = train_df.columns.array[1:]\n",
        "X_train = np.array(train_df[variables])\n",
        "X_train = scaler.fit_transform(X_train)\n",
        "y_train = np.array(train_df[['SalePrice']])\n",
        "X_test = np.array(test_df[variables])\n",
        "X_test = scaler.fit_transform(X_test)\n",
        "y_test = np.array(test_df[['SalePrice']])"
      ]
    },
    {
      "cell_type": "code",
      "execution_count": null,
      "metadata": {
        "id": "RA954VNIw2P8"
      },
      "outputs": [],
      "source": [
        "model = LinearRegression()\n",
        "new_model = model.fit(X_train, y_train)"
      ]
    },
    {
      "cell_type": "code",
      "execution_count": null,
      "metadata": {
        "id": "Xb-c8l6U4edk"
      },
      "outputs": [],
      "source": [
        "y_pred = new_model.predict(X_test)\n",
        "r2_score_m4 = new_model.score(X_test, y_test)\n",
        "mse_m4 = mean_squared_error(y_test, y_pred)"
      ]
    },
    {
      "cell_type": "code",
      "execution_count": null,
      "metadata": {
        "colab": {
          "base_uri": "https://localhost:8080/"
        },
        "id": "mR5XOpVnc12h",
        "outputId": "3a8f364c-4414-4a02-8730-fdde187f594d"
      },
      "outputs": [],
      "source": [
        "print(\"Weights/Coefficients:\\n\")\n",
        "for name, weight in zip(variables, new_model.coef_.reshape(-1)):\n",
        "  if name == 'LotArea':\n",
        "    lot_area_weights.append(weight)\n",
        "  print(f\"{name.ljust(25)} {weight}\")"
      ]
    },
    {
      "cell_type": "markdown",
      "metadata": {
        "id": "gv_GXcEHU0lx"
      },
      "source": [
        "### Model 5: LotArea, OverallCond, Street, Neighborhood"
      ]
    },
    {
      "cell_type": "code",
      "execution_count": null,
      "metadata": {
        "colab": {
          "base_uri": "https://localhost:8080/",
          "height": 365
        },
        "id": "2G_lNFkTU5gA",
        "outputId": "b11d1540-26fa-4ce3-9ef0-6fa540eabc4e"
      },
      "outputs": [],
      "source": [
        "df = dataset.loc[:, ['SalePrice', 'LotArea', 'OverallCond', 'Street', 'Neighborhood']].dropna()\n",
        "df = pd.get_dummies(df, columns = ['Street', 'Neighborhood'])\n",
        "train_df, test_df = train_test_split(df, test_size=0.2)\n",
        "sns.displot(train_df['SalePrice']);"
      ]
    },
    {
      "cell_type": "code",
      "execution_count": null,
      "metadata": {
        "colab": {
          "base_uri": "https://localhost:8080/",
          "height": 300
        },
        "id": "X56P5VxCVPRT",
        "outputId": "37cee0d2-5725-4d91-fe60-f316a21b82e6"
      },
      "outputs": [],
      "source": [
        "train_df.head()"
      ]
    },
    {
      "cell_type": "code",
      "execution_count": null,
      "metadata": {
        "colab": {
          "base_uri": "https://localhost:8080/",
          "height": 300
        },
        "id": "KvVQwZIzVRZx",
        "outputId": "5424c0ad-db0f-41e8-acc9-8d84be8ca989"
      },
      "outputs": [],
      "source": [
        "test_df.head()"
      ]
    },
    {
      "cell_type": "code",
      "execution_count": null,
      "metadata": {
        "id": "MAZ1yghZVUkK"
      },
      "outputs": [],
      "source": [
        "variables = train_df.columns.array[1:]\n",
        "X_train = np.array(train_df[variables])\n",
        "X_train = scaler.fit_transform(X_train)\n",
        "y_train = np.array(train_df[['SalePrice']])\n",
        "\n",
        "X_test = np.array(test_df[variables])\n",
        "X_test = scaler.fit_transform(X_test)\n",
        "y_test = np.array(test_df[['SalePrice']])"
      ]
    },
    {
      "cell_type": "code",
      "execution_count": null,
      "metadata": {
        "id": "QM-gLyiMVf5y"
      },
      "outputs": [],
      "source": [
        "model = LinearRegression()\n",
        "new_model = model.fit(X_train, y_train)"
      ]
    },
    {
      "cell_type": "code",
      "execution_count": null,
      "metadata": {
        "id": "ZbxuI8fkVh9C"
      },
      "outputs": [],
      "source": [
        "y_pred = new_model.predict(X_test)\n",
        "r2_score_m5 = r2_score(y_test, y_pred)\n",
        "mse_m5 = mean_squared_error(y_test, y_pred)"
      ]
    },
    {
      "cell_type": "code",
      "execution_count": null,
      "metadata": {
        "colab": {
          "base_uri": "https://localhost:8080/"
        },
        "id": "q8kyoDibcy39",
        "outputId": "a2e909a2-f399-4514-e185-90179ab66d3c"
      },
      "outputs": [],
      "source": [
        "print(\"Weights/Coefficients:\\n\")\n",
        "for name, weight in zip(variables, new_model.coef_.reshape(-1)):\n",
        "  if name == 'LotArea':\n",
        "    lot_area_weights.append(weight)\n",
        "  print(f\"{name.ljust(25)} {weight}\")"
      ]
    },
    {
      "cell_type": "markdown",
      "metadata": {
        "id": "D_BaBAU7YNO7"
      },
      "source": [
        "### Model 6: LotArea, OverallCond, Street, 1stFlrSF, Neighborhood, Year"
      ]
    },
    {
      "cell_type": "code",
      "execution_count": null,
      "metadata": {
        "colab": {
          "base_uri": "https://localhost:8080/",
          "height": 365
        },
        "id": "w8Rp237VYQS2",
        "outputId": "fbc07f26-15a2-4c79-a437-52d441233108"
      },
      "outputs": [],
      "source": [
        "df = dataset.loc[:, ['SalePrice', 'LotArea', 'OverallCond', 'Street', '1stFlrSF', 'Neighborhood', 'YearBuilt']].dropna()\n",
        "df = pd.get_dummies(df, columns = ['Street', 'Neighborhood'])\n",
        "train_df, test_df = train_test_split(df, test_size=0.2)\n",
        "sns.displot(train_df['SalePrice']);"
      ]
    },
    {
      "cell_type": "code",
      "execution_count": null,
      "metadata": {
        "colab": {
          "base_uri": "https://localhost:8080/",
          "height": 300
        },
        "id": "A6Ib2iFOYViH",
        "outputId": "c30fb1e6-3581-4a2d-8fd6-f29e9e24ad8c"
      },
      "outputs": [],
      "source": [
        "train_df.head()"
      ]
    },
    {
      "cell_type": "code",
      "execution_count": null,
      "metadata": {
        "colab": {
          "base_uri": "https://localhost:8080/",
          "height": 300
        },
        "id": "RvP_6ZA-YXVb",
        "outputId": "68c7ff5e-a8c1-4cf6-a144-c1c245ddb151"
      },
      "outputs": [],
      "source": [
        "test_df.head()"
      ]
    },
    {
      "cell_type": "code",
      "execution_count": null,
      "metadata": {
        "id": "JSQS-Do8anEi"
      },
      "outputs": [],
      "source": [
        "variables = train_df.columns.array[1:]\n",
        "X_train = np.array(train_df[variables])\n",
        "X_train = scaler.fit_transform(X_train)\n",
        "y_train = np.array(train_df[['SalePrice']])\n",
        "\n",
        "X_test = np.array(test_df[variables])\n",
        "X_test = scaler.fit_transform(X_test)\n",
        "y_test = np.array(test_df[['SalePrice']])"
      ]
    },
    {
      "cell_type": "code",
      "execution_count": null,
      "metadata": {
        "id": "dLKnSkktap5h"
      },
      "outputs": [],
      "source": [
        "model = LinearRegression()\n",
        "new_model = model.fit(X_train, y_train)"
      ]
    },
    {
      "cell_type": "code",
      "execution_count": null,
      "metadata": {
        "id": "e261VKEWasQ4"
      },
      "outputs": [],
      "source": [
        "y_pred = new_model.predict(X_test)\n",
        "r2_score_m6 = r2_score(y_test, y_pred)\n",
        "mse_m6 = mean_squared_error(y_test, y_pred)"
      ]
    },
    {
      "cell_type": "code",
      "execution_count": null,
      "metadata": {
        "colab": {
          "base_uri": "https://localhost:8080/"
        },
        "id": "N8k48rNHbJut",
        "outputId": "d33b4016-3c74-4fe6-dc73-d1d2ef067a50"
      },
      "outputs": [],
      "source": [
        "print(\"Weights/Coefficients:\\n\")\n",
        "for name, weight in zip(variables, new_model.coef_.reshape(-1)):\n",
        "  if name == 'LotArea':\n",
        "    lot_area_weights.append(weight)\n",
        "  print(f\"{name.ljust(25)} {weight}\")"
      ]
    },
    {
      "cell_type": "markdown",
      "metadata": {
        "id": "AhrmTxChhWqS"
      },
      "source": [
        "## (vi) Compare the feature “LotArea” weights/coefficients for all the six trained models and plot a graph using the Matplotlib library."
      ]
    },
    {
      "cell_type": "code",
      "execution_count": null,
      "metadata": {
        "colab": {
          "base_uri": "https://localhost:8080/",
          "height": 502
        },
        "id": "Aq65aOzzd3A1",
        "outputId": "e93ec81e-a51d-437b-e222-1a2013baf141"
      },
      "outputs": [],
      "source": [
        "x_values = [f\"Model-{x}\" for x in range(1, 7)]\n",
        "y_values = lot_area_weights\n",
        "plt.figure(figsize=(10,8))\n",
        "plt.bar(x_values, y_values)\n",
        "plt.ylabel('Lot Area Coefficient/Weights')\n",
        "plt.xlabel('Models')\n",
        "plt.show()"
      ]
    },
    {
      "cell_type": "markdown",
      "metadata": {
        "id": "ytZnDS1Vh6YL"
      },
      "source": [
        "## (vii) Polynomial regression"
      ]
    },
    {
      "cell_type": "markdown",
      "metadata": {
        "id": "VVysehnk-yKY"
      },
      "source": [
        "DegrDegree 2ee 2"
      ]
    },
    {
      "cell_type": "code",
      "execution_count": null,
      "metadata": {
        "colab": {
          "base_uri": "https://localhost:8080/",
          "height": 365
        },
        "id": "N8oRoeav-0Zb",
        "outputId": "9b540ae5-68ab-4d6e-eea5-18b793866f5b"
      },
      "outputs": [],
      "source": [
        "df = dataset.loc[:, ['SalePrice', 'LotArea']].dropna()\n",
        "train_df, test_df = train_test_split(df, test_size=0.2)\n",
        "sns.displot(train_df['SalePrice']);"
      ]
    },
    {
      "cell_type": "code",
      "execution_count": null,
      "metadata": {
        "colab": {
          "base_uri": "https://localhost:8080/",
          "height": 206
        },
        "id": "kK7cwAju_rq_",
        "outputId": "cdfabf0c-3a10-4b2b-96ac-1ef586789db7"
      },
      "outputs": [],
      "source": [
        "train_df.head()"
      ]
    },
    {
      "cell_type": "code",
      "execution_count": null,
      "metadata": {
        "colab": {
          "base_uri": "https://localhost:8080/",
          "height": 206
        },
        "id": "Ec0PftCf_tZo",
        "outputId": "aa64578c-6417-4222-a591-6d93a017775f"
      },
      "outputs": [],
      "source": [
        "test_df.head()"
      ]
    },
    {
      "cell_type": "code",
      "execution_count": null,
      "metadata": {
        "id": "F4k3C3gI_khh"
      },
      "outputs": [],
      "source": [
        "variables = train_df.columns.array[1:]\n",
        "X_train = np.array(train_df[variables])\n",
        "X_train = scaler.fit_transform(X_train)\n",
        "y_train = np.array(train_df[['SalePrice']])\n",
        "\n",
        "X_test = np.array(test_df[variables])\n",
        "X_test = scaler.fit_transform(X_test)\n",
        "y_test = np.array(test_df[['SalePrice']])"
      ]
    },
    {
      "cell_type": "code",
      "execution_count": null,
      "metadata": {
        "id": "S3_-TMZK_IOU"
      },
      "outputs": [],
      "source": [
        "poly = PolynomialFeatures(degree = 2)\n",
        "X_poly = poly.fit_transform(X_train)\n",
        "poly.fit(X_poly, y_train)\n",
        "model = LinearRegression()\n",
        "new_model = model.fit(X_poly, y_train)"
      ]
    },
    {
      "cell_type": "code",
      "execution_count": null,
      "metadata": {
        "colab": {
          "base_uri": "https://localhost:8080/"
        },
        "id": "bwFKMg5gLRYd",
        "outputId": "8e37bdc9-b4f7-49e2-c106-519dddc0d6e8"
      },
      "outputs": [],
      "source": [
        "y_pred = new_model.predict(poly.fit_transform(X_train))\n",
        "r2_score_poly = r2_score(y_train, y_pred)\n",
        "mse_poly = mean_squared_error(y_train, y_pred)\n",
        "print(\"[Poly training] r2 score:\", r2_score_poly)\n",
        "print(\"[Poly training] mean squared error:\", mse_poly)"
      ]
    },
    {
      "cell_type": "code",
      "execution_count": null,
      "metadata": {
        "colab": {
          "base_uri": "https://localhost:8080/",
          "height": 551
        },
        "id": "I1U_MJRnLTQb",
        "outputId": "2392a13a-b9f5-4ac2-8eaf-debcc11937b1"
      },
      "outputs": [],
      "source": [
        "sns.set(rc={'figure.figsize':(11.7,8.27)})\n",
        "ax = sns.scatterplot(X_train.reshape(-1), y_train.reshape(-1))\n",
        "ax.set_xlabel(\"LotArea\")\n",
        "ax.set_ylabel(\"SalePrice\")\n",
        "ax.set_title(\"(Training Data) Polynomial Regression of Degree-2\")\n",
        "sns.lineplot(X_train.reshape(-1), y_pred.reshape(-1), color = 'red')"
      ]
    },
    {
      "cell_type": "code",
      "execution_count": null,
      "metadata": {
        "colab": {
          "base_uri": "https://localhost:8080/"
        },
        "id": "l-l1nZM1LVj1",
        "outputId": "ee684084-477e-4d50-c579-c422d7ee1e17"
      },
      "outputs": [],
      "source": [
        "print(\"(Training Data) Weights/Coefficients:\\n\", new_model.coef_.reshape(-1))"
      ]
    },
    {
      "cell_type": "code",
      "execution_count": null,
      "metadata": {
        "colab": {
          "base_uri": "https://localhost:8080/"
        },
        "id": "PhIOTtFNBYTx",
        "outputId": "f7064a12-7605-4654-eddf-8d4595c2c6cf"
      },
      "outputs": [],
      "source": [
        "y_pred = new_model.predict(poly.fit_transform(X_test))\n",
        "r2_score_poly = r2_score(y_test, y_pred)\n",
        "mse_poly = mean_squared_error(y_test, y_pred)\n",
        "print(\"[Poly testing] r2 score:\", r2_score_poly)\n",
        "print(\"[Poly testing] mean squared error:\", mse_poly)"
      ]
    },
    {
      "cell_type": "code",
      "execution_count": null,
      "metadata": {
        "colab": {
          "base_uri": "https://localhost:8080/",
          "height": 551
        },
        "id": "w64eCpFhFOdC",
        "outputId": "e4648185-5c4d-4b86-dec2-16442a137fec"
      },
      "outputs": [],
      "source": [
        "sns.set(rc={'figure.figsize':(11.7,8.27)})\n",
        "ax = sns.scatterplot(X_test.reshape(-1), y_test.reshape(-1))\n",
        "ax.set_xlabel(\"LotArea\")\n",
        "ax.set_ylabel(\"SalePrice\")\n",
        "ax.set_title(\"(Testing Data) Polynomial Regression of Degree-2\")\n",
        "sns.lineplot(X_test.reshape(-1), y_pred.reshape(-1), color = 'red')"
      ]
    },
    {
      "cell_type": "code",
      "execution_count": null,
      "metadata": {
        "colab": {
          "base_uri": "https://localhost:8080/"
        },
        "id": "WDArfvbYTVD2",
        "outputId": "5e02c995-9ac8-43fe-bb01-72cae1d5d12f"
      },
      "outputs": [],
      "source": [
        "print(\"(Testing Data) Weights/Coefficients:\\n\", new_model.coef_.reshape(-1))"
      ]
    },
    {
      "cell_type": "markdown",
      "metadata": {
        "id": "UL5y-N6XSQ0y"
      },
      "source": [
        "### Degree 3"
      ]
    },
    {
      "cell_type": "code",
      "execution_count": null,
      "metadata": {
        "colab": {
          "base_uri": "https://localhost:8080/",
          "height": 365
        },
        "id": "GrbA1WzqSSwO",
        "outputId": "ac41f218-2551-41bf-95f9-40d384c04e60"
      },
      "outputs": [],
      "source": [
        "df = dataset.loc[:, ['SalePrice', 'LotArea']].dropna()\n",
        "train_df, test_df = train_test_split(df, test_size=0.2)\n",
        "sns.displot(train_df['SalePrice']);"
      ]
    },
    {
      "cell_type": "code",
      "execution_count": null,
      "metadata": {
        "colab": {
          "base_uri": "https://localhost:8080/",
          "height": 206
        },
        "id": "iPRPFgOjSXT4",
        "outputId": "ca2e8e18-6286-4d96-f40e-2dcf4337bae5"
      },
      "outputs": [],
      "source": [
        "train_df.head()"
      ]
    },
    {
      "cell_type": "code",
      "execution_count": null,
      "metadata": {
        "colab": {
          "base_uri": "https://localhost:8080/",
          "height": 206
        },
        "id": "mZ1w5_-5SZ0m",
        "outputId": "ec3b3243-52f3-4548-a18b-7aae34fc0472"
      },
      "outputs": [],
      "source": [
        "test_df.head()"
      ]
    },
    {
      "cell_type": "code",
      "execution_count": null,
      "metadata": {
        "id": "5hleqwCIScVq"
      },
      "outputs": [],
      "source": [
        "variables = train_df.columns.array[1:]\n",
        "X_train = np.array(train_df[variables])\n",
        "X_train = scaler.fit_transform(X_train)\n",
        "y_train = np.array(train_df[['SalePrice']])\n",
        "\n",
        "X_test = np.array(test_df[variables])\n",
        "X_test = scaler.fit_transform(X_test)\n",
        "y_test = np.array(test_df[['SalePrice']])"
      ]
    },
    {
      "cell_type": "code",
      "execution_count": null,
      "metadata": {
        "id": "NcDCTMlHSeMI"
      },
      "outputs": [],
      "source": [
        "poly = PolynomialFeatures(degree = 3)\n",
        "X_poly = poly.fit_transform(X_train)\n",
        "poly.fit(X_poly, y_train)\n",
        "model = LinearRegression()\n",
        "new_model = model.fit(X_poly, y_train)"
      ]
    },
    {
      "cell_type": "code",
      "execution_count": null,
      "metadata": {
        "colab": {
          "base_uri": "https://localhost:8080/"
        },
        "id": "eugPF0FtMIWD",
        "outputId": "b51b970d-b15b-46d8-b306-c540c3b21978"
      },
      "outputs": [],
      "source": [
        "y_pred = new_model.predict(poly.fit_transform(X_train))\n",
        "r2_score_poly = r2_score(y_train, y_pred)\n",
        "mse_poly = mean_squared_error(y_train, y_pred)\n",
        "print(\"[Poly training] r2 score:\", r2_score_poly)\n",
        "print(\"[Poly training] mean squared error:\", mse_poly)"
      ]
    },
    {
      "cell_type": "code",
      "execution_count": null,
      "metadata": {
        "colab": {
          "base_uri": "https://localhost:8080/",
          "height": 551
        },
        "id": "-jRgbMGuMOJN",
        "outputId": "57fd3ef0-f3f3-438a-eaee-4a8d8f263a26"
      },
      "outputs": [],
      "source": [
        "sns.set(rc={'figure.figsize':(11.7,8.27)})\n",
        "ax = sns.scatterplot(X_train.reshape(-1), y_train.reshape(-1))\n",
        "ax.set_xlabel(\"LotArea\")\n",
        "ax.set_ylabel(\"SalePrice\")\n",
        "ax.set_title(\"(Training Data) Polynomial Regression of Degree-3\")\n",
        "sns.lineplot(X_train.reshape(-1), y_pred.reshape(-1), color = 'red')"
      ]
    },
    {
      "cell_type": "code",
      "execution_count": null,
      "metadata": {
        "colab": {
          "base_uri": "https://localhost:8080/"
        },
        "id": "sycI_yK3MRkR",
        "outputId": "1f36943f-cc60-4b51-aedf-89e05f57e69b"
      },
      "outputs": [],
      "source": [
        "print(\"(Training Data) Weights/Coefficients:\\n\", new_model.coef_.reshape(-1))"
      ]
    },
    {
      "cell_type": "code",
      "execution_count": null,
      "metadata": {
        "colab": {
          "base_uri": "https://localhost:8080/"
        },
        "id": "Jb7S82dbSeE4",
        "outputId": "c18ee089-c782-4c77-9621-7ccf167e0207"
      },
      "outputs": [],
      "source": [
        "y_pred = new_model.predict(poly.fit_transform(X_test))\n",
        "r2_score_poly = r2_score(y_test, y_pred)\n",
        "mse_poly = mean_squared_error(y_test, y_pred)\n",
        "print(\"[Poly testing] r2 score:\", r2_score_poly)\n",
        "print(\"[Poly testing] mean squared error:\", mse_poly)"
      ]
    },
    {
      "cell_type": "code",
      "execution_count": null,
      "metadata": {
        "colab": {
          "base_uri": "https://localhost:8080/",
          "height": 551
        },
        "id": "Vxw35uc4SkcU",
        "outputId": "9a238c7b-1516-4b02-b20f-34872ad11a00"
      },
      "outputs": [],
      "source": [
        "sns.set(rc={'figure.figsize':(11.7,8.27)})\n",
        "ax = sns.scatterplot(X_test.reshape(-1), y_test.reshape(-1))\n",
        "ax.set_xlabel(\"LotArea\")\n",
        "ax.set_ylabel(\"SalePrice\")\n",
        "ax.set_title(\"(Testing Data) Polynomial Regression of Degree-3\")\n",
        "sns.lineplot(X_test.reshape(-1), y_pred.reshape(-1), color = 'red')"
      ]
    },
    {
      "cell_type": "code",
      "execution_count": null,
      "metadata": {
        "colab": {
          "base_uri": "https://localhost:8080/"
        },
        "id": "GT5vS9WQS2UD",
        "outputId": "977967e4-a190-43dd-8b21-4a5880b44973"
      },
      "outputs": [],
      "source": [
        "print(\"(Testing Data) Weights/Coefficients:\\n\", new_model.coef_.reshape(-1))"
      ]
    }
  ],
  "metadata": {
    "colab": {
      "collapsed_sections": [],
      "name": "510519006-assingment-01.ipynb",
      "provenance": []
    },
    "kernelspec": {
      "display_name": "Python 3",
      "language": "python",
      "name": "python3"
    },
    "language_info": {
      "name": "python",
      "version": "3.10.7 (main, Oct 26 2022, 14:14:16) [Clang 14.0.0 (clang-1400.0.29.102)]"
    },
    "vscode": {
      "interpreter": {
        "hash": "5f90c9c72ce04906de37d4c67574a63377e4fd7d3965d8d2cd20954f66a8e417"
      }
    }
  },
  "nbformat": 4,
  "nbformat_minor": 0
}
