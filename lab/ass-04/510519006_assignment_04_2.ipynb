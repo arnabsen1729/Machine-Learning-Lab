{
  "nbformat": 4,
  "nbformat_minor": 0,
  "metadata": {
    "colab": {
      "provenance": []
    },
    "kernelspec": {
      "name": "python3",
      "display_name": "Python 3"
    },
    "language_info": {
      "name": "python"
    }
  },
  "cells": [
    {
      "cell_type": "markdown",
      "source": [
        "# Assignment 4 (Forest Cover)\n",
        "\n",
        "- Name: **Arnab Sen**\n",
        "- Roll: **510519006**\n",
        "- Date: **Sept 5, 2022**"
      ],
      "metadata": {
        "id": "tXiH8CuCVmpf"
      }
    },
    {
      "cell_type": "code",
      "execution_count": 1,
      "metadata": {
        "id": "sfuDaE20S6WD"
      },
      "outputs": [],
      "source": [
        "from google.colab import drive\n",
        "import pandas as pd\n",
        "import numpy as np\n",
        "from sklearn.preprocessing import OneHotEncoder\n",
        "from sklearn.preprocessing import StandardScaler\n",
        "from sklearn.model_selection import train_test_split\n",
        "from sklearn.svm import SVC\n",
        "from sklearn.metrics import confusion_matrix\n",
        "import seaborn as sns\n",
        "import matplotlib.pyplot as plt\n",
        "from sklearn.svm import SVC"
      ]
    },
    {
      "cell_type": "code",
      "source": [
        "drive.mount('/content/drive')\n",
        "BASE_PATH = '/content/drive/MyDrive/Colab_Notebooks/ML_DRIVE/Assign_4/dataset'"
      ],
      "metadata": {
        "colab": {
          "base_uri": "https://localhost:8080/"
        },
        "id": "4j72soCMUTML",
        "outputId": "29edb710-11b6-4082-faa4-b1df4803ee48"
      },
      "execution_count": 2,
      "outputs": [
        {
          "output_type": "stream",
          "name": "stdout",
          "text": [
            "Mounted at /content/drive\n"
          ]
        }
      ]
    },
    {
      "cell_type": "code",
      "source": [
        "dataset = pd.read_csv(f\"{BASE_PATH}/covtype.csv\")\n",
        "print(\"Dataset shape:\", dataset.shape)\n",
        "print(\"Dataset columns:\", dataset.columns)"
      ],
      "metadata": {
        "colab": {
          "base_uri": "https://localhost:8080/"
        },
        "id": "Uu7AiKWmUXAL",
        "outputId": "c81f0712-6c6c-4ef2-ea66-8b8dab97ac0b"
      },
      "execution_count": 4,
      "outputs": [
        {
          "output_type": "stream",
          "name": "stdout",
          "text": [
            "Dataset shape: (581012, 55)\n",
            "Dataset columns: Index(['Elevation', 'Aspect', 'Slope', 'Horizontal_Distance_To_Hydrology',\n",
            "       'Vertical_Distance_To_Hydrology', 'Horizontal_Distance_To_Roadways',\n",
            "       'Hillshade_9am', 'Hillshade_Noon', 'Hillshade_3pm',\n",
            "       'Horizontal_Distance_To_Fire_Points', 'Wilderness_Area1',\n",
            "       'Wilderness_Area2', 'Wilderness_Area3', 'Wilderness_Area4',\n",
            "       'Soil_Type1', 'Soil_Type2', 'Soil_Type3', 'Soil_Type4', 'Soil_Type5',\n",
            "       'Soil_Type6', 'Soil_Type7', 'Soil_Type8', 'Soil_Type9', 'Soil_Type10',\n",
            "       'Soil_Type11', 'Soil_Type12', 'Soil_Type13', 'Soil_Type14',\n",
            "       'Soil_Type15', 'Soil_Type16', 'Soil_Type17', 'Soil_Type18',\n",
            "       'Soil_Type19', 'Soil_Type20', 'Soil_Type21', 'Soil_Type22',\n",
            "       'Soil_Type23', 'Soil_Type24', 'Soil_Type25', 'Soil_Type26',\n",
            "       'Soil_Type27', 'Soil_Type28', 'Soil_Type29', 'Soil_Type30',\n",
            "       'Soil_Type31', 'Soil_Type32', 'Soil_Type33', 'Soil_Type34',\n",
            "       'Soil_Type35', 'Soil_Type36', 'Soil_Type37', 'Soil_Type38',\n",
            "       'Soil_Type39', 'Soil_Type40', 'Cover_Type'],\n",
            "      dtype='object')\n"
          ]
        }
      ]
    },
    {
      "cell_type": "code",
      "source": [
        "scaled_cols = ['Elevation', 'Aspect', 'Slope', 'Horizontal_Distance_To_Hydrology',\n",
        "                    'Vertical_Distance_To_Hydrology', 'Horizontal_Distance_To_Roadways',\n",
        "                    'Hillshade_9am', 'Hillshade_Noon', 'Hillshade_3pm',\n",
        "                    'Horizontal_Distance_To_Fire_Points']\n",
        "\n",
        "for col in scaled_cols:\n",
        "    scaler = StandardScaler()\n",
        "    dataset[[col]] = pd.DataFrame(\n",
        "        data=scaler.fit_transform(dataset[[col]]),\n",
        "        index=dataset.index,\n",
        "        columns=[col]\n",
        "    )\n",
        "\n",
        "dataset.head()"
      ],
      "metadata": {
        "colab": {
          "base_uri": "https://localhost:8080/",
          "height": 300
        },
        "id": "u5cRp_0qUbPM",
        "outputId": "77d8645d-6857-422e-ea5f-e79d9de67f91"
      },
      "execution_count": 6,
      "outputs": [
        {
          "output_type": "execute_result",
          "data": {
            "text/plain": [
              "   Elevation    Aspect     Slope  Horizontal_Distance_To_Hydrology  \\\n",
              "0  -1.297805 -0.935157 -1.482820                         -0.053767   \n",
              "1  -1.319235 -0.890480 -1.616363                         -0.270188   \n",
              "2  -0.554907 -0.148836 -0.681563                         -0.006719   \n",
              "3  -0.622768 -0.005869  0.520322                         -0.129044   \n",
              "4  -1.301377 -0.988770 -1.616363                         -0.547771   \n",
              "\n",
              "   Vertical_Distance_To_Hydrology  Horizontal_Distance_To_Roadways  \\\n",
              "0                       -0.796273                        -1.180146   \n",
              "1                       -0.899197                        -1.257106   \n",
              "2                        0.318742                         0.532212   \n",
              "3                        1.227908                         0.474492   \n",
              "4                       -0.813427                        -1.256464   \n",
              "\n",
              "   Hillshade_9am  Hillshade_Noon  Hillshade_3pm  \\\n",
              "0       0.330743        0.439143       0.142960   \n",
              "1       0.293388        0.590899       0.221342   \n",
              "2       0.816364        0.742654      -0.196691   \n",
              "3       0.965786        0.742654      -0.536343   \n",
              "4       0.293388        0.540313       0.195215   \n",
              "\n",
              "   Horizontal_Distance_To_Fire_Points  ...  Soil_Type32  Soil_Type33  \\\n",
              "0                            3.246283  ...            0            0   \n",
              "1                            3.205504  ...            0            0   \n",
              "2                            3.126965  ...            0            0   \n",
              "3                            3.194931  ...            0            0   \n",
              "4                            3.165479  ...            0            0   \n",
              "\n",
              "   Soil_Type34  Soil_Type35  Soil_Type36  Soil_Type37  Soil_Type38  \\\n",
              "0            0            0            0            0            0   \n",
              "1            0            0            0            0            0   \n",
              "2            0            0            0            0            0   \n",
              "3            0            0            0            0            0   \n",
              "4            0            0            0            0            0   \n",
              "\n",
              "   Soil_Type39  Soil_Type40  Cover_Type  \n",
              "0            0            0           5  \n",
              "1            0            0           5  \n",
              "2            0            0           2  \n",
              "3            0            0           2  \n",
              "4            0            0           5  \n",
              "\n",
              "[5 rows x 55 columns]"
            ],
            "text/html": [
              "\n",
              "  <div id=\"df-c88e943b-7976-4b17-9419-36ea176ff652\">\n",
              "    <div class=\"colab-df-container\">\n",
              "      <div>\n",
              "<style scoped>\n",
              "    .dataframe tbody tr th:only-of-type {\n",
              "        vertical-align: middle;\n",
              "    }\n",
              "\n",
              "    .dataframe tbody tr th {\n",
              "        vertical-align: top;\n",
              "    }\n",
              "\n",
              "    .dataframe thead th {\n",
              "        text-align: right;\n",
              "    }\n",
              "</style>\n",
              "<table border=\"1\" class=\"dataframe\">\n",
              "  <thead>\n",
              "    <tr style=\"text-align: right;\">\n",
              "      <th></th>\n",
              "      <th>Elevation</th>\n",
              "      <th>Aspect</th>\n",
              "      <th>Slope</th>\n",
              "      <th>Horizontal_Distance_To_Hydrology</th>\n",
              "      <th>Vertical_Distance_To_Hydrology</th>\n",
              "      <th>Horizontal_Distance_To_Roadways</th>\n",
              "      <th>Hillshade_9am</th>\n",
              "      <th>Hillshade_Noon</th>\n",
              "      <th>Hillshade_3pm</th>\n",
              "      <th>Horizontal_Distance_To_Fire_Points</th>\n",
              "      <th>...</th>\n",
              "      <th>Soil_Type32</th>\n",
              "      <th>Soil_Type33</th>\n",
              "      <th>Soil_Type34</th>\n",
              "      <th>Soil_Type35</th>\n",
              "      <th>Soil_Type36</th>\n",
              "      <th>Soil_Type37</th>\n",
              "      <th>Soil_Type38</th>\n",
              "      <th>Soil_Type39</th>\n",
              "      <th>Soil_Type40</th>\n",
              "      <th>Cover_Type</th>\n",
              "    </tr>\n",
              "  </thead>\n",
              "  <tbody>\n",
              "    <tr>\n",
              "      <th>0</th>\n",
              "      <td>-1.297805</td>\n",
              "      <td>-0.935157</td>\n",
              "      <td>-1.482820</td>\n",
              "      <td>-0.053767</td>\n",
              "      <td>-0.796273</td>\n",
              "      <td>-1.180146</td>\n",
              "      <td>0.330743</td>\n",
              "      <td>0.439143</td>\n",
              "      <td>0.142960</td>\n",
              "      <td>3.246283</td>\n",
              "      <td>...</td>\n",
              "      <td>0</td>\n",
              "      <td>0</td>\n",
              "      <td>0</td>\n",
              "      <td>0</td>\n",
              "      <td>0</td>\n",
              "      <td>0</td>\n",
              "      <td>0</td>\n",
              "      <td>0</td>\n",
              "      <td>0</td>\n",
              "      <td>5</td>\n",
              "    </tr>\n",
              "    <tr>\n",
              "      <th>1</th>\n",
              "      <td>-1.319235</td>\n",
              "      <td>-0.890480</td>\n",
              "      <td>-1.616363</td>\n",
              "      <td>-0.270188</td>\n",
              "      <td>-0.899197</td>\n",
              "      <td>-1.257106</td>\n",
              "      <td>0.293388</td>\n",
              "      <td>0.590899</td>\n",
              "      <td>0.221342</td>\n",
              "      <td>3.205504</td>\n",
              "      <td>...</td>\n",
              "      <td>0</td>\n",
              "      <td>0</td>\n",
              "      <td>0</td>\n",
              "      <td>0</td>\n",
              "      <td>0</td>\n",
              "      <td>0</td>\n",
              "      <td>0</td>\n",
              "      <td>0</td>\n",
              "      <td>0</td>\n",
              "      <td>5</td>\n",
              "    </tr>\n",
              "    <tr>\n",
              "      <th>2</th>\n",
              "      <td>-0.554907</td>\n",
              "      <td>-0.148836</td>\n",
              "      <td>-0.681563</td>\n",
              "      <td>-0.006719</td>\n",
              "      <td>0.318742</td>\n",
              "      <td>0.532212</td>\n",
              "      <td>0.816364</td>\n",
              "      <td>0.742654</td>\n",
              "      <td>-0.196691</td>\n",
              "      <td>3.126965</td>\n",
              "      <td>...</td>\n",
              "      <td>0</td>\n",
              "      <td>0</td>\n",
              "      <td>0</td>\n",
              "      <td>0</td>\n",
              "      <td>0</td>\n",
              "      <td>0</td>\n",
              "      <td>0</td>\n",
              "      <td>0</td>\n",
              "      <td>0</td>\n",
              "      <td>2</td>\n",
              "    </tr>\n",
              "    <tr>\n",
              "      <th>3</th>\n",
              "      <td>-0.622768</td>\n",
              "      <td>-0.005869</td>\n",
              "      <td>0.520322</td>\n",
              "      <td>-0.129044</td>\n",
              "      <td>1.227908</td>\n",
              "      <td>0.474492</td>\n",
              "      <td>0.965786</td>\n",
              "      <td>0.742654</td>\n",
              "      <td>-0.536343</td>\n",
              "      <td>3.194931</td>\n",
              "      <td>...</td>\n",
              "      <td>0</td>\n",
              "      <td>0</td>\n",
              "      <td>0</td>\n",
              "      <td>0</td>\n",
              "      <td>0</td>\n",
              "      <td>0</td>\n",
              "      <td>0</td>\n",
              "      <td>0</td>\n",
              "      <td>0</td>\n",
              "      <td>2</td>\n",
              "    </tr>\n",
              "    <tr>\n",
              "      <th>4</th>\n",
              "      <td>-1.301377</td>\n",
              "      <td>-0.988770</td>\n",
              "      <td>-1.616363</td>\n",
              "      <td>-0.547771</td>\n",
              "      <td>-0.813427</td>\n",
              "      <td>-1.256464</td>\n",
              "      <td>0.293388</td>\n",
              "      <td>0.540313</td>\n",
              "      <td>0.195215</td>\n",
              "      <td>3.165479</td>\n",
              "      <td>...</td>\n",
              "      <td>0</td>\n",
              "      <td>0</td>\n",
              "      <td>0</td>\n",
              "      <td>0</td>\n",
              "      <td>0</td>\n",
              "      <td>0</td>\n",
              "      <td>0</td>\n",
              "      <td>0</td>\n",
              "      <td>0</td>\n",
              "      <td>5</td>\n",
              "    </tr>\n",
              "  </tbody>\n",
              "</table>\n",
              "<p>5 rows × 55 columns</p>\n",
              "</div>\n",
              "      <button class=\"colab-df-convert\" onclick=\"convertToInteractive('df-c88e943b-7976-4b17-9419-36ea176ff652')\"\n",
              "              title=\"Convert this dataframe to an interactive table.\"\n",
              "              style=\"display:none;\">\n",
              "        \n",
              "  <svg xmlns=\"http://www.w3.org/2000/svg\" height=\"24px\"viewBox=\"0 0 24 24\"\n",
              "       width=\"24px\">\n",
              "    <path d=\"M0 0h24v24H0V0z\" fill=\"none\"/>\n",
              "    <path d=\"M18.56 5.44l.94 2.06.94-2.06 2.06-.94-2.06-.94-.94-2.06-.94 2.06-2.06.94zm-11 1L8.5 8.5l.94-2.06 2.06-.94-2.06-.94L8.5 2.5l-.94 2.06-2.06.94zm10 10l.94 2.06.94-2.06 2.06-.94-2.06-.94-.94-2.06-.94 2.06-2.06.94z\"/><path d=\"M17.41 7.96l-1.37-1.37c-.4-.4-.92-.59-1.43-.59-.52 0-1.04.2-1.43.59L10.3 9.45l-7.72 7.72c-.78.78-.78 2.05 0 2.83L4 21.41c.39.39.9.59 1.41.59.51 0 1.02-.2 1.41-.59l7.78-7.78 2.81-2.81c.8-.78.8-2.07 0-2.86zM5.41 20L4 18.59l7.72-7.72 1.47 1.35L5.41 20z\"/>\n",
              "  </svg>\n",
              "      </button>\n",
              "      \n",
              "  <style>\n",
              "    .colab-df-container {\n",
              "      display:flex;\n",
              "      flex-wrap:wrap;\n",
              "      gap: 12px;\n",
              "    }\n",
              "\n",
              "    .colab-df-convert {\n",
              "      background-color: #E8F0FE;\n",
              "      border: none;\n",
              "      border-radius: 50%;\n",
              "      cursor: pointer;\n",
              "      display: none;\n",
              "      fill: #1967D2;\n",
              "      height: 32px;\n",
              "      padding: 0 0 0 0;\n",
              "      width: 32px;\n",
              "    }\n",
              "\n",
              "    .colab-df-convert:hover {\n",
              "      background-color: #E2EBFA;\n",
              "      box-shadow: 0px 1px 2px rgba(60, 64, 67, 0.3), 0px 1px 3px 1px rgba(60, 64, 67, 0.15);\n",
              "      fill: #174EA6;\n",
              "    }\n",
              "\n",
              "    [theme=dark] .colab-df-convert {\n",
              "      background-color: #3B4455;\n",
              "      fill: #D2E3FC;\n",
              "    }\n",
              "\n",
              "    [theme=dark] .colab-df-convert:hover {\n",
              "      background-color: #434B5C;\n",
              "      box-shadow: 0px 1px 3px 1px rgba(0, 0, 0, 0.15);\n",
              "      filter: drop-shadow(0px 1px 2px rgba(0, 0, 0, 0.3));\n",
              "      fill: #FFFFFF;\n",
              "    }\n",
              "  </style>\n",
              "\n",
              "      <script>\n",
              "        const buttonEl =\n",
              "          document.querySelector('#df-c88e943b-7976-4b17-9419-36ea176ff652 button.colab-df-convert');\n",
              "        buttonEl.style.display =\n",
              "          google.colab.kernel.accessAllowed ? 'block' : 'none';\n",
              "\n",
              "        async function convertToInteractive(key) {\n",
              "          const element = document.querySelector('#df-c88e943b-7976-4b17-9419-36ea176ff652');\n",
              "          const dataTable =\n",
              "            await google.colab.kernel.invokeFunction('convertToInteractive',\n",
              "                                                     [key], {});\n",
              "          if (!dataTable) return;\n",
              "\n",
              "          const docLinkHtml = 'Like what you see? Visit the ' +\n",
              "            '<a target=\"_blank\" href=https://colab.research.google.com/notebooks/data_table.ipynb>data table notebook</a>'\n",
              "            + ' to learn more about interactive tables.';\n",
              "          element.innerHTML = '';\n",
              "          dataTable['output_type'] = 'display_data';\n",
              "          await google.colab.output.renderOutput(dataTable, element);\n",
              "          const docLink = document.createElement('div');\n",
              "          docLink.innerHTML = docLinkHtml;\n",
              "          element.appendChild(docLink);\n",
              "        }\n",
              "      </script>\n",
              "    </div>\n",
              "  </div>\n",
              "  "
            ]
          },
          "metadata": {},
          "execution_count": 6
        }
      ]
    },
    {
      "cell_type": "code",
      "source": [
        "dataset['Cover_Type'].value_counts()"
      ],
      "metadata": {
        "colab": {
          "base_uri": "https://localhost:8080/"
        },
        "id": "sj17jAAVU1D0",
        "outputId": "a39d65de-204f-4200-f50e-f768022966af"
      },
      "execution_count": 7,
      "outputs": [
        {
          "output_type": "execute_result",
          "data": {
            "text/plain": [
              "2    283301\n",
              "1    211840\n",
              "3     35754\n",
              "7     20510\n",
              "6     17367\n",
              "5      9493\n",
              "4      2747\n",
              "Name: Cover_Type, dtype: int64"
            ]
          },
          "metadata": {},
          "execution_count": 7
        }
      ]
    },
    {
      "cell_type": "code",
      "source": [
        "dataset = dataset.sample(frac=0.1)\n",
        "X = dataset.drop('Cover_Type', axis=1)\n",
        "y = dataset['Cover_Type']\n"
      ],
      "metadata": {
        "id": "qQZojCeiU5Y_"
      },
      "execution_count": 10,
      "outputs": []
    },
    {
      "cell_type": "code",
      "source": [
        "X_train, X_test, y_train, y_test = train_test_split(X, y, train_size=0.8)"
      ],
      "metadata": {
        "id": "9TKeqtaRVBQv"
      },
      "execution_count": 11,
      "outputs": []
    },
    {
      "cell_type": "code",
      "source": [
        "# Helper function to display confusion matrix\n",
        "def display_confusion_matrix(X_test, y_test, model):\n",
        "    y_predict = model.predict(X_test)\n",
        "    matrix = confusion_matrix(y_test, y_predict)\n",
        "    fig = plt.figure(figsize=(10,10))\n",
        "    sns.heatmap(\n",
        "        matrix, \n",
        "        xticklabels=range(1,8),\n",
        "        yticklabels=range(1,8),\n",
        "        linewidth=0.5, \n",
        "        cmap='coolwarm', \n",
        "        annot=True, \n",
        "        cbar=True,\n",
        "        square=True)\n",
        "    plt.title('HeatMap for the model')\n",
        "    plt.ylabel('Actual Value')\n",
        "    plt.xlabel('Predicted Value')\n",
        "    plt.show()\n"
      ],
      "metadata": {
        "id": "fF1f4rhDVE2r"
      },
      "execution_count": 12,
      "outputs": []
    },
    {
      "cell_type": "code",
      "source": [
        "shapes = ['ovo', 'ovr']\n",
        "\n",
        "models = [\n",
        "    SVC(decision_function_shape=shape).fit(X_train, y_train)\n",
        "    for shape in shapes\n",
        "]\n"
      ],
      "metadata": {
        "id": "wc7KVLWZVMbG"
      },
      "execution_count": 13,
      "outputs": []
    },
    {
      "cell_type": "code",
      "source": [
        "accuracies = [model.score(X_test, y_test) for model in models]\n",
        "\n",
        "plt.bar(range(0, len(accuracies)), accuracies)\n",
        "plt.title('Shape vs Accuracy')\n",
        "plt.ylabel('Accuracy')\n",
        "plt.xticks(ticks=[0,1], labels=['One vs One', 'One vs Rest'])\n",
        "plt.show()\n"
      ],
      "metadata": {
        "colab": {
          "base_uri": "https://localhost:8080/",
          "height": 281
        },
        "id": "nux9PXSCVOTp",
        "outputId": "87bf7213-b39a-4231-e49c-2e64ce76b65b"
      },
      "execution_count": 14,
      "outputs": [
        {
          "output_type": "display_data",
          "data": {
            "text/plain": [
              "<Figure size 432x288 with 1 Axes>"
            ],
            "image/png": "[encoded data removed]"
          },
          "metadata": {
            "needs_background": "light"
          }
        }
      ]
    },
    {
      "cell_type": "code",
      "source": [
        "print(pd.DataFrame(columns=['Shape', 'Accuracy'],\n",
        "             data=zip(shapes, accuracies)))\n"
      ],
      "metadata": {
        "id": "7gZjpUZ-VRHH"
      },
      "execution_count": null,
      "outputs": []
    },
    {
      "cell_type": "code",
      "source": [
        "y_pred = models[0].predict(X_test)\n",
        "cm = confusion_matrix(y_test, y_pred)\n",
        "fig = plt.figure(figsize=(10,10))\n",
        "sns.heatmap(\n",
        "    cm, \n",
        "    xticklabels=range(1,8),\n",
        "    yticklabels=range(1,8)\n",
        ")\n",
        "plt.title(f'HeatMap for the {shapes[0]} model')\n",
        "plt.ylabel('Actual Value')\n",
        "plt.xlabel('Predicted Value')\n",
        "plt.show()"
      ],
      "metadata": {
        "colab": {
          "base_uri": "https://localhost:8080/",
          "height": 621
        },
        "id": "aLYNrBs_VX6M",
        "outputId": "8460df1d-2d97-4db2-8b03-a776c493bbcf"
      },
      "execution_count": 16,
      "outputs": [
        {
          "output_type": "display_data",
          "data": {
            "text/plain": [
              "<Figure size 720x720 with 2 Axes>"
            ],
            "image/png": "[encoded data removed]"
          },
          "metadata": {
            "needs_background": "light"
          }
        }
      ]
    },
    {
      "cell_type": "code",
      "source": [
        "y_pred = models[0].predict(X_test)\n",
        "cm = confusion_matrix(y_test, y_pred)\n",
        "fig = plt.figure(figsize=(10,10))\n",
        "sns.heatmap(\n",
        "    cm, \n",
        "    xticklabels=range(1,8),\n",
        "    yticklabels=range(1,8)\n",
        ")\n",
        "plt.title(f'HeatMap for the {shapes[0]} model')\n",
        "plt.ylabel('Actual Value')\n",
        "plt.xlabel('Predicted Value')\n",
        "plt.show()"
      ],
      "metadata": {
        "colab": {
          "base_uri": "https://localhost:8080/",
          "height": 621
        },
        "id": "NnOijGiAVjq5",
        "outputId": "e7e15e45-eeeb-4d11-de4d-2ac0ea5cfbd2"
      },
      "execution_count": 17,
      "outputs": [
        {
          "output_type": "display_data",
          "data": {
            "text/plain": [
              "<Figure size 720x720 with 2 Axes>"
            ],
            "image/png": "[encoded data removed]"
          },
          "metadata": {
            "needs_background": "light"
          }
        }
      ]
    }
  ]
}