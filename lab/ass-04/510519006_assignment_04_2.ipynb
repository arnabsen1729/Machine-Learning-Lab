{
  "cells": [
    {
      "cell_type": "markdown",
      "metadata": {
        "id": "tXiH8CuCVmpf"
      },
      "source": [
        "# Assignment 4 (Forest Cover)\n",
        "\n",
        "- Name: **Arnab Sen**\n",
        "- Roll: **510519006**\n",
        "- Date: **Sept 5, 2022**"
      ]
    },
    {
      "cell_type": "code",
      "execution_count": null,
      "metadata": {
        "id": "sfuDaE20S6WD"
      },
      "outputs": [],
      "source": [
        "from google.colab import drive\n",
        "import pandas as pd\n",
        "import numpy as np\n",
        "from sklearn.preprocessing import OneHotEncoder\n",
        "from sklearn.preprocessing import StandardScaler\n",
        "from sklearn.model_selection import train_test_split\n",
        "from sklearn.svm import SVC\n",
        "from sklearn.metrics import confusion_matrix\n",
        "import seaborn as sns\n",
        "import matplotlib.pyplot as plt\n",
        "from sklearn.svm import SVC"
      ]
    },
    {
      "cell_type": "code",
      "execution_count": null,
      "metadata": {
        "colab": {
          "base_uri": "https://localhost:8080/"
        },
        "id": "4j72soCMUTML",
        "outputId": "29edb710-11b6-4082-faa4-b1df4803ee48"
      },
      "outputs": [],
      "source": [
        "drive.mount('/content/drive')\n",
        "BASE_PATH = '/content/drive/MyDrive/Colab_Notebooks/ML_DRIVE/Assign_4/dataset'"
      ]
    },
    {
      "cell_type": "code",
      "execution_count": null,
      "metadata": {
        "colab": {
          "base_uri": "https://localhost:8080/"
        },
        "id": "Uu7AiKWmUXAL",
        "outputId": "c81f0712-6c6c-4ef2-ea66-8b8dab97ac0b"
      },
      "outputs": [],
      "source": [
        "dataset = pd.read_csv(f\"{BASE_PATH}/covtype.csv\")\n",
        "print(\"Dataset shape:\", dataset.shape)\n",
        "print(\"Dataset columns:\", dataset.columns)"
      ]
    },
    {
      "cell_type": "code",
      "execution_count": null,
      "metadata": {
        "colab": {
          "base_uri": "https://localhost:8080/",
          "height": 300
        },
        "id": "u5cRp_0qUbPM",
        "outputId": "77d8645d-6857-422e-ea5f-e79d9de67f91"
      },
      "outputs": [],
      "source": [
        "scaled_cols = ['Elevation', 'Aspect', 'Slope', 'Horizontal_Distance_To_Hydrology',\n",
        "                    'Vertical_Distance_To_Hydrology', 'Horizontal_Distance_To_Roadways',\n",
        "                    'Hillshade_9am', 'Hillshade_Noon', 'Hillshade_3pm',\n",
        "                    'Horizontal_Distance_To_Fire_Points']\n",
        "\n",
        "for col in scaled_cols:\n",
        "    scaler = StandardScaler()\n",
        "    dataset[[col]] = pd.DataFrame(\n",
        "        data=scaler.fit_transform(dataset[[col]]),\n",
        "        index=dataset.index,\n",
        "        columns=[col]\n",
        "    )\n",
        "\n",
        "dataset.head()"
      ]
    },
    {
      "cell_type": "code",
      "execution_count": null,
      "metadata": {
        "colab": {
          "base_uri": "https://localhost:8080/"
        },
        "id": "sj17jAAVU1D0",
        "outputId": "a39d65de-204f-4200-f50e-f768022966af"
      },
      "outputs": [],
      "source": [
        "dataset['Cover_Type'].value_counts()"
      ]
    },
    {
      "cell_type": "code",
      "execution_count": null,
      "metadata": {
        "id": "qQZojCeiU5Y_"
      },
      "outputs": [],
      "source": [
        "dataset = dataset.sample(frac=0.1)\n",
        "X = dataset.drop('Cover_Type', axis=1)\n",
        "y = dataset['Cover_Type']\n"
      ]
    },
    {
      "cell_type": "code",
      "execution_count": null,
      "metadata": {
        "id": "9TKeqtaRVBQv"
      },
      "outputs": [],
      "source": [
        "X_train, X_test, y_train, y_test = train_test_split(X, y, train_size=0.8)"
      ]
    },
    {
      "cell_type": "code",
      "execution_count": null,
      "metadata": {
        "id": "fF1f4rhDVE2r"
      },
      "outputs": [],
      "source": [
        "# Helper function to display confusion matrix\n",
        "def display_confusion_matrix(X_test, y_test, model):\n",
        "    y_predict = model.predict(X_test)\n",
        "    matrix = confusion_matrix(y_test, y_predict)\n",
        "    fig = plt.figure(figsize=(10,10))\n",
        "    sns.heatmap(\n",
        "        matrix, \n",
        "        xticklabels=range(1,8),\n",
        "        yticklabels=range(1,8),\n",
        "        linewidth=0.5, \n",
        "        cmap='coolwarm', \n",
        "        annot=True, \n",
        "        cbar=True,\n",
        "        square=True)\n",
        "    plt.title('HeatMap for the model')\n",
        "    plt.ylabel('Actual Value')\n",
        "    plt.xlabel('Predicted Value')\n",
        "    plt.show()\n"
      ]
    },
    {
      "cell_type": "code",
      "execution_count": null,
      "metadata": {
        "id": "wc7KVLWZVMbG"
      },
      "outputs": [],
      "source": [
        "shapes = ['ovo', 'ovr']\n",
        "\n",
        "models = [\n",
        "    SVC(decision_function_shape=shape).fit(X_train, y_train)\n",
        "    for shape in shapes\n",
        "]\n"
      ]
    },
    {
      "cell_type": "code",
      "execution_count": null,
      "metadata": {
        "colab": {
          "base_uri": "https://localhost:8080/",
          "height": 281
        },
        "id": "nux9PXSCVOTp",
        "outputId": "87bf7213-b39a-4231-e49c-2e64ce76b65b"
      },
      "outputs": [],
      "source": [
        "accuracies = [model.score(X_test, y_test) for model in models]\n",
        "\n",
        "plt.bar(range(0, len(accuracies)), accuracies)\n",
        "plt.title('Shape vs Accuracy')\n",
        "plt.ylabel('Accuracy')\n",
        "plt.xticks(ticks=[0,1], labels=['One vs One', 'One vs Rest'])\n",
        "plt.show()\n"
      ]
    },
    {
      "cell_type": "code",
      "execution_count": null,
      "metadata": {
        "id": "7gZjpUZ-VRHH"
      },
      "outputs": [],
      "source": [
        "print(pd.DataFrame(columns=['Shape', 'Accuracy'],\n",
        "             data=zip(shapes, accuracies)))\n"
      ]
    },
    {
      "cell_type": "code",
      "execution_count": null,
      "metadata": {
        "colab": {
          "base_uri": "https://localhost:8080/",
          "height": 621
        },
        "id": "aLYNrBs_VX6M",
        "outputId": "8460df1d-2d97-4db2-8b03-a776c493bbcf"
      },
      "outputs": [],
      "source": [
        "y_pred = models[0].predict(X_test)\n",
        "cm = confusion_matrix(y_test, y_pred)\n",
        "fig = plt.figure(figsize=(10,10))\n",
        "sns.heatmap(\n",
        "    cm, \n",
        "    xticklabels=range(1,8),\n",
        "    yticklabels=range(1,8)\n",
        ")\n",
        "plt.title(f'HeatMap for the {shapes[0]} model')\n",
        "plt.ylabel('Actual Value')\n",
        "plt.xlabel('Predicted Value')\n",
        "plt.show()"
      ]
    },
    {
      "cell_type": "code",
      "execution_count": null,
      "metadata": {
        "colab": {
          "base_uri": "https://localhost:8080/",
          "height": 621
        },
        "id": "NnOijGiAVjq5",
        "outputId": "e7e15e45-eeeb-4d11-de4d-2ac0ea5cfbd2"
      },
      "outputs": [],
      "source": [
        "y_pred = models[0].predict(X_test)\n",
        "cm = confusion_matrix(y_test, y_pred)\n",
        "fig = plt.figure(figsize=(10,10))\n",
        "sns.heatmap(\n",
        "    cm, \n",
        "    xticklabels=range(1,8),\n",
        "    yticklabels=range(1,8)\n",
        ")\n",
        "plt.title(f'HeatMap for the {shapes[0]} model')\n",
        "plt.ylabel('Actual Value')\n",
        "plt.xlabel('Predicted Value')\n",
        "plt.show()"
      ]
    }
  ],
  "metadata": {
    "colab": {
      "provenance": []
    },
    "kernelspec": {
      "display_name": "Python 3",
      "language": "python",
      "name": "python3"
    },
    "language_info": {
      "name": "python",
      "version": "3.10.7 (main, Oct 26 2022, 14:14:16) [Clang 14.0.0 (clang-1400.0.29.102)]"
    },
    "vscode": {
      "interpreter": {
        "hash": "5f90c9c72ce04906de37d4c67574a63377e4fd7d3965d8d2cd20954f66a8e417"
      }
    }
  },
  "nbformat": 4,
  "nbformat_minor": 0
}
