{
  "cells": [
    {
      "cell_type": "markdown",
      "metadata": {
        "id": "dmKrdkwQia2n"
      },
      "source": [
        "# Assignment 4 (Forest Cover)\n",
        "\n",
        "- Name: **Arnab Sen**\n",
        "- Roll: **510519006**\n",
        "- Date: **Sept 5, 2022**"
      ]
    },
    {
      "cell_type": "code",
      "execution_count": null,
      "metadata": {
        "id": "aDfG2dVaiVvo"
      },
      "outputs": [],
      "source": [
        "from google.colab import drive\n",
        "import pandas as pd\n",
        "from sklearn.preprocessing import StandardScaler\n",
        "from sklearn.model_selection import train_test_split\n",
        "from sklearn.svm import SVC\n",
        "from sklearn.metrics import f1_score\n",
        "import matplotlib.pyplot as plt\n",
        "from sklearn.model_selection import GridSearchCV\n",
        "import numpy as np"
      ]
    },
    {
      "cell_type": "code",
      "execution_count": null,
      "metadata": {
        "colab": {
          "base_uri": "https://localhost:8080/"
        },
        "id": "Bv5JoFI7ii10",
        "outputId": "9a06e2c0-228c-4cfb-b324-a34bbea83003"
      },
      "outputs": [],
      "source": [
        "drive.mount('/content/drive')\n",
        "BASE_PATH = '/content/drive/MyDrive/Colab_Notebooks/ML_DRIVE/Assign_4/dataset'"
      ]
    },
    {
      "cell_type": "code",
      "execution_count": null,
      "metadata": {
        "colab": {
          "base_uri": "https://localhost:8080/"
        },
        "id": "Y9j6cx6silRD",
        "outputId": "e74cbbf5-1ff9-4fb7-ea5a-17b6dd48021b"
      },
      "outputs": [],
      "source": [
        "dataset = pd.read_csv(f\"{BASE_PATH}/train_and_test2.csv\")\n",
        "print(\"Dataset shape:\", dataset.shape)\n",
        "print(\"Dataset columns:\", dataset.columns)"
      ]
    },
    {
      "cell_type": "code",
      "execution_count": null,
      "metadata": {
        "colab": {
          "base_uri": "https://localhost:8080/"
        },
        "id": "BMlNgwQai9tX",
        "outputId": "e59a67a2-40b1-469a-8512-c2bb52bf3947"
      },
      "outputs": [],
      "source": [
        "# Let's check for missing values once\n",
        "dataset.isnull().sum()"
      ]
    },
    {
      "cell_type": "code",
      "execution_count": null,
      "metadata": {
        "colab": {
          "base_uri": "https://localhost:8080/"
        },
        "id": "ZnWg0PQAj9qF",
        "outputId": "b2244461-cecb-4a74-f126-58b2387a68a3"
      },
      "outputs": [],
      "source": [
        "columns_to_drop = ['Passengerid', 'zero', 'zero.1', 'zero.2', 'zero.3', 'zero.4', 'zero.5', 'zero.6', 'zero.7', 'zero.8', 'zero.9', 'zero.10', 'zero.11', 'zero.12', 'zero.13', 'zero.14', 'zero.15', 'zero.16', 'zero.17', 'zero.18']\n",
        "dataset = dataset.drop(columns_to_drop, axis=1)\n",
        "dataset.info()"
      ]
    },
    {
      "cell_type": "code",
      "execution_count": null,
      "metadata": {
        "colab": {
          "base_uri": "https://localhost:8080/"
        },
        "id": "wcEC6j8jkcbG",
        "outputId": "14cb4c22-e566-4f6b-8eaf-2d8d4e208d4f"
      },
      "outputs": [],
      "source": [
        "encoded_cols = [\"Pclass\", \"Embarked\"]\n",
        "dataset = pd.get_dummies(dataset, columns=encoded_cols)\n",
        "dataset.info()"
      ]
    },
    {
      "cell_type": "code",
      "execution_count": null,
      "metadata": {
        "colab": {
          "base_uri": "https://localhost:8080/",
          "height": 206
        },
        "id": "A1XVDbjXIwje",
        "outputId": "f19ac17b-f411-4db9-fdf2-af5176e667ed"
      },
      "outputs": [],
      "source": [
        "scaled_cols = ['Age','Fare']\n",
        "\n",
        "for col in scaled_cols:\n",
        "    scaler = StandardScaler()\n",
        "    dataset[[col]] = pd.DataFrame(\n",
        "        data=scaler.fit_transform(dataset[[col]]),\n",
        "        index=dataset.index,\n",
        "        columns=[col]\n",
        "    )\n",
        "\n",
        "dataset.head()"
      ]
    },
    {
      "cell_type": "code",
      "execution_count": null,
      "metadata": {
        "id": "nHZVR6rdI4hp"
      },
      "outputs": [],
      "source": [
        "X = dataset.drop('2urvived', axis=1)\n",
        "y = dataset['2urvived']"
      ]
    },
    {
      "cell_type": "code",
      "execution_count": null,
      "metadata": {
        "colab": {
          "base_uri": "https://localhost:8080/"
        },
        "id": "Kl-Y5HdaI-x-",
        "outputId": "a849684d-a313-4434-8593-e5716e1f41f7"
      },
      "outputs": [],
      "source": [
        "X_train, X_test, y_train, y_test = train_test_split(X, y, train_size=0.8)\n",
        "\n",
        "print(X_train.shape, y_train.shape)"
      ]
    },
    {
      "cell_type": "code",
      "execution_count": null,
      "metadata": {
        "id": "v3tNJxWoJQ8Z"
      },
      "outputs": [],
      "source": [
        "def svm_model_helper(X_train, y_train, X_test, y_test, kernel, degree): \n",
        "  model = SVC(kernel=kernel, degree=degree)\n",
        "  model.fit(X_train, y_train)\n",
        "  svm_predictions = model.predict(X_test)\n",
        "\n",
        "  accuracy = model.score(X_test, y_test)\n",
        "  f1 = f1_score(y_test, svm_predictions, average='macro')\n",
        "\n",
        "  return [kernel, degree, accuracy, f1]"
      ]
    },
    {
      "cell_type": "code",
      "execution_count": null,
      "metadata": {
        "colab": {
          "base_uri": "https://localhost:8080/",
          "height": 238
        },
        "id": "0_vOivfVJXdr",
        "outputId": "dfd208f9-a274-4921-dfa1-af27132766b6"
      },
      "outputs": [],
      "source": [
        "linear = svm_model_helper(X_train, y_train, X_test, y_test, 'linear', 1)\n",
        "poly2 = svm_model_helper(X_train, y_train, X_test, y_test, 'poly', 2)\n",
        "poly3 = svm_model_helper(X_train, y_train, X_test, y_test, 'poly', 3)\n",
        "poly5 = svm_model_helper(X_train, y_train, X_test, y_test, 'poly', 5)\n",
        "rbf = svm_model_helper(X_train, y_train, X_test, y_test, 'rbf', 1)\n",
        "sigmoid = svm_model_helper(X_train, y_train, X_test, y_test, 'sigmoid', 1)\n",
        "\n",
        "pd.DataFrame(\n",
        "    columns=['kernel', 'degree', 'accuracy', 'f1_score'],\n",
        "    data=[linear, poly2, poly3, poly5, rbf, sigmoid]\n",
        ")"
      ]
    },
    {
      "cell_type": "code",
      "execution_count": null,
      "metadata": {
        "id": "OZfgsHduJZRV"
      },
      "outputs": [],
      "source": [
        "X_train_new = X_train[['Age', 'Fare']]\n",
        "X_test_new = X_test[['Age', 'Fare']]"
      ]
    },
    {
      "cell_type": "code",
      "execution_count": null,
      "metadata": {
        "id": "9rEeDl1FL27p"
      },
      "outputs": [],
      "source": [
        "xr, yr = X_train_new.values, y_train.values\n",
        "x_min, x_max = xr[:, 0].min() - 0.1, xr[:, 0].max() + 0.1\n",
        "y_min, y_max = xr[:, 1].min() - 0.1, xr[:, 1].max() + 0.1\n",
        "xx, yy = np.meshgrid(np.arange(x_min, x_max, h),\n",
        "                    np.arange(y_min, y_max, h))\n",
        "def plotter(kernel, degree = 0):\n",
        "  poly3 = SVC(kernel=kernel, degree=degree)\n",
        "  poly3.fit(X_train_new, y_train)\n",
        "  poly3.fit(xr, yr)\n",
        "  Z = poly3.predict(np.c_[xx.ravel(), yy.ravel()])\n",
        "  Z = Z.reshape(xx.shape)\n",
        "  plt.contourf(xx, yy, Z, cmap=plt.cm.coolwarm, alpha=0.8)\n",
        "  plt.scatter(xr[:, 0], xr[:, 1], c=yr, cmap=plt.cm.coolwarm)\n",
        "  plt.xlabel('Age')\n",
        "  plt.ylabel('Fare')\n",
        "  plt.xlim(xx.min(), xx.max())\n",
        "  plt.ylim(yy.min(), yy.max())"
      ]
    },
    {
      "cell_type": "code",
      "execution_count": null,
      "metadata": {
        "colab": {
          "base_uri": "https://localhost:8080/",
          "height": 279
        },
        "id": "IfK7jhkIJbaQ",
        "outputId": "f3f27387-1afb-4566-ca15-8789dae304d3"
      },
      "outputs": [],
      "source": [
        "# linear = SVC(kernel='linear')\n",
        "# linear.fit(X_train_new, y_train)\n",
        "\n",
        "# plt.scatter(\n",
        "#     X_train_new['Age'], \n",
        "#     X_train_new['Fare'], \n",
        "#     c=y_train,\n",
        "#     s=6\n",
        "# )\n",
        "\n",
        "plotter('linear')"
      ]
    },
    {
      "cell_type": "code",
      "execution_count": null,
      "metadata": {
        "colab": {
          "base_uri": "https://localhost:8080/",
          "height": 279
        },
        "id": "o-wVLM6RKMbS",
        "outputId": "855aebbc-46da-4537-fd9e-a97277c15ead"
      },
      "outputs": [],
      "source": [
        "plotter('poly', 2)"
      ]
    },
    {
      "cell_type": "code",
      "execution_count": null,
      "metadata": {
        "colab": {
          "base_uri": "https://localhost:8080/",
          "height": 279
        },
        "id": "EhPyePqTKQQD",
        "outputId": "8894afba-0dba-424f-94c6-a8782d88fc44"
      },
      "outputs": [],
      "source": [
        "plotter('poly', 3)"
      ]
    },
    {
      "cell_type": "code",
      "execution_count": null,
      "metadata": {
        "colab": {
          "base_uri": "https://localhost:8080/",
          "height": 279
        },
        "id": "XclvtH8MKYmc",
        "outputId": "91215e89-9ab1-4b64-ad85-2bfd666d457b"
      },
      "outputs": [],
      "source": [
        "plotter('sigmoid')"
      ]
    },
    {
      "cell_type": "code",
      "execution_count": null,
      "metadata": {
        "colab": {
          "base_uri": "https://localhost:8080/",
          "height": 279
        },
        "id": "5NVzybDENfp_",
        "outputId": "c3cf86f5-16c8-4905-c7a5-150bfcbf8c53"
      },
      "outputs": [],
      "source": [
        "plotter('rbf')"
      ]
    },
    {
      "cell_type": "code",
      "execution_count": null,
      "metadata": {
        "id": "yox9Us_sKbkG"
      },
      "outputs": [],
      "source": [
        "def findOptimalC(X_train, y_train, X_test, y_test, start, end, step):\n",
        "    c = start\n",
        "    accuracies = []\n",
        "    C_values = []\n",
        "    while(c<=end):\n",
        "        \n",
        "        model = SVC(kernel='rbf', C=c, gamma=0.5)\n",
        "        model.fit(X_train, y_train)\n",
        "        acc = model.score(X_test, y_test)\n",
        "        \n",
        "        C_values.append(c)\n",
        "        accuracies.append(acc)\n",
        "        c+=step\n",
        "    \n",
        "    return [accuracies, C_values]"
      ]
    },
    {
      "cell_type": "code",
      "execution_count": null,
      "metadata": {
        "colab": {
          "base_uri": "https://localhost:8080/"
        },
        "id": "VQw2X67DKgbq",
        "outputId": "ff44d28d-468b-442a-eb09-7ad347395d10"
      },
      "outputs": [],
      "source": [
        "result = findOptimalC(X_train, y_train, X_test, y_test, 0.001, 100, 0.5)\n",
        "print(result)"
      ]
    },
    {
      "cell_type": "code",
      "execution_count": null,
      "metadata": {
        "colab": {
          "base_uri": "https://localhost:8080/"
        },
        "id": "ecQ1BSqoKiBM",
        "outputId": "bc10a05d-529f-44ab-f711-8255cca471ae"
      },
      "outputs": [],
      "source": [
        "result = findOptimalC(X_train, y_train, X_test, y_test, 0.001, 10, 0.1)\n",
        "print(result)"
      ]
    },
    {
      "cell_type": "code",
      "execution_count": null,
      "metadata": {
        "colab": {
          "base_uri": "https://localhost:8080/"
        },
        "id": "mFPFc4kaKjbl",
        "outputId": "7a4b7804-07b0-46d9-d180-206b1e0e41c5"
      },
      "outputs": [],
      "source": [
        "result = findOptimalC(X_train, y_train, X_test, y_test, 0.001, 1, 0.005)\n",
        "print(result)"
      ]
    },
    {
      "cell_type": "code",
      "execution_count": null,
      "metadata": {
        "colab": {
          "base_uri": "https://localhost:8080/"
        },
        "id": "N1ugQsuxKkkX",
        "outputId": "40591689-9e80-4ea9-dc35-2d0abd09e5fe"
      },
      "outputs": [],
      "source": [
        "ind = np.argmax(result[0], axis=0)\n",
        "optimal_c = result[1][ind]\n",
        "print(\"Optimal C:\",optimal_c)\n",
        "print(\"Accuracy:\", result[0][ind])"
      ]
    },
    {
      "cell_type": "code",
      "execution_count": null,
      "metadata": {
        "id": "ej4fok7aKn_B"
      },
      "outputs": [],
      "source": [
        "def findOptimalG(X_train, y_train, X_test, y_test, C, start, end, step):\n",
        "    g = start\n",
        "    accuracies = []\n",
        "    G_values = []\n",
        "    while(g<=end):\n",
        "        \n",
        "        model = SVC(kernel='rbf', C=C, gamma=g)\n",
        "        model.fit(X_train, y_train)\n",
        "        acc = model.score(X_test, y_test)\n",
        "        \n",
        "        G_values.append(g)\n",
        "        accuracies.append(acc)\n",
        "        g+=step\n",
        "    \n",
        "    return [accuracies, G_values]"
      ]
    },
    {
      "cell_type": "code",
      "execution_count": null,
      "metadata": {
        "colab": {
          "base_uri": "https://localhost:8080/"
        },
        "id": "kb4P8Tg_Ktzi",
        "outputId": "66e37b3e-ebdc-4a2a-c60f-d047256832cf"
      },
      "outputs": [],
      "source": [
        "result = findOptimalG(X_train, y_train, X_test, y_test, optimal_c, 0.01, 10, 0.05)\n",
        "print(result)"
      ]
    },
    {
      "cell_type": "code",
      "execution_count": null,
      "metadata": {
        "colab": {
          "base_uri": "https://localhost:8080/"
        },
        "id": "__Tbz54FLPNP",
        "outputId": "cbb3e9d1-e2ae-4a94-b5d4-8aa25943848f"
      },
      "outputs": [],
      "source": [
        "result = findOptimalG(X_train, y_train, X_test, y_test, optimal_c, 0.01, 1, 0.005)\n",
        "print(result)"
      ]
    },
    {
      "cell_type": "code",
      "execution_count": null,
      "metadata": {
        "colab": {
          "base_uri": "https://localhost:8080/"
        },
        "id": "fes25j9KLVNV",
        "outputId": "17af1ea0-0013-40b4-94be-e42f53bca254"
      },
      "outputs": [],
      "source": [
        "ind = np.argmax(result[0], axis=0)\n",
        "optimal_g = result[1][ind]\n",
        "print(\"Optimal G:\",optimal_g)\n",
        "print(\"Accuracy:\", result[0][ind])"
      ]
    },
    {
      "cell_type": "code",
      "execution_count": null,
      "metadata": {
        "id": "c9yozBnkLXcc"
      },
      "outputs": [],
      "source": [
        "C_values = np.arange(0.01, 1, 0.05)\n",
        "G_values = np.arange(0.01, 1, 0.05)"
      ]
    },
    {
      "cell_type": "code",
      "execution_count": null,
      "metadata": {
        "colab": {
          "base_uri": "https://localhost:8080/"
        },
        "id": "gzlmo7FsOcmy",
        "outputId": "7da6f55c-7f96-4dbf-e54f-f29a59da645a"
      },
      "outputs": [],
      "source": [
        "param_grid = {'C': C_values, 'gamma': G_values,'kernel': ['rbf']}\n",
        "grid = GridSearchCV(SVC(),param_grid)\n",
        "grid.fit(X_train,y_train)"
      ]
    },
    {
      "cell_type": "code",
      "execution_count": null,
      "metadata": {
        "colab": {
          "base_uri": "https://localhost:8080/"
        },
        "id": "rQual1XFO4tD",
        "outputId": "90dff593-ed5a-4d2c-8568-e25645de173c"
      },
      "outputs": [],
      "source": [
        "print(grid.best_estimator_)"
      ]
    },
    {
      "cell_type": "code",
      "execution_count": null,
      "metadata": {
        "colab": {
          "base_uri": "https://localhost:8080/"
        },
        "id": "tUWC92AzO7Cd",
        "outputId": "35d8852c-59d6-4967-cb2c-d0e59c01a9e1"
      },
      "outputs": [],
      "source": [
        "acc = grid.score(X_test, y_test)\n",
        "print(\"Accuracy:\", acc)"
      ]
    }
  ],
  "metadata": {
    "colab": {
      "collapsed_sections": [],
      "provenance": []
    },
    "kernelspec": {
      "display_name": "Python 3",
      "language": "python",
      "name": "python3"
    },
    "language_info": {
      "name": "python",
      "version": "3.10.7 (main, Oct 26 2022, 14:14:16) [Clang 14.0.0 (clang-1400.0.29.102)]"
    },
    "vscode": {
      "interpreter": {
        "hash": "5f90c9c72ce04906de37d4c67574a63377e4fd7d3965d8d2cd20954f66a8e417"
      }
    }
  },
  "nbformat": 4,
  "nbformat_minor": 0
}
